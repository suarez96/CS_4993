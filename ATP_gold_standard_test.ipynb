{
 "cells": [
  {
   "cell_type": "code",
   "execution_count": 1,
   "metadata": {},
   "outputs": [
    {
     "name": "stderr",
     "output_type": "stream",
     "text": [
      "[nltk_data] Downloading package punkt to\n",
      "[nltk_data]     C:\\Users\\augus\\AppData\\Roaming\\nltk_data...\n",
      "[nltk_data]   Package punkt is already up-to-date!\n"
     ]
    }
   ],
   "source": [
    "# TFIDF\n",
    "from sklearn.feature_extraction.text import TfidfVectorizer\n",
    "import joblib\n",
    "\n",
    "#Doc2Vec\n",
    "from sklearn.model_selection import train_test_split\n",
    "from gensim.models.doc2vec import Doc2Vec, TaggedDocument\n",
    "from nltk.tokenize import word_tokenize\n",
    "from gensim.models.doc2vec import Doc2Vec\n",
    "from nltk.tokenize.treebank import TreebankWordDetokenizer\n",
    "\n",
    "# general purpose\n",
    "import os\n",
    "import numpy as np\n",
    "import pandas as pd\n",
    "import time\n",
    "import pickle\n",
    "from tqdm import tqdm\n",
    "from collections import Counter\n",
    "\n",
    "#sklearn classifiers\n",
    "from sklearn.svm import SVC\n",
    "from sklearn.neighbors import KNeighborsClassifier\n",
    "from sklearn.ensemble import RandomForestClassifier\n",
    "from sklearn.model_selection import train_test_split\n",
    "\n",
    "# custom classes\n",
    "from scripts.OccupationPreprocessor import OccupationPreprocessor\n",
    "from scripts.TextPreprocessor import TextPreprocessor\n",
    "from scripts.Embedder import Embedder"
   ]
  },
  {
   "cell_type": "code",
   "execution_count": 27,
   "metadata": {},
   "outputs": [],
   "source": [
    "files = ['./Data/ATP_gold_standard.xlsx', './Data/TFIDF_ATP_test_data_without_8000_samples_seed_42.csv']\n",
    "input_columns = ['CURRENT_JOB_TITLE', 'input']\n",
    "code_columns = ['NOC code by PATH', 'code']\n",
    "\n",
    "TEST_FILE = 0"
   ]
  },
  {
   "cell_type": "code",
   "execution_count": 28,
   "metadata": {},
   "outputs": [
    {
     "name": "stdout",
     "output_type": "stream",
     "text": [
      "Input unprocessed by default\n"
     ]
    }
   ],
   "source": [
    "train_df = pd.DataFrame(pd.read_csv('./Data/doc2vec_cleaned_train_data_with_8000_ATP_seed_42.csv'))\n",
    "\n",
    "# take data\n",
    "# TODO fix this so it doesn't need to be an if statement, simple type check, 'int' does not have function \"strip\"\n",
    "if TEST_FILE == 0:\n",
    "    df = OccupationPreprocessor.prepare_df(\n",
    "        files[TEST_FILE],\n",
    "        input_column=input_columns[TEST_FILE],\n",
    "        code_column=code_columns[TEST_FILE],\n",
    "        n_digits=4\n",
    "    )\n",
    "    \n",
    "elif TEST_FILE == 1:\n",
    "    df = pd.read_csv(files[TEST_FILE])\n",
    "    \n",
    "\n",
    "# copy clean\n",
    "d2v_data = df.copy()\n",
    "d2v_data['input'] = d2v_data['input'].apply(TextPreprocessor.preprocess_text)\n",
    "\n",
    "# copy uncleaned\n",
    "tfidf_data = df.copy()\n",
    "tfidf_data['input'] = tfidf_data['input'].apply(str.lower)"
   ]
  },
  {
   "cell_type": "markdown",
   "metadata": {},
   "source": [
    "# Check for Exact Matches on Cleaned Data"
   ]
  },
  {
   "cell_type": "code",
   "execution_count": 29,
   "metadata": {},
   "outputs": [],
   "source": [
    "predictions = pd.DataFrame()\n",
    "predictions['exact_match'] = d2v_data['input'].apply(Embedder.check_exact_match, args=(train_df,))\n",
    "predictions['code'] = d2v_data['code']"
   ]
  },
  {
   "cell_type": "markdown",
   "metadata": {},
   "source": [
    "## How many did we correctly find in exact matches?"
   ]
  },
  {
   "cell_type": "code",
   "execution_count": 30,
   "metadata": {},
   "outputs": [],
   "source": [
    "predictions['exact_matches_TP'] = predictions.apply(lambda row: str(row['exact_match']) == str(row['code']), axis=1)"
   ]
  },
  {
   "cell_type": "markdown",
   "metadata": {},
   "source": [
    "# Load the 3 Trained Models"
   ]
  },
  {
   "cell_type": "code",
   "execution_count": 31,
   "metadata": {},
   "outputs": [],
   "source": [
    "doc2vec_model = Doc2Vec.load('trial_11.model')\n",
    "\n",
    "with open('TFIDF_SVM_KNN_LR.pkl', 'rb') as f:\n",
    "    tfidf_classifiers = pickle.load(f)\n",
    "\n",
    "tfidf_model = joblib.load('vectorizer.joblib')"
   ]
  },
  {
   "cell_type": "markdown",
   "metadata": {},
   "source": [
    "# TFIDF Embedding"
   ]
  },
  {
   "cell_type": "code",
   "execution_count": 32,
   "metadata": {},
   "outputs": [],
   "source": [
    "tfidf_input_vector = tfidf_model.transform(tfidf_data['input'])"
   ]
  },
  {
   "cell_type": "markdown",
   "metadata": {},
   "source": [
    "# Make predictions with classifiers"
   ]
  },
  {
   "cell_type": "code",
   "execution_count": 33,
   "metadata": {},
   "outputs": [
    {
     "name": "stdout",
     "output_type": "stream",
     "text": [
      "Time elapsed to predict on 500 samples: 17.067100286483765 seconds\n"
     ]
    }
   ],
   "source": [
    "start_time = time.time()\n",
    "for clf in tfidf_classifiers.keys():\n",
    "    predictions['{}_pred'.format(str(clf))] = tfidf_classifiers[clf].predict(tfidf_input_vector)\n",
    "print('Time elapsed to predict on {} samples: {} seconds'.format(tfidf_input_vector.shape[0], time.time()-start_time))"
   ]
  },
  {
   "cell_type": "code",
   "execution_count": 39,
   "metadata": {},
   "outputs": [],
   "source": [
    "predictions['Ens_pred'] = predictions.apply(Embedder.ensemble_predict, axis = 1, args = (['LR_pred', 'KNN_pred', 'SVM_pred'], 'SVM_pred',))"
   ]
  },
  {
   "cell_type": "code",
   "execution_count": 40,
   "metadata": {},
   "outputs": [],
   "source": [
    "predictions['Hybrid_pred'] = predictions.apply(\n",
    "    lambda row : row['Ens_pred'] if row['exact_match'] == -1 else row['exact_match'], axis = 1\n",
    ")"
   ]
  },
  {
   "cell_type": "code",
   "execution_count": 41,
   "metadata": {},
   "outputs": [
    {
     "name": "stdout",
     "output_type": "stream",
     "text": [
      "Hybrid accuracy 0.55\n"
     ]
    }
   ],
   "source": [
    "from sklearn.metrics import accuracy_score, f1_score\n",
    "\n",
    "print(\n",
    "    'Hybrid accuracy {}'.format( \n",
    "        accuracy_score(\n",
    "            predictions['Hybrid_pred'], \n",
    "            predictions['code']\n",
    "        )\n",
    "     )\n",
    " )"
   ]
  },
  {
   "cell_type": "code",
   "execution_count": 43,
   "metadata": {
    "scrolled": true
   },
   "outputs": [
    {
     "data": {
      "text/html": [
       "<div>\n",
       "<style scoped>\n",
       "    .dataframe tbody tr th:only-of-type {\n",
       "        vertical-align: middle;\n",
       "    }\n",
       "\n",
       "    .dataframe tbody tr th {\n",
       "        vertical-align: top;\n",
       "    }\n",
       "\n",
       "    .dataframe thead th {\n",
       "        text-align: right;\n",
       "    }\n",
       "</style>\n",
       "<table border=\"1\" class=\"dataframe\">\n",
       "  <thead>\n",
       "    <tr style=\"text-align: right;\">\n",
       "      <th></th>\n",
       "      <th>exact_match</th>\n",
       "      <th>code</th>\n",
       "      <th>exact_matches_TP</th>\n",
       "      <th>SVM_pred</th>\n",
       "      <th>KNN_pred</th>\n",
       "      <th>LR_pred</th>\n",
       "      <th>Ens_pred</th>\n",
       "      <th>Hybrid_pred</th>\n",
       "    </tr>\n",
       "  </thead>\n",
       "  <tbody>\n",
       "    <tr>\n",
       "      <th>346</th>\n",
       "      <td>2174</td>\n",
       "      <td>6221</td>\n",
       "      <td>False</td>\n",
       "      <td>4154</td>\n",
       "      <td>11</td>\n",
       "      <td>9619</td>\n",
       "      <td>9619</td>\n",
       "      <td>2174</td>\n",
       "    </tr>\n",
       "    <tr>\n",
       "      <th>302</th>\n",
       "      <td>-1</td>\n",
       "      <td>712</td>\n",
       "      <td>False</td>\n",
       "      <td>712</td>\n",
       "      <td>712</td>\n",
       "      <td>7205</td>\n",
       "      <td>712</td>\n",
       "      <td>712</td>\n",
       "    </tr>\n",
       "    <tr>\n",
       "      <th>58</th>\n",
       "      <td>-1</td>\n",
       "      <td>4164</td>\n",
       "      <td>False</td>\n",
       "      <td>3111</td>\n",
       "      <td>5244</td>\n",
       "      <td>3111</td>\n",
       "      <td>3111</td>\n",
       "      <td>3111</td>\n",
       "    </tr>\n",
       "    <tr>\n",
       "      <th>10</th>\n",
       "      <td>-1</td>\n",
       "      <td>6341</td>\n",
       "      <td>False</td>\n",
       "      <td>6341</td>\n",
       "      <td>6562</td>\n",
       "      <td>6562</td>\n",
       "      <td>6562</td>\n",
       "      <td>6562</td>\n",
       "    </tr>\n",
       "    <tr>\n",
       "      <th>287</th>\n",
       "      <td>-1</td>\n",
       "      <td>2263</td>\n",
       "      <td>False</td>\n",
       "      <td>2222</td>\n",
       "      <td>2222</td>\n",
       "      <td>2222</td>\n",
       "      <td>2222</td>\n",
       "      <td>2222</td>\n",
       "    </tr>\n",
       "    <tr>\n",
       "      <th>238</th>\n",
       "      <td>-1</td>\n",
       "      <td>3211</td>\n",
       "      <td>False</td>\n",
       "      <td>4154</td>\n",
       "      <td>11</td>\n",
       "      <td>9619</td>\n",
       "      <td>9619</td>\n",
       "      <td>9619</td>\n",
       "    </tr>\n",
       "    <tr>\n",
       "      <th>297</th>\n",
       "      <td>9232</td>\n",
       "      <td>9232</td>\n",
       "      <td>True</td>\n",
       "      <td>9232</td>\n",
       "      <td>9232</td>\n",
       "      <td>9232</td>\n",
       "      <td>9232</td>\n",
       "      <td>9232</td>\n",
       "    </tr>\n",
       "    <tr>\n",
       "      <th>80</th>\n",
       "      <td>3141</td>\n",
       "      <td>3141</td>\n",
       "      <td>True</td>\n",
       "      <td>3141</td>\n",
       "      <td>3141</td>\n",
       "      <td>3141</td>\n",
       "      <td>3141</td>\n",
       "      <td>3141</td>\n",
       "    </tr>\n",
       "    <tr>\n",
       "      <th>222</th>\n",
       "      <td>-1</td>\n",
       "      <td>5131</td>\n",
       "      <td>False</td>\n",
       "      <td>5131</td>\n",
       "      <td>821</td>\n",
       "      <td>821</td>\n",
       "      <td>821</td>\n",
       "      <td>821</td>\n",
       "    </tr>\n",
       "    <tr>\n",
       "      <th>19</th>\n",
       "      <td>-1</td>\n",
       "      <td>2171</td>\n",
       "      <td>False</td>\n",
       "      <td>1112</td>\n",
       "      <td>1111</td>\n",
       "      <td>2171</td>\n",
       "      <td>2171</td>\n",
       "      <td>2171</td>\n",
       "    </tr>\n",
       "  </tbody>\n",
       "</table>\n",
       "</div>"
      ],
      "text/plain": [
       "     exact_match  code  exact_matches_TP  SVM_pred  KNN_pred  LR_pred  \\\n",
       "346         2174  6221             False      4154        11     9619   \n",
       "302           -1   712             False       712       712     7205   \n",
       "58            -1  4164             False      3111      5244     3111   \n",
       "10            -1  6341             False      6341      6562     6562   \n",
       "287           -1  2263             False      2222      2222     2222   \n",
       "238           -1  3211             False      4154        11     9619   \n",
       "297         9232  9232              True      9232      9232     9232   \n",
       "80          3141  3141              True      3141      3141     3141   \n",
       "222           -1  5131             False      5131       821      821   \n",
       "19            -1  2171             False      1112      1111     2171   \n",
       "\n",
       "     Ens_pred  Hybrid_pred  \n",
       "346      9619         2174  \n",
       "302       712          712  \n",
       "58       3111         3111  \n",
       "10       6562         6562  \n",
       "287      2222         2222  \n",
       "238      9619         9619  \n",
       "297      9232         9232  \n",
       "80       3141         3141  \n",
       "222       821          821  \n",
       "19       2171         2171  "
      ]
     },
     "execution_count": 43,
     "metadata": {},
     "output_type": "execute_result"
    }
   ],
   "source": [
    "predictions.sample(10)"
   ]
  },
  {
   "cell_type": "code",
   "execution_count": 25,
   "metadata": {},
   "outputs": [
    {
     "data": {
      "text/html": [
       "<div>\n",
       "<style scoped>\n",
       "    .dataframe tbody tr th:only-of-type {\n",
       "        vertical-align: middle;\n",
       "    }\n",
       "\n",
       "    .dataframe tbody tr th {\n",
       "        vertical-align: top;\n",
       "    }\n",
       "\n",
       "    .dataframe thead th {\n",
       "        text-align: right;\n",
       "    }\n",
       "</style>\n",
       "<table border=\"1\" class=\"dataframe\">\n",
       "  <thead>\n",
       "    <tr style=\"text-align: right;\">\n",
       "      <th></th>\n",
       "      <th>input</th>\n",
       "      <th>code</th>\n",
       "    </tr>\n",
       "  </thead>\n",
       "  <tbody>\n",
       "    <tr>\n",
       "      <th>3479</th>\n",
       "      <td>part owner</td>\n",
       "      <td>213</td>\n",
       "    </tr>\n",
       "  </tbody>\n",
       "</table>\n",
       "</div>"
      ],
      "text/plain": [
       "           input  code\n",
       "3479  part owner   213"
      ]
     },
     "execution_count": 25,
     "metadata": {},
     "output_type": "execute_result"
    }
   ],
   "source": [
    "tfidf_data[tfidf_data.index == 3479]"
   ]
  },
  {
   "cell_type": "code",
   "execution_count": 26,
   "metadata": {},
   "outputs": [
    {
     "data": {
      "text/html": [
       "<div>\n",
       "<style scoped>\n",
       "    .dataframe tbody tr th:only-of-type {\n",
       "        vertical-align: middle;\n",
       "    }\n",
       "\n",
       "    .dataframe tbody tr th {\n",
       "        vertical-align: top;\n",
       "    }\n",
       "\n",
       "    .dataframe thead th {\n",
       "        text-align: right;\n",
       "    }\n",
       "</style>\n",
       "<table border=\"1\" class=\"dataframe\">\n",
       "  <thead>\n",
       "    <tr style=\"text-align: right;\">\n",
       "      <th></th>\n",
       "      <th>input</th>\n",
       "      <th>code</th>\n",
       "    </tr>\n",
       "  </thead>\n",
       "  <tbody>\n",
       "    <tr>\n",
       "      <th>30783</th>\n",
       "      <td>part owner</td>\n",
       "      <td>1311</td>\n",
       "    </tr>\n",
       "  </tbody>\n",
       "</table>\n",
       "</div>"
      ],
      "text/plain": [
       "            input  code\n",
       "30783  part owner  1311"
      ]
     },
     "execution_count": 26,
     "metadata": {},
     "output_type": "execute_result"
    }
   ],
   "source": [
    "train_df[train_df['input'] == 'part owner']"
   ]
  },
  {
   "cell_type": "code",
   "execution_count": 15,
   "metadata": {},
   "outputs": [],
   "source": [
    "# Adding doc2vec prediction weight and exceptions post-processing"
   ]
  }
 ],
 "metadata": {
  "kernelspec": {
   "display_name": "Python 3",
   "language": "python",
   "name": "python3"
  },
  "language_info": {
   "codemirror_mode": {
    "name": "ipython",
    "version": 3
   },
   "file_extension": ".py",
   "mimetype": "text/x-python",
   "name": "python",
   "nbconvert_exporter": "python",
   "pygments_lexer": "ipython3",
   "version": "3.7.9"
  }
 },
 "nbformat": 4,
 "nbformat_minor": 2
}
