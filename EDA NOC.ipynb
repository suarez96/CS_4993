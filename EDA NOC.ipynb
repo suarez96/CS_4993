{
 "cells": [
  {
   "cell_type": "markdown",
   "metadata": {
    "id": "OUFfr9GMBM0F"
   },
   "source": [
    "# Mount Files from Drive"
   ]
  },
  {
   "cell_type": "code",
   "execution_count": null,
   "metadata": {
    "colab": {
     "base_uri": "https://localhost:8080/",
     "height": 36
    },
    "executionInfo": {
     "elapsed": 482,
     "status": "ok",
     "timestamp": 1602283174939,
     "user": {
      "displayName": "Augusto Suarez",
      "photoUrl": "https://lh3.googleusercontent.com/a-/AOh14Gh-L8Zz0VgrA4IkXJW-J6TWQaOde13RXj7wSR0P=s64",
      "userId": "05858047290514616239"
     },
     "user_tz": 180
    },
    "id": "VH0YZAW0BJof",
    "outputId": "ca9f2483-5567-4b8a-d463-3ec827e39e95",
    "scrolled": true
   },
   "outputs": [],
   "source": [
    "from google.colab import drive\n",
    "drive.mount('/content/drive')"
   ]
  },
  {
   "cell_type": "code",
   "execution_count": null,
   "metadata": {
    "colab": {
     "base_uri": "https://localhost:8080/",
     "height": 36
    },
    "executionInfo": {
     "elapsed": 490,
     "status": "ok",
     "timestamp": 1602283179582,
     "user": {
      "displayName": "Augusto Suarez",
      "photoUrl": "https://lh3.googleusercontent.com/a-/AOh14Gh-L8Zz0VgrA4IkXJW-J6TWQaOde13RXj7wSR0P=s64",
      "userId": "05858047290514616239"
     },
     "user_tz": 180
    },
    "id": "I3YIhXGHBsAu",
    "outputId": "e590603b-629e-4aad-a671-61e3cbec0219",
    "scrolled": true
   },
   "outputs": [],
   "source": [
    "!sudo unzip 'drive/My Drive/noc_data.zip' | N"
   ]
  },
  {
   "cell_type": "code",
   "execution_count": null,
   "metadata": {
    "colab": {
     "base_uri": "https://localhost:8080/",
     "height": 55
    },
    "executionInfo": {
     "elapsed": 742,
     "status": "ok",
     "timestamp": 1602283192167,
     "user": {
      "displayName": "Augusto Suarez",
      "photoUrl": "https://lh3.googleusercontent.com/a-/AOh14Gh-L8Zz0VgrA4IkXJW-J6TWQaOde13RXj7wSR0P=s64",
      "userId": "05858047290514616239"
     },
     "user_tz": 180
    },
    "id": "bmG9DYF_B71b",
    "outputId": "183df39c-8a44-46dc-d27a-5e942443d945"
   },
   "outputs": [],
   "source": [
    "!ls *csv"
   ]
  },
  {
   "cell_type": "code",
   "execution_count": 1,
   "metadata": {
    "executionInfo": {
     "elapsed": 1667,
     "status": "ok",
     "timestamp": 1602283195283,
     "user": {
      "displayName": "Augusto Suarez",
      "photoUrl": "https://lh3.googleusercontent.com/a-/AOh14Gh-L8Zz0VgrA4IkXJW-J6TWQaOde13RXj7wSR0P=s64",
      "userId": "05858047290514616239"
     },
     "user_tz": 180
    },
    "id": "pUSE_LuVBDy3"
   },
   "outputs": [],
   "source": [
    "import pandas as pd\n",
    "import seaborn as sns\n",
    "import plotly.graph_objects as go\n",
    "import plotly.express as px\n",
    "import numpy as np\n",
    "import matplotlib.pyplot as plt\n",
    "import os"
   ]
  },
  {
   "cell_type": "code",
   "execution_count": null,
   "metadata": {},
   "outputs": [],
   "source": [
    "# if NOT working in colab\n",
    "data_dir = './data'\n",
    "\n",
    "# if working in colab\n",
    "# data_dir = './'"
   ]
  },
  {
   "cell_type": "code",
   "execution_count": null,
   "metadata": {
    "executionInfo": {
     "elapsed": 504,
     "status": "ok",
     "timestamp": 1602283197063,
     "user": {
      "displayName": "Augusto Suarez",
      "photoUrl": "https://lh3.googleusercontent.com/a-/AOh14Gh-L8Zz0VgrA4IkXJW-J6TWQaOde13RXj7wSR0P=s64",
      "userId": "05858047290514616239"
     },
     "user_tz": 180
    },
    "id": "bgL7dFxsBDzE"
   },
   "outputs": [],
   "source": [
    "df_skill_type = pd.read_csv(os.path.join(data_dir, 'NOC_skilltype.csv'))\n",
    "df_major_group = pd.read_csv(os.path.join(data_dir, './NOC_majorgroup.csv'))\n",
    "df_minor_group = pd.read_csv(os.path.join(data_dir, './NOC_minorgroup.csv'))\n",
    "df = pd.read_csv(os.path.join(data_dir, './noc_data_get_byws_dealing_slash.csv'))"
   ]
  },
  {
   "cell_type": "code",
   "execution_count": null,
   "metadata": {
    "executionInfo": {
     "elapsed": 921,
     "status": "ok",
     "timestamp": 1602283198066,
     "user": {
      "displayName": "Augusto Suarez",
      "photoUrl": "https://lh3.googleusercontent.com/a-/AOh14Gh-L8Zz0VgrA4IkXJW-J6TWQaOde13RXj7wSR0P=s64",
      "userId": "05858047290514616239"
     },
     "user_tz": 180
    },
    "id": "6PpDSh88BDzJ"
   },
   "outputs": [],
   "source": [
    "# pad missing digits from noc codes\n",
    "df['Noc_code'] = df['Noc_code'].apply(lambda x: '{0:0>4}'.format(x))"
   ]
  },
  {
   "cell_type": "code",
   "execution_count": null,
   "metadata": {},
   "outputs": [],
   "source": [
    "# key is abbreviation, value is expanded occupation\n",
    "abbreviations_map = {}\n",
    "STRIP_ABBREVIATIONS = True\n",
    "\n",
    "\n",
    "def handle_single_quotes(text):\n",
    "    \"\"\"\n",
    "    handle plurals, which are the main use of the single quote. Afterwards, drop all other single quotes\n",
    "    \"\"\"\n",
    "    text = text.replace(\"s'\", '').replace(\"'s\", '')\n",
    "    return text.replace(\"'\", '')\n",
    "\n",
    "def handle_parentheses(text, strip_abbrev):\n",
    "    \"\"\"\n",
    "    Parentheses seem to fall into two general cases in the VAST majority of instances:\n",
    "    1. Indicates an abbreviation\n",
    "    2. Indicates an exception, by using keywords such as \"except\" or \"non\"\n",
    "    \"\"\"\n",
    "    parentheses_idx = 0\n",
    "    split = text.split(\"(\")\n",
    "    for i, substr in enumerate(split):\n",
    "        if ')' in substr:\n",
    "            parentheses_idx = i\n",
    "            break\n",
    "    \n",
    "    # fragment before the fragment with the paren.\n",
    "    str1 = split[parentheses_idx-1].strip()\n",
    "    assert not ')' in str1\n",
    "    \n",
    "    # fragment w parenthesis\n",
    "    str2 = split[parentheses_idx].split(\")\")[0].strip()\n",
    "    \n",
    "    if 'except' in str2 or 'non' in str2:\n",
    "        text = text.replace(str2, '')\n",
    "        # TODO, do something with exceptions\n",
    "        \n",
    "    else:\n",
    "        # take the shorter string as the abbreviation\n",
    "        ab, ex = (str1, str2) if len(str1) < len(str2) else (str2, str1)\n",
    "    \n",
    "        # save abbreviation\n",
    "        abbreviations_map[ab] = ex\n",
    "        \n",
    "        # remove the found abbreviation from job title\n",
    "        if strip_abbrev:\n",
    "            text = text.replace(ab, '')\n",
    "\n",
    "    # remove parentheses, leading and trailing whitespace \n",
    "    text = text.replace('(','').replace(')','').strip()\n",
    "    \n",
    "    return text\n",
    "\n",
    "def preprocess_text(text, strip_abbrev=False):\n",
    "    \n",
    "    # handle slashes\n",
    "    text = text.replace(\"/\", ' ')\n",
    "    \n",
    "    # remove redundant semi-colons\n",
    "    text = text.strip(';')\n",
    "    \n",
    "    # hyphens are semantic noise, remove\n",
    "    text = text.replace('-', ' ')\n",
    "    \n",
    "    # handle '\n",
    "    if \"'\" in text:\n",
    "        text = handle_single_quotes(text)\n",
    "    \n",
    "    # handle ,\n",
    "    text = text.replace(\",\", '')\n",
    "    \n",
    "    # handle .\n",
    "    text = text.replace(\".\", '')\n",
    "    \n",
    "    # handle parentheses, only one check necessary since we already verified they are all paired with corresponding ')'\n",
    "    if \"(\" in text:\n",
    "        text = handle_parentheses(text, strip_abbrev=strip_abbrev)\n",
    "    \n",
    "    # remove leading and trailing whitespace\n",
    "    text = text.strip()\n",
    "    \n",
    "    # normalize case\n",
    "    return text.lower()"
   ]
  },
  {
   "cell_type": "code",
   "execution_count": null,
   "metadata": {
    "executionInfo": {
     "elapsed": 702,
     "status": "ok",
     "timestamp": 1602283198263,
     "user": {
      "displayName": "Augusto Suarez",
      "photoUrl": "https://lh3.googleusercontent.com/a-/AOh14Gh-L8Zz0VgrA4IkXJW-J6TWQaOde13RXj7wSR0P=s64",
      "userId": "05858047290514616239"
     },
     "user_tz": 180
    },
    "id": "l8SfeuavBDzO",
    "scrolled": false
   },
   "outputs": [],
   "source": [
    "all_job_samples = {}\n",
    "\n",
    "def extract_job_samples(row):\n",
    "    NOC_code = int(row['Noc_code'])\n",
    "    \n",
    "    # split jobs contained in row by ';' and .replace('-', '; ') is for '-', .replace('-', '; ')\n",
    "    # REVISE WHETHER TO KEEP - separation. logic is that lieutenant-governor can be described as lieutenant governer, no hyphen\n",
    "    # make unique set\n",
    "    # strip extra characters \n",
    "    # and take nonempty elements\n",
    "    jobs = [\n",
    "        j for j in  row['job_title'].split(';')\n",
    "        if (j != '' and j != ' ')\n",
    "    ]\n",
    "    \n",
    "    # change gendered entries such as 'chairman/woman' into separate samples, 'chairman', 'chairwoman'\n",
    "    for idx, job in enumerate(jobs):\n",
    "        if 'man/woman' in job:\n",
    "            # change original entry to 'job(man)', then append job(woman) to end of list\n",
    "            jobs[idx] = job.replace('man/woman', 'man')\n",
    "            jobs.append(job.replace('man/woman', 'woman'))\n",
    "        if 'men/women' in job:\n",
    "            jobs[idx] = job.replace('men/women', 'men')\n",
    "            jobs.append(job.replace('men/women', 'women'))\n",
    "        if 'boy/girl' in job:\n",
    "            jobs[idx] = job.replace('boy/girl', 'boy')\n",
    "            jobs.append(job.replace('boy/girl', 'girl'))\n",
    "        if 'master/mistress' in job:\n",
    "            jobs[idx] = job.replace('master/mistress', 'master')\n",
    "            jobs.append(job.replace('master/mistress', 'mistress'))\n",
    "        if 'host/hostess' in job:\n",
    "            jobs[idx] = job.replace('host/hostess', 'host')\n",
    "            jobs.append(job.replace('host/hostess', 'hostess'))\n",
    "        if 'waiter/waitress' in job:\n",
    "            jobs[idx] = job.replace('waiter/waitress', 'waiter')\n",
    "            jobs.append(job.replace('waiter/waitress', 'waitress'))\n",
    "            \n",
    "    # remove duplicate entries\n",
    "    jobs = set(jobs)\n",
    "    \n",
    "    # parse counts of each job\n",
    "    row['n_sample_jobs'] = len(jobs)\n",
    "    \n",
    "    # iterate through job and add to dictionary\n",
    "    for j in jobs:\n",
    "        \n",
    "        if j not in all_job_samples:\n",
    "            all_job_samples[j] = NOC_code\n",
    "\n",
    "        # safe check, if job appears more than once, clause will print the both NOC Codes\n",
    "        else:\n",
    "            if all_job_samples[j] != NOC_code:\n",
    "                print(j, 'repeated', all_job_samples[j], NOC_code)\n",
    "    \n",
    "    return row\n",
    "\n",
    "def parse_1(row):\n",
    "    # get info from first digit of 4 digit code\n",
    "    row['1_digit_target'] = int(str(row['Noc_code'])[0])\n",
    "    row['1_digit_group'] = df_skill_type[df_skill_type['skilltype_code'] == row['1_digit_target']]['skilltype_title']\n",
    "        \n",
    "    return row\n",
    "\n",
    "def parse_2(row):\n",
    "    # get info from first 2 digits of 4 digit code\n",
    "    \n",
    "    # check if NOC code is long enough for parsing\n",
    "    if len(str(row['Noc_code'])) > 1:\n",
    "        row['2_digit_target'] = int(str(row['Noc_code'])[:2])\n",
    "        row['2_digit_group'] = df_major_group[df_major_group['majorgroup_code'] == '\\'' + str(row['2_digit_target'])]['majorgroup_title']\n",
    "        \n",
    "    else:\n",
    "        row['2_digit_target'] = 'NA'\n",
    "        row['2_digit_group'] = 'NA'\n",
    "    \n",
    "    return row\n",
    "\n",
    "def parse_3(row):\n",
    "    # get info from first 3 digits of 4 digit code\n",
    "    \n",
    "    # check if NOC code is long enough for parsing\n",
    "    if len(str(row['Noc_code'])) > 2:\n",
    "        row['3_digit_target'] = int(str(row['Noc_code'])[:3])\n",
    "        row['3_digit_group'] = df_minor_group[df_minor_group['minorgroup_code'] == '\\'' + str(row['3_digit_target'])]['minorgroup_title']\n",
    "        \n",
    "    else:\n",
    "        row['3_digit_target'] = 'NA'\n",
    "        row['3_digit_group'] = 'NA'\n",
    "        \n",
    "    return row"
   ]
  },
  {
   "cell_type": "code",
   "execution_count": null,
   "metadata": {
    "colab": {
     "base_uri": "https://localhost:8080/",
     "height": 36
    },
    "executionInfo": {
     "elapsed": 4819,
     "status": "ok",
     "timestamp": 1602283203578,
     "user": {
      "displayName": "Augusto Suarez",
      "photoUrl": "https://lh3.googleusercontent.com/a-/AOh14Gh-L8Zz0VgrA4IkXJW-J6TWQaOde13RXj7wSR0P=s64",
      "userId": "05858047290514616239"
     },
     "user_tz": 180
    },
    "id": "RRJMJByGBDzT",
    "outputId": "73d70b06-3217-4e85-a648-e7dcc3a9cf5d"
   },
   "outputs": [],
   "source": [
    "# Do once, if 'noc_code' column already dropped, except to skip action\n",
    "try:\n",
    "    df = df.apply(parse_1, axis = 1)\n",
    "    df = df.apply(parse_2, axis = 1)\n",
    "    df = df.apply(parse_3, axis = 1)\n",
    "    df = df.apply(extract_job_samples, axis = 1)\n",
    "except KeyError:\n",
    "    pass\n",
    "\n",
    "len(all_job_samples.keys())"
   ]
  },
  {
   "cell_type": "markdown",
   "metadata": {},
   "source": [
    "# Graphs, skippable"
   ]
  },
  {
   "cell_type": "code",
   "execution_count": null,
   "metadata": {
    "colab": {
     "base_uri": "https://localhost:8080/",
     "height": 542
    },
    "executionInfo": {
     "elapsed": 4740,
     "status": "ok",
     "timestamp": 1602283204648,
     "user": {
      "displayName": "Augusto Suarez",
      "photoUrl": "https://lh3.googleusercontent.com/a-/AOh14Gh-L8Zz0VgrA4IkXJW-J6TWQaOde13RXj7wSR0P=s64",
      "userId": "05858047290514616239"
     },
     "user_tz": 180
    },
    "id": "ZGm8tWe9BDzZ",
    "outputId": "21b042e3-5a57-4a9c-abcd-0bdf65905fe4"
   },
   "outputs": [],
   "source": [
    "px.histogram(x = df['n_sample_jobs'], nbins = 200)"
   ]
  },
  {
   "cell_type": "code",
   "execution_count": null,
   "metadata": {
    "colab": {
     "base_uri": "https://localhost:8080/",
     "height": 542
    },
    "executionInfo": {
     "elapsed": 651,
     "status": "ok",
     "timestamp": 1602283206932,
     "user": {
      "displayName": "Augusto Suarez",
      "photoUrl": "https://lh3.googleusercontent.com/a-/AOh14Gh-L8Zz0VgrA4IkXJW-J6TWQaOde13RXj7wSR0P=s64",
      "userId": "05858047290514616239"
     },
     "user_tz": 180
    },
    "id": "W3Nar4pgBDzf",
    "outputId": "9b739697-b4e2-4e13-bf18-9ccb9121d14b",
    "scrolled": false
   },
   "outputs": [],
   "source": [
    "fig = go.Figure()\n",
    "fig.add_trace(go.Bar(\n",
    "    y = df['n_sample_jobs'],\n",
    "    marker = {\n",
    "        'color':  df['n_sample_jobs']*-1\n",
    "    }\n",
    "))\n",
    "\n",
    "fig.update_layout(\n",
    "    title='Counts per NOC Code',\n",
    "    xaxis_title=\"NOC Code\",\n",
    "    yaxis_title=\"Count\",\n",
    "    paper_bgcolor='rgb(255, 255, 255)',\n",
    "    plot_bgcolor='rgb(255, 255, 255)',\n",
    "    font=dict(\n",
    "        family= 'Times New Roman',\n",
    "        size=14,\n",
    "        color=\"black\"\n",
    "    ),\n",
    "    xaxis_showgrid=True,\n",
    "    yaxis_showgrid=True\n",
    ")\n",
    "fig.update_xaxes(showline=True, linewidth=1, linecolor='black', mirror=True)\n",
    "fig.update_yaxes(showline=True, linewidth=1, linecolor='black', mirror=True)\n",
    "fig.show()"
   ]
  },
  {
   "cell_type": "markdown",
   "metadata": {
    "id": "5bV6wTfnBDzj"
   },
   "source": [
    "# TODO: Make unpacking script so each job sample is its own row, with descriptions for all its parent groups up to 1 digit\n",
    "# Make embeddings for all skill groups (1st digit) and plot as manifolds to see if separable\n",
    "# Repeat with major groups (first 2 digits), minor groups (first 3 digits)\n",
    "# Maybe scrape web for job descriptions of each NOC code, use every found description as a training point, run doc2vec embeddings for all of them (would require training doc2vec)\n",
    "# When new data comes in, do the same embedding, find neighbors through knn or whatever"
   ]
  },
  {
   "cell_type": "code",
   "execution_count": null,
   "metadata": {
    "colab": {
     "base_uri": "https://localhost:8080/",
     "height": 112
    },
    "executionInfo": {
     "elapsed": 130559,
     "status": "ok",
     "timestamp": 1602282556569,
     "user": {
      "displayName": "Augusto Suarez",
      "photoUrl": "https://lh3.googleusercontent.com/a-/AOh14Gh-L8Zz0VgrA4IkXJW-J6TWQaOde13RXj7wSR0P=s64",
      "userId": "05858047290514616239"
     },
     "user_tz": 180
    },
    "id": "jPIVRYGMBDzk",
    "outputId": "f27ca691-fb36-4e76-b1be-5ab36d94142b"
   },
   "outputs": [],
   "source": [
    "df.columns"
   ]
  },
  {
   "cell_type": "code",
   "execution_count": null,
   "metadata": {
    "colab": {
     "base_uri": "https://localhost:8080/",
     "height": 1000
    },
    "executionInfo": {
     "elapsed": 130841,
     "status": "ok",
     "timestamp": 1602282556864,
     "user": {
      "displayName": "Augusto Suarez",
      "photoUrl": "https://lh3.googleusercontent.com/a-/AOh14Gh-L8Zz0VgrA4IkXJW-J6TWQaOde13RXj7wSR0P=s64",
      "userId": "05858047290514616239"
     },
     "user_tz": 180
    },
    "id": "EchGg7e0BDzo",
    "outputId": "268a4fdc-5415-4277-c993-6b5baac63bbe"
   },
   "outputs": [],
   "source": [
    "all_descriptions = {}\n",
    "desc_counts = []\n",
    "def unpack_descriptions(row):\n",
    "    # unpack all descriptions from a row and\n",
    "    duty = row['main_duties']\n",
    "    desc_counts.append(0)\n",
    "    \n",
    "    # split duty field into separate duties and remove initial generic blurb\n",
    "    for description in duty.strip('-').split(';'):\n",
    "        if 'duties' not in description:\n",
    "            all_descriptions[description] = row['Noc_code']\n",
    "            desc_counts[-1] += 1\n",
    "            \n",
    "    return row\n",
    "\n",
    "df.apply(unpack_descriptions, axis = 1)"
   ]
  },
  {
   "cell_type": "code",
   "execution_count": null,
   "metadata": {
    "executionInfo": {
     "elapsed": 130831,
     "status": "ok",
     "timestamp": 1602282556867,
     "user": {
      "displayName": "Augusto Suarez",
      "photoUrl": "https://lh3.googleusercontent.com/a-/AOh14Gh-L8Zz0VgrA4IkXJW-J6TWQaOde13RXj7wSR0P=s64",
      "userId": "05858047290514616239"
     },
     "user_tz": 180
    },
    "id": "ROrPqERjBDzs"
   },
   "outputs": [],
   "source": [
    "inputs = list(all_job_samples.keys()) + list(all_descriptions.keys())\n",
    "outputs = list(all_job_samples.values()) + list(all_descriptions.values())"
   ]
  },
  {
   "cell_type": "code",
   "execution_count": null,
   "metadata": {
    "executionInfo": {
     "elapsed": 130821,
     "status": "ok",
     "timestamp": 1602282556868,
     "user": {
      "displayName": "Augusto Suarez",
      "photoUrl": "https://lh3.googleusercontent.com/a-/AOh14Gh-L8Zz0VgrA4IkXJW-J6TWQaOde13RXj7wSR0P=s64",
      "userId": "05858047290514616239"
     },
     "user_tz": 180
    },
    "id": "DNLVquxEBDzw"
   },
   "outputs": [],
   "source": [
    "assert len(inputs) == len(outputs)"
   ]
  },
  {
   "cell_type": "markdown",
   "metadata": {
    "id": "Qygr6Ge1BDz1"
   },
   "source": [
    "# For making the doc2vec corpus"
   ]
  },
  {
   "cell_type": "code",
   "execution_count": null,
   "metadata": {
    "executionInfo": {
     "elapsed": 130815,
     "status": "ok",
     "timestamp": 1602282556872,
     "user": {
      "displayName": "Augusto Suarez",
      "photoUrl": "https://lh3.googleusercontent.com/a-/AOh14Gh-L8Zz0VgrA4IkXJW-J6TWQaOde13RXj7wSR0P=s64",
      "userId": "05858047290514616239"
     },
     "user_tz": 180
    },
    "id": "aJ6NgNcVBDz2"
   },
   "outputs": [],
   "source": [
    "from collections import Counter\n",
    "raw_words = ' '.join(inputs).split()\n",
    "raw_word_count = Counter(raw_words)\n",
    "\n",
    "# unique words only\n",
    "input_words = [*{*raw_words}]"
   ]
  },
  {
   "cell_type": "code",
   "execution_count": null,
   "metadata": {
    "colab": {
     "base_uri": "https://localhost:8080/",
     "height": 36
    },
    "executionInfo": {
     "elapsed": 130799,
     "status": "ok",
     "timestamp": 1602282556881,
     "user": {
      "displayName": "Augusto Suarez",
      "photoUrl": "https://lh3.googleusercontent.com/a-/AOh14Gh-L8Zz0VgrA4IkXJW-J6TWQaOde13RXj7wSR0P=s64",
      "userId": "05858047290514616239"
     },
     "user_tz": 180
    },
    "id": "XK7vYp9ABDz_",
    "outputId": "b13d0a3c-eeb6-443b-ca94-ba5ecb3e005e"
   },
   "outputs": [],
   "source": [
    "len(all_job_samples)"
   ]
  },
  {
   "cell_type": "code",
   "execution_count": null,
   "metadata": {
    "colab": {
     "base_uri": "https://localhost:8080/",
     "height": 36
    },
    "executionInfo": {
     "elapsed": 130784,
     "status": "ok",
     "timestamp": 1602282556882,
     "user": {
      "displayName": "Augusto Suarez",
      "photoUrl": "https://lh3.googleusercontent.com/a-/AOh14Gh-L8Zz0VgrA4IkXJW-J6TWQaOde13RXj7wSR0P=s64",
      "userId": "05858047290514616239"
     },
     "user_tz": 180
    },
    "id": "THxuO-ZFBD0E",
    "outputId": "d18a5724-5d1f-41a1-a0e1-e48255eb6ad6"
   },
   "outputs": [],
   "source": [
    "len(all_descriptions)"
   ]
  },
  {
   "cell_type": "code",
   "execution_count": null,
   "metadata": {
    "executionInfo": {
     "elapsed": 130759,
     "status": "ok",
     "timestamp": 1602282556886,
     "user": {
      "displayName": "Augusto Suarez",
      "photoUrl": "https://lh3.googleusercontent.com/a-/AOh14Gh-L8Zz0VgrA4IkXJW-J6TWQaOde13RXj7wSR0P=s64",
      "userId": "05858047290514616239"
     },
     "user_tz": 180
    },
    "id": "bdmzY8WmBD0M"
   },
   "outputs": [],
   "source": [
    "train_df = pd.DataFrame(dict(all_job_samples).items(), columns = ['input', 'code'])"
   ]
  },
  {
   "cell_type": "code",
   "execution_count": null,
   "metadata": {
    "colab": {
     "base_uri": "https://localhost:8080/",
     "height": 419
    },
    "executionInfo": {
     "elapsed": 130749,
     "status": "ok",
     "timestamp": 1602282556897,
     "user": {
      "displayName": "Augusto Suarez",
      "photoUrl": "https://lh3.googleusercontent.com/a-/AOh14Gh-L8Zz0VgrA4IkXJW-J6TWQaOde13RXj7wSR0P=s64",
      "userId": "05858047290514616239"
     },
     "user_tz": 180
    },
    "id": "_mnnBfmEBD0a",
    "outputId": "8cb205be-8b7b-4f30-f603-8c361f1dfb11"
   },
   "outputs": [],
   "source": [
    "train_df"
   ]
  },
  {
   "cell_type": "markdown",
   "metadata": {
    "id": "zuj3L_opBD0e"
   },
   "source": [
    "# Distribution of all output classes"
   ]
  },
  {
   "cell_type": "code",
   "execution_count": null,
   "metadata": {},
   "outputs": [],
   "source": [
    "sum(train_df['code'].value_counts())/1000\n",
    "# px.bar(x = train_df['code'].value_counts().index, y = train_df['code'].value_counts())"
   ]
  },
  {
   "cell_type": "code",
   "execution_count": null,
   "metadata": {
    "colab": {
     "base_uri": "https://localhost:8080/",
     "height": 542
    },
    "executionInfo": {
     "elapsed": 130953,
     "status": "ok",
     "timestamp": 1602282557115,
     "user": {
      "displayName": "Augusto Suarez",
      "photoUrl": "https://lh3.googleusercontent.com/a-/AOh14Gh-L8Zz0VgrA4IkXJW-J6TWQaOde13RXj7wSR0P=s64",
      "userId": "05858047290514616239"
     },
     "user_tz": 180
    },
    "id": "aoQZO6iCBD0f",
    "outputId": "58548dbd-944b-487b-8e86-ea8ca0ec3810"
   },
   "outputs": [],
   "source": [
    "px.histogram(train_df['code'].value_counts())"
   ]
  },
  {
   "cell_type": "markdown",
   "metadata": {
    "id": "Fv28LHe1BD0k"
   },
   "source": [
    "# Try tfidf"
   ]
  },
  {
   "cell_type": "code",
   "execution_count": null,
   "metadata": {},
   "outputs": [],
   "source": [
    "def first_n_digits(string, n=4):\n",
    "    \n",
    "    # if default number of digits desired, don't do anything\n",
    "    if n == 4:\n",
    "        return string\n",
    "    \n",
    "    # else pad left with zeros until 4 digits reached\n",
    "    padded_str = '{0:0>4}'.format(string)\n",
    "    return padded_str[:n]"
   ]
  },
  {
   "cell_type": "markdown",
   "metadata": {
    "id": "X0LsAwRkBD0l"
   },
   "source": [
    "## Train test split"
   ]
  },
  {
   "cell_type": "code",
   "execution_count": null,
   "metadata": {
    "executionInfo": {
     "elapsed": 131152,
     "status": "ok",
     "timestamp": 1602282557327,
     "user": {
      "displayName": "Augusto Suarez",
      "photoUrl": "https://lh3.googleusercontent.com/a-/AOh14Gh-L8Zz0VgrA4IkXJW-J6TWQaOde13RXj7wSR0P=s64",
      "userId": "05858047290514616239"
     },
     "user_tz": 180
    },
    "id": "id9lPgyrBD0l"
   },
   "outputs": [],
   "source": [
    "from sklearn.feature_extraction.text import TfidfVectorizer\n",
    "from sklearn.model_selection import train_test_split"
   ]
  },
  {
   "cell_type": "markdown",
   "metadata": {
    "id": "czAUrH4jBD0p"
   },
   "source": [
    "# Load ATP data for some train noise "
   ]
  },
  {
   "cell_type": "code",
   "execution_count": null,
   "metadata": {},
   "outputs": [],
   "source": [
    "ATP_data = pd.DataFrame(pd.read_excel('./Data/V5_Run Input(1).xlsx'))\n",
    "ATP_data['code'] = ATP_data['NOC code '].apply(lambda x: int(x.strip('\\''))).apply(first_n_digits, args=(4,))\n",
    "ATP_data.drop(columns = ['NOC code '], inplace = True)\n",
    "\n",
    "ATP_data['input'] = ATP_data['Current Job Title']\n",
    "ATP_data.drop(columns = ['Current Job Title'], inplace = True)"
   ]
  },
  {
   "cell_type": "code",
   "execution_count": null,
   "metadata": {},
   "outputs": [],
   "source": [
    "# Shuffle your dataset \n",
    "shuffled_ATP_df = ATP_data.sample(frac=1, random_state=42)\n",
    "\n",
    "# Define a size for your train set \n",
    "ATP_train_size = 8000\n",
    "\n",
    "# Split your dataset \n",
    "ATP_data_train_set = shuffled_ATP_df[:ATP_train_size]\n",
    "ATP_data_test_set = shuffled_ATP_df[ATP_train_size:]\n"
   ]
  },
  {
   "cell_type": "markdown",
   "metadata": {},
   "source": [
    "# Combine both train sets"
   ]
  },
  {
   "cell_type": "code",
   "execution_count": null,
   "metadata": {},
   "outputs": [],
   "source": [
    "train_df = train_df[['code','input']]\n",
    "ATP_data_train_set = ATP_data_train_set[['code','input']]\n",
    "ATP_data_test_set = ATP_data_test_set[['code','input']]\n",
    "\n",
    "train_df = train_df.append(ATP_data_train_set)"
   ]
  },
  {
   "cell_type": "markdown",
   "metadata": {},
   "source": [
    "# Preprocess ALL the things"
   ]
  },
  {
   "cell_type": "code",
   "execution_count": null,
   "metadata": {},
   "outputs": [],
   "source": [
    "STRIP_ABBREVIATIONS = True"
   ]
  },
  {
   "cell_type": "code",
   "execution_count": null,
   "metadata": {},
   "outputs": [],
   "source": [
    "train_df['input'] = train_df['input'].apply(preprocess_text, args = (STRIP_ABBREVIATIONS,))\n",
    "ATP_data_test_set['input'] = ATP_data_test_set['input'].apply(preprocess_text, args = (STRIP_ABBREVIATIONS,))"
   ]
  },
  {
   "cell_type": "code",
   "execution_count": null,
   "metadata": {},
   "outputs": [],
   "source": [
    "corpus = list(train_df['input'])"
   ]
  },
  {
   "cell_type": "code",
   "execution_count": null,
   "metadata": {},
   "outputs": [],
   "source": [
    "corpus[:20]"
   ]
  },
  {
   "cell_type": "markdown",
   "metadata": {},
   "source": [
    "# distribution of first digit and all 4 digits"
   ]
  },
  {
   "cell_type": "code",
   "execution_count": null,
   "metadata": {
    "scrolled": false
   },
   "outputs": [],
   "source": [
    "fig = px.histogram(x = y1.value_counts().index, y = y1.value_counts(), nbins=10)\n",
    "fig.show()\n",
    "fig = px.histogram(x = y4.value_counts().index, y = y4.value_counts(), nbins=80)\n",
    "fig.show()"
   ]
  },
  {
   "cell_type": "markdown",
   "metadata": {},
   "source": [
    "# vectorize train data"
   ]
  },
  {
   "cell_type": "code",
   "execution_count": null,
   "metadata": {
    "colab": {
     "base_uri": "https://localhost:8080/",
     "height": 36
    },
    "executionInfo": {
     "elapsed": 131364,
     "status": "ok",
     "timestamp": 1602282557549,
     "user": {
      "displayName": "Augusto Suarez",
      "photoUrl": "https://lh3.googleusercontent.com/a-/AOh14Gh-L8Zz0VgrA4IkXJW-J6TWQaOde13RXj7wSR0P=s64",
      "userId": "05858047290514616239"
     },
     "user_tz": 180
    },
    "id": "K-aKuFF9BD0q",
    "outputId": "bb6f7b18-78e8-4be0-a74c-cfdc64c6e227"
   },
   "outputs": [],
   "source": [
    "# for effient load an dstore of objects w/ large numpy arrays internally\n",
    "from joblib import dump, load\n",
    "\n",
    "# Remove highly uncommon word (freq < 5) from corpus to reduce dimensionality\n",
    "vectorizer = TfidfVectorizer(min_df=5, \n",
    "                             stop_words=\"english\",\n",
    "                            lowercase=True)\n",
    "vectorized_X_train = vectorizer.fit_transform(corpus)\n",
    "vectorized_X_train.shape\n",
    "\n",
    "dump(vectorizer, 'vectorizer.joblib') "
   ]
  },
  {
   "cell_type": "markdown",
   "metadata": {
    "id": "cbes8WQQBD0t"
   },
   "source": [
    "# Make sure vectorizer.joblib saved"
   ]
  },
  {
   "cell_type": "code",
   "execution_count": null,
   "metadata": {
    "colab": {
     "base_uri": "https://localhost:8080/",
     "height": 36
    },
    "executionInfo": {
     "elapsed": 131613,
     "status": "ok",
     "timestamp": 1602282557811,
     "user": {
      "displayName": "Augusto Suarez",
      "photoUrl": "https://lh3.googleusercontent.com/a-/AOh14Gh-L8Zz0VgrA4IkXJW-J6TWQaOde13RXj7wSR0P=s64",
      "userId": "05858047290514616239"
     },
     "user_tz": 180
    },
    "id": "-R1C7YlpBD0u",
    "outputId": "d07e5598-e8e3-4b52-e8a7-e1551c2f1277"
   },
   "outputs": [],
   "source": [
    "!ls *joblib"
   ]
  },
  {
   "cell_type": "code",
   "execution_count": null,
   "metadata": {
    "colab": {
     "base_uri": "https://localhost:8080/",
     "height": 207
    },
    "executionInfo": {
     "elapsed": 131600,
     "status": "ok",
     "timestamp": 1602282557812,
     "user": {
      "displayName": "Augusto Suarez",
      "photoUrl": "https://lh3.googleusercontent.com/a-/AOh14Gh-L8Zz0VgrA4IkXJW-J6TWQaOde13RXj7wSR0P=s64",
      "userId": "05858047290514616239"
     },
     "user_tz": 180
    },
    "id": "QnjJ9f1LBD0z",
    "outputId": "801bdaa2-4f67-4663-81f5-f1251bfa77df"
   },
   "outputs": [],
   "source": [
    "list(vectorizer.get_feature_names()[:10])"
   ]
  },
  {
   "cell_type": "code",
   "execution_count": null,
   "metadata": {
    "colab": {
     "base_uri": "https://localhost:8080/",
     "height": 36
    },
    "executionInfo": {
     "elapsed": 131589,
     "status": "ok",
     "timestamp": 1602282557814,
     "user": {
      "displayName": "Augusto Suarez",
      "photoUrl": "https://lh3.googleusercontent.com/a-/AOh14Gh-L8Zz0VgrA4IkXJW-J6TWQaOde13RXj7wSR0P=s64",
      "userId": "05858047290514616239"
     },
     "user_tz": 180
    },
    "id": "VG7NzRN3BD03",
    "outputId": "65d21129-3e9b-44ee-fcbb-93ae5b77d9a3"
   },
   "outputs": [],
   "source": [
    "vectorized_X_train.shape"
   ]
  },
  {
   "cell_type": "code",
   "execution_count": null,
   "metadata": {
    "executionInfo": {
     "elapsed": 131573,
     "status": "ok",
     "timestamp": 1602282557815,
     "user": {
      "displayName": "Augusto Suarez",
      "photoUrl": "https://lh3.googleusercontent.com/a-/AOh14Gh-L8Zz0VgrA4IkXJW-J6TWQaOde13RXj7wSR0P=s64",
      "userId": "05858047290514616239"
     },
     "user_tz": 180
    },
    "id": "aAdsa5j0BD08"
   },
   "outputs": [],
   "source": [
    "from sklearn.svm import SVC\n",
    "from sklearn.neighbors import KNeighborsClassifier\n",
    "from sklearn.ensemble import RandomForestClassifier\n",
    "from sklearn.model_selection import train_test_split\n",
    "from sklearn.linear_model import LogisticRegression"
   ]
  },
  {
   "cell_type": "code",
   "execution_count": null,
   "metadata": {
    "colab": {
     "base_uri": "https://localhost:8080/",
     "height": 204
    },
    "executionInfo": {
     "elapsed": 131565,
     "status": "ok",
     "timestamp": 1602282557816,
     "user": {
      "displayName": "Augusto Suarez",
      "photoUrl": "https://lh3.googleusercontent.com/a-/AOh14Gh-L8Zz0VgrA4IkXJW-J6TWQaOde13RXj7wSR0P=s64",
      "userId": "05858047290514616239"
     },
     "user_tz": 180
    },
    "id": "ehXFPDaVBD0_",
    "outputId": "71959fa1-503d-4b81-a89a-b422dc82c7d5",
    "scrolled": true
   },
   "outputs": [],
   "source": [
    "train_df.head(5)"
   ]
  },
  {
   "cell_type": "markdown",
   "metadata": {
    "id": "5sagg8NNBD1D"
   },
   "source": [
    "## Train the classifiers"
   ]
  },
  {
   "cell_type": "code",
   "execution_count": null,
   "metadata": {
    "executionInfo": {
     "elapsed": 131548,
     "status": "ok",
     "timestamp": 1602282557818,
     "user": {
      "displayName": "Augusto Suarez",
      "photoUrl": "https://lh3.googleusercontent.com/a-/AOh14Gh-L8Zz0VgrA4IkXJW-J6TWQaOde13RXj7wSR0P=s64",
      "userId": "05858047290514616239"
     },
     "user_tz": 180
    },
    "id": "gWsxBUvmBD1D"
   },
   "outputs": [],
   "source": [
    "import time"
   ]
  },
  {
   "cell_type": "code",
   "execution_count": null,
   "metadata": {
    "colab": {
     "base_uri": "https://localhost:8080/",
     "height": 36
    },
    "executionInfo": {
     "elapsed": 288847,
     "status": "ok",
     "timestamp": 1602282715130,
     "user": {
      "displayName": "Augusto Suarez",
      "photoUrl": "https://lh3.googleusercontent.com/a-/AOh14Gh-L8Zz0VgrA4IkXJW-J6TWQaOde13RXj7wSR0P=s64",
      "userId": "05858047290514616239"
     },
     "user_tz": 180
    },
    "id": "2hPtrK-qBD1I",
    "outputId": "69afa242-244f-48a5-e23e-178f651a9389"
   },
   "outputs": [],
   "source": [
    "SVM = SVC(class_weight='balanced', kernel='linear')\n",
    "\n",
    "start = time.time()\n",
    "SVM.fit(vectorized_X_train, train_df['code'])\n",
    "print('SVM training duration: {} seconds'.format(time.time()-start))"
   ]
  },
  {
   "cell_type": "code",
   "execution_count": null,
   "metadata": {
    "colab": {
     "base_uri": "https://localhost:8080/",
     "height": 36
    },
    "executionInfo": {
     "elapsed": 352727,
     "status": "ok",
     "timestamp": 1602282779027,
     "user": {
      "displayName": "Augusto Suarez",
      "photoUrl": "https://lh3.googleusercontent.com/a-/AOh14Gh-L8Zz0VgrA4IkXJW-J6TWQaOde13RXj7wSR0P=s64",
      "userId": "05858047290514616239"
     },
     "user_tz": 180
    },
    "id": "3Q5YsnjxBD1L",
    "outputId": "e553d24f-9d3c-4e4c-eb28-6a73565426c8"
   },
   "outputs": [],
   "source": [
    "RF = RandomForestClassifier(n_estimators=512, max_depth=256, n_jobs=-1, warm_start=True)\n",
    "\n",
    "start = time.time()\n",
    "RF.fit(vectorized_X_train, train_df['code'])\n",
    "print('RF training duration: {} seconds'.format(time.time()-start))"
   ]
  },
  {
   "cell_type": "code",
   "execution_count": null,
   "metadata": {
    "colab": {
     "base_uri": "https://localhost:8080/",
     "height": 36
    },
    "executionInfo": {
     "elapsed": 352712,
     "status": "ok",
     "timestamp": 1602282779029,
     "user": {
      "displayName": "Augusto Suarez",
      "photoUrl": "https://lh3.googleusercontent.com/a-/AOh14Gh-L8Zz0VgrA4IkXJW-J6TWQaOde13RXj7wSR0P=s64",
      "userId": "05858047290514616239"
     },
     "user_tz": 180
    },
    "id": "1p35H8dIBD1P",
    "outputId": "82386c11-66f1-4eaf-921b-d9aeda7e5c28"
   },
   "outputs": [],
   "source": [
    "KNN = KNeighborsClassifier(n_neighbors = 5, n_jobs=-1)\n",
    "\n",
    "start = time.time()\n",
    "KNN.fit(vectorized_X_train, train_df['code'])\n",
    "print('KNN training duration: {} seconds'.format(time.time()-start))"
   ]
  },
  {
   "cell_type": "markdown",
   "metadata": {
    "id": "nce5IPNjBD1X"
   },
   "source": [
    "# Transform test data"
   ]
  },
  {
   "cell_type": "code",
   "execution_count": null,
   "metadata": {
    "colab": {
     "base_uri": "https://localhost:8080/",
     "height": 36
    },
    "executionInfo": {
     "elapsed": 352692,
     "status": "ok",
     "timestamp": 1602282779031,
     "user": {
      "displayName": "Augusto Suarez",
      "photoUrl": "https://lh3.googleusercontent.com/a-/AOh14Gh-L8Zz0VgrA4IkXJW-J6TWQaOde13RXj7wSR0P=s64",
      "userId": "05858047290514616239"
     },
     "user_tz": 180
    },
    "id": "W2AMZNwwBD1X",
    "outputId": "b24697f8-119d-4087-9912-fb8bd1443117"
   },
   "outputs": [],
   "source": [
    "(ATP_data_test_set['input'])"
   ]
  },
  {
   "cell_type": "markdown",
   "metadata": {
    "id": "S_cw66gEMiQU"
   },
   "source": [
    "# Predict and time for each classifier"
   ]
  },
  {
   "cell_type": "code",
   "execution_count": null,
   "metadata": {
    "id": "YWmPefoPEO_c"
   },
   "outputs": [],
   "source": [
    "start = time.time()\n",
    "svm_pred = SVM.predict(vectorized_X_test)\n",
    "print('SVM prediction duration on {} samples: {} seconds'.format(vectorized_X_test.shape[0], time.time()-start))"
   ]
  },
  {
   "cell_type": "code",
   "execution_count": null,
   "metadata": {
    "id": "ggSfm8uHERlp"
   },
   "outputs": [],
   "source": [
    "start = time.time()\n",
    "rf_pred = RF.predict(vectorized_X_test)\n",
    "print('RF prediction duration on {} samples: {} seconds'.format(vectorized_X_test.shape[0], time.time()-start))"
   ]
  },
  {
   "cell_type": "code",
   "execution_count": null,
   "metadata": {
    "id": "JLvftUL7BD1c"
   },
   "outputs": [],
   "source": [
    "start = time.time()\n",
    "knn_pred = KNN.predict(vectorized_X_test)\n",
    "print('KNN prediction duration on {} samples: {} seconds'.format(vectorized_X_test.shape[0], time.time()-start))"
   ]
  },
  {
   "cell_type": "markdown",
   "metadata": {},
   "source": [
    "# try closest k-nn for votes, REQUIRES SAVING THE y_train vector"
   ]
  },
  {
   "cell_type": "code",
   "execution_count": null,
   "metadata": {},
   "outputs": [],
   "source": [
    "start = time.time()\n",
    "closestknn = KNN.kneighbors(vectorized_X_test, 5, return_distance=False)\n",
    "print('KNN 5 closest neighbors duration on {} samples: {} seconds'.format(vectorized_X_test.shape[0], time.time()-start))"
   ]
  },
  {
   "cell_type": "markdown",
   "metadata": {
    "id": "EKhah7vkBD1h"
   },
   "source": [
    "# Without data leakage"
   ]
  },
  {
   "cell_type": "code",
   "execution_count": null,
   "metadata": {
    "id": "hvm3AYkfBD1i",
    "scrolled": false
   },
   "outputs": [],
   "source": [
    "from sklearn.metrics import accuracy_score, f1_score\n",
    "print('SVM acc:{}, f1:{}'.format(accuracy_score(svm_pred, ATP_data_test_set['code']), f1_score(svm_pred, ATP_data_test_set['code'], average = 'macro')))\n",
    "print('RF acc:{}, f1:{}'.format(accuracy_score(rf_pred, ATP_data_test_set['code']), f1_score(rf_pred, ATP_data_test_set['code'], average = 'macro')))\n",
    "print('KNN acc:{}, f1:{}'.format(accuracy_score(knn_pred, ATP_data_test_set['code']), f1_score(knn_pred, ATP_data_test_set['code'], average = 'macro')))\n",
    "\n",
    "pred_df = pd.DataFrame({\n",
    "    'p_svm':svm_pred,\n",
    "#     'p_lr':lr_pred,\n",
    "    'p_rf':rf_pred,\n",
    "    'p_knn':knn_pred,\n",
    "#     'p_knn_1':list(y_train.iloc[closestknn[:, 0]]),\n",
    "#     'p_knn_2':list(y_train.iloc[closestknn[:, 1]]),\n",
    "    'target':ATP_data_test_set['code']\n",
    "})\n",
    "\n",
    "display(pred_df.iloc[:20])"
   ]
  },
  {
   "cell_type": "code",
   "execution_count": null,
   "metadata": {
    "id": "1cWEUSmGBD1m"
   },
   "outputs": [],
   "source": [
    "def ensemble_predict(row):\n",
    "\n",
    "    # find majority vote for all methods, :-1 drops ground truth column\n",
    "    votes = Counter(row[:-1]).most_common(1)\n",
    "    \n",
    "    # take svm as tie-breaker because CURRENTLY most accurate\n",
    "    winning_class, highest_num_votes = votes[0]\n",
    "    return winning_class\n",
    "    return row['p_rf'] if highest_num_votes < 2 else winning_class\n"
   ]
  },
  {
   "cell_type": "code",
   "execution_count": null,
   "metadata": {
    "id": "OvvRbrgABD1q"
   },
   "outputs": [],
   "source": [
    "p_all = pred_df.drop(columns=['target']).apply(ensemble_predict, axis = 1)\n",
    "pred_df['p_all'] = p_all"
   ]
  },
  {
   "cell_type": "code",
   "execution_count": null,
   "metadata": {},
   "outputs": [],
   "source": [
    "print('Ensemble acc:{}, f1:{}'.format(accuracy_score(pred_df['p_all'], ATP_data_test_set['code']), \n",
    "                                      f1_score(pred_df['p_all'], ATP_data_test_set['code'], average = 'macro')))\n",
    "display(pred_df.iloc[:20][['p_all','target']])"
   ]
  },
  {
   "cell_type": "code",
   "execution_count": null,
   "metadata": {},
   "outputs": [],
   "source": [
    "pred_df"
   ]
  },
  {
   "cell_type": "code",
   "execution_count": null,
   "metadata": {},
   "outputs": [],
   "source": []
  },
  {
   "cell_type": "code",
   "execution_count": null,
   "metadata": {},
   "outputs": [],
   "source": []
  }
 ],
 "metadata": {
  "colab": {
   "collapsed_sections": [],
   "name": "EDA NOC.ipynb",
   "provenance": []
  },
  "kernelspec": {
   "display_name": "Python 3",
   "language": "python",
   "name": "python3"
  },
  "language_info": {
   "codemirror_mode": {
    "name": "ipython",
    "version": 3
   },
   "file_extension": ".py",
   "mimetype": "text/x-python",
   "name": "python",
   "nbconvert_exporter": "python",
   "pygments_lexer": "ipython3",
   "version": "3.7.4"
  }
 },
 "nbformat": 4,
 "nbformat_minor": 1
}
