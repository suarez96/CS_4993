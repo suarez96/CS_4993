{
 "cells": [
  {
   "cell_type": "code",
   "execution_count": 1,
   "metadata": {},
   "outputs": [
    {
     "name": "stderr",
     "output_type": "stream",
     "text": [
      "[nltk_data] Downloading package punkt to\n",
      "[nltk_data]     C:\\Users\\Gradlab\\AppData\\Roaming\\nltk_data...\n",
      "[nltk_data]   Package punkt is already up-to-date!\n"
     ]
    }
   ],
   "source": [
    "import pickle\n",
    "import pandas as pd\n",
    "from scripts.Embedder import Embedder, tfidfEmbedder\n",
    "from scripts.OccupationPreprocessor import OccupationPreprocessor\n",
    "import numpy as np"
   ]
  },
  {
   "cell_type": "code",
   "execution_count": 2,
   "metadata": {},
   "outputs": [],
   "source": [
    "with open('first_dig_tfidf_clfs.pkl', 'rb') as f:\n",
    "    clf1 = pickle.load(f)\n",
    "    \n",
    "with open('second_third_fourth_dig_tfidf_clfs.pkl', 'rb') as f2:\n",
    "    clf2 = pickle.load(f2)"
   ]
  },
  {
   "cell_type": "code",
   "execution_count": 3,
   "metadata": {},
   "outputs": [],
   "source": [
    "TEST_FILE = 1"
   ]
  },
  {
   "cell_type": "code",
   "execution_count": 4,
   "metadata": {},
   "outputs": [],
   "source": [
    "if TEST_FILE == 0:\n",
    "    tfidf_test_set = OccupationPreprocessor.prepare_df(\n",
    "        './Data/ATP_gold_standard.xlsx',\n",
    "        input_column='CURRENT_JOB_TITLE',\n",
    "        code_column='NOC code by PATH',\n",
    "        n_digits=4\n",
    "    )\n",
    "    \n",
    "    NOCv5 = OccupationPreprocessor.prepare_df(\n",
    "        './Data/ATP_gold_standard.xlsx',\n",
    "        input_column='NOC code by PATH',\n",
    "        code_column='V5_NOC',\n",
    "        n_digits=4\n",
    "    )\n",
    "    \n",
    "    NOCv6 = OccupationPreprocessor.prepare_df(\n",
    "        './Data/ATP_gold_standard.xlsx',\n",
    "        input_column='NOC code by PATH',\n",
    "        code_column='V6_NOC',\n",
    "        n_digits=4\n",
    "    )\n",
    "    \n",
    "elif TEST_FILE == 1:\n",
    "    tfidf_test_set = pd.DataFrame(\n",
    "        pd.read_csv('./Data/tfidf_test_set.csv')\n",
    "    )\n",
    "    \n",
    "tfidf_train_set = pd.DataFrame(\n",
    "    pd.read_csv('./Data/tfidf_train_set.csv')\n",
    ")"
   ]
  },
  {
   "cell_type": "code",
   "execution_count": 5,
   "metadata": {},
   "outputs": [
    {
     "name": "stdout",
     "output_type": "stream",
     "text": [
      "Model loaded from ./vectorizer.joblib\n"
     ]
    }
   ],
   "source": [
    "embedder = tfidfEmbedder()"
   ]
  },
  {
   "cell_type": "code",
   "execution_count": 60,
   "metadata": {},
   "outputs": [],
   "source": [
    "sample_size = 500 if TEST_FILE == 0 else 200\n",
    "sample_pipeline_df = tfidf_test_set.sample(sample_size).drop_duplicates()"
   ]
  },
  {
   "cell_type": "markdown",
   "metadata": {},
   "source": [
    "### Check exact matches"
   ]
  },
  {
   "cell_type": "code",
   "execution_count": 61,
   "metadata": {},
   "outputs": [],
   "source": [
    "tfidf_test_vectors = embedder.embed(sample_pipeline_df['input'])"
   ]
  },
  {
   "cell_type": "code",
   "execution_count": 62,
   "metadata": {},
   "outputs": [],
   "source": [
    "from sklearn.metrics import accuracy_score, f1_score\n",
    "tfidf_test_df = pd.DataFrame({\n",
    "    'svm_pred':clf1['SVM'].predict(tfidf_test_vectors),\n",
    "    'rf_pred':clf1['RF'].predict(tfidf_test_vectors),\n",
    "    'knn_pred':clf1['KNN'].predict(tfidf_test_vectors),\n",
    "    'code':sample_pipeline_df['code'].astype(str)\n",
    "})"
   ]
  },
  {
   "cell_type": "code",
   "execution_count": 63,
   "metadata": {},
   "outputs": [],
   "source": [
    "tfidf_test_df['exact_match'] = sample_pipeline_df['input'].apply(embedder.check_exact_match, args=(embedder.train_database,))"
   ]
  },
  {
   "cell_type": "code",
   "execution_count": 64,
   "metadata": {},
   "outputs": [],
   "source": [
    "tfidf_test_df['p_all'] = tfidf_test_df.apply(tfidfEmbedder.ensemble_predict, axis = 1, args = (\n",
    "    ['rf_pred','svm_pred','knn_pred'], 'svm_pred',\n",
    "))"
   ]
  },
  {
   "cell_type": "code",
   "execution_count": 65,
   "metadata": {},
   "outputs": [],
   "source": [
    "tfidf_test_df['vectors'] = tfidf_test_vectors.toarray().tolist()"
   ]
  },
  {
   "cell_type": "code",
   "execution_count": 66,
   "metadata": {},
   "outputs": [],
   "source": [
    "# put in pipeline.py\n",
    "def pipeline(row):\n",
    "    np_array = np.array(row['vectors']).reshape(1, -1)\n",
    "    p_1 = row['p_all']\n",
    "    row['svm_pred_234'] = clf2[p_1]['SVM'].predict(np_array)[0]\n",
    "    row['rf_pred_234'] = clf2[p_1]['RF'].predict(np_array)[0]\n",
    "    row['knn_pred_234'] = clf2[p_1]['KNN'].predict(np_array)[0]\n",
    "    return row"
   ]
  },
  {
   "cell_type": "code",
   "execution_count": 67,
   "metadata": {},
   "outputs": [
    {
     "name": "stdout",
     "output_type": "stream",
     "text": [
      "time to predict on 180 samples: 42.10 seconds (0.23 s/sample)\n"
     ]
    }
   ],
   "source": [
    "import time\n",
    "start_time = time.time()\n",
    "tfidf_test_df = tfidf_test_df.apply(pipeline, axis = 1)\n",
    "elapsed = time.time()-start_time\n",
    "print('time to predict on {0} samples: {1:.2f} seconds ({2:.3f} s/sample)'.format(sample_pipeline_df.shape[0],\n",
    "                                                         elapsed, \n",
    "                                                        elapsed/sample_pipeline_df.shape[0])\n",
    "     )"
   ]
  },
  {
   "cell_type": "code",
   "execution_count": 68,
   "metadata": {},
   "outputs": [],
   "source": [
    "tfidf_test_df['p_all_234'] = tfidf_test_df.apply(tfidfEmbedder.ensemble_predict, axis = 1, args = (\n",
    "    ['svm_pred_234','rf_pred_234','knn_pred_234'], 'knn_pred_234',\n",
    "))"
   ]
  },
  {
   "cell_type": "markdown",
   "metadata": {},
   "source": [
    "### performance w/o exact match"
   ]
  },
  {
   "cell_type": "code",
   "execution_count": 69,
   "metadata": {},
   "outputs": [
    {
     "name": "stdout",
     "output_type": "stream",
     "text": [
      "KNN acc:0.55, f1-macro:0.3953041991121461\n",
      "SVM acc:0.5388888888888889, f1-macro:0.38720655688397615\n",
      "RF acc:0.5666666666666667, f1-macro:0.40760413295624565\n",
      "Ensemble metrics total. Accuracy:0.5722222222222222, f1:0.4094309969309969\n",
      "\n"
     ]
    }
   ],
   "source": [
    "from sklearn.metrics import accuracy_score, f1_score\n",
    "\n",
    "for classifier in ['knn','svm', 'rf']:\n",
    "    print('{} acc:{}, f1-macro:{}'.format(classifier.upper(), \n",
    "                                    accuracy_score(\n",
    "                                        tfidf_test_df['{}_pred_234'.format(classifier)].astype(int), \n",
    "                                        tfidf_test_df['code'].astype(int)\n",
    "                                    ),\n",
    "                                    f1_score(\n",
    "                                        tfidf_test_df['{}_pred_234'.format(classifier)].astype(int),\n",
    "                                        tfidf_test_df['code'].astype(int), average = 'macro')\n",
    "                                   )\n",
    "     )\n",
    "print('Ensemble metrics total. Accuracy:{}, f1:{}\\n'.format(\n",
    "    accuracy_score(tfidf_test_df['p_all_234'].astype(int), tfidf_test_df['code'].astype(int)), \n",
    "    f1_score(tfidf_test_df['p_all_234'].astype(int), tfidf_test_df['code'].astype(int), average = 'macro')\n",
    "))"
   ]
  },
  {
   "cell_type": "markdown",
   "metadata": {},
   "source": [
    "### With exact match added"
   ]
  },
  {
   "cell_type": "code",
   "execution_count": 70,
   "metadata": {},
   "outputs": [
    {
     "name": "stdout",
     "output_type": "stream",
     "text": [
      "Ensemble metrics after checking for exact match total. Accuracy:0.5722222222222222, f1:0.4094309969309969\n",
      "\n"
     ]
    }
   ],
   "source": [
    "tfidf_test_df['Hybrid_pred_exact_match'] = tfidf_test_df.apply(\n",
    "    lambda row : row['p_all_234'] if row['exact_match'] == -1 else row['exact_match'], axis = 1\n",
    ")\n",
    "print('Ensemble metrics after checking for exact match total. Accuracy:{}, f1:{}\\n'.format(\n",
    "    accuracy_score(tfidf_test_df['Hybrid_pred_exact_match'].astype(int), tfidf_test_df['code'].astype(int)), \n",
    "    f1_score(tfidf_test_df['Hybrid_pred_exact_match'].astype(int), tfidf_test_df['code'].astype(int), average = 'macro')\n",
    "))"
   ]
  },
  {
   "cell_type": "code",
   "execution_count": 71,
   "metadata": {},
   "outputs": [],
   "source": [
    "def clean_noc_double_codes(row, column):\n",
    "    if ',' in row[column]:\n",
    "        row[column] = str(row[column].strip('\\'').split(',')[1])\n",
    "    return row"
   ]
  },
  {
   "cell_type": "code",
   "execution_count": 72,
   "metadata": {},
   "outputs": [],
   "source": [
    "if TEST_FILE == 0:\n",
    "    NOCv5 = NOCv5.apply(clean_noc_double_codes, axis =1 , args = ('input',))\n",
    "    NOCv6 = NOCv6.apply(clean_noc_double_codes, axis =1 , args = ('input',))\n",
    "    print('NOCv5 Ensemble metrics total. Accuracy:{}, f1:{}\\n'.format(\n",
    "        accuracy_score(NOCv5['input'].astype(int), NOCv5['code'].astype(int)), \n",
    "        f1_score(NOCv5['input'].astype(int), NOCv5['code'].astype(int), average = 'macro')\n",
    "    ))\n",
    "    print('NOCv6 Ensemble metrics total. Accuracy:{}, f1:{}\\n'.format(\n",
    "        accuracy_score(NOCv6['input'].astype(int), NOCv6['code'].astype(int)), \n",
    "        f1_score(NOCv6['input'].astype(int), NOCv6['code'].astype(int), average = 'macro')\n",
    "    ))"
   ]
  },
  {
   "cell_type": "code",
   "execution_count": 73,
   "metadata": {},
   "outputs": [
    {
     "data": {
      "text/html": [
       "<div>\n",
       "<style scoped>\n",
       "    .dataframe tbody tr th:only-of-type {\n",
       "        vertical-align: middle;\n",
       "    }\n",
       "\n",
       "    .dataframe tbody tr th {\n",
       "        vertical-align: top;\n",
       "    }\n",
       "\n",
       "    .dataframe thead th {\n",
       "        text-align: right;\n",
       "    }\n",
       "</style>\n",
       "<table border=\"1\" class=\"dataframe\">\n",
       "  <thead>\n",
       "    <tr style=\"text-align: right;\">\n",
       "      <th></th>\n",
       "      <th>svm_pred</th>\n",
       "      <th>rf_pred</th>\n",
       "      <th>knn_pred</th>\n",
       "      <th>code</th>\n",
       "      <th>exact_match</th>\n",
       "      <th>p_all</th>\n",
       "      <th>svm_pred_234</th>\n",
       "      <th>rf_pred_234</th>\n",
       "      <th>knn_pred_234</th>\n",
       "      <th>p_all_234</th>\n",
       "      <th>Hybrid_pred_exact_match</th>\n",
       "    </tr>\n",
       "  </thead>\n",
       "  <tbody>\n",
       "    <tr>\n",
       "      <th>21471</th>\n",
       "      <td>6</td>\n",
       "      <td>9</td>\n",
       "      <td>6</td>\n",
       "      <td>6733</td>\n",
       "      <td>-1</td>\n",
       "      <td>6</td>\n",
       "      <td>6733</td>\n",
       "      <td>6421</td>\n",
       "      <td>6733</td>\n",
       "      <td>6733</td>\n",
       "      <td>6733</td>\n",
       "    </tr>\n",
       "    <tr>\n",
       "      <th>24101</th>\n",
       "      <td>1</td>\n",
       "      <td>1</td>\n",
       "      <td>1</td>\n",
       "      <td>1243</td>\n",
       "      <td>-1</td>\n",
       "      <td>1</td>\n",
       "      <td>1243</td>\n",
       "      <td>1243</td>\n",
       "      <td>1243</td>\n",
       "      <td>1243</td>\n",
       "      <td>1243</td>\n",
       "    </tr>\n",
       "    <tr>\n",
       "      <th>2441</th>\n",
       "      <td>0</td>\n",
       "      <td>0</td>\n",
       "      <td>0</td>\n",
       "      <td>122</td>\n",
       "      <td>-1</td>\n",
       "      <td>0</td>\n",
       "      <td>12</td>\n",
       "      <td>213</td>\n",
       "      <td>601</td>\n",
       "      <td>601</td>\n",
       "      <td>601</td>\n",
       "    </tr>\n",
       "    <tr>\n",
       "      <th>21706</th>\n",
       "      <td>0</td>\n",
       "      <td>0</td>\n",
       "      <td>0</td>\n",
       "      <td>423</td>\n",
       "      <td>-1</td>\n",
       "      <td>0</td>\n",
       "      <td>631</td>\n",
       "      <td>821</td>\n",
       "      <td>821</td>\n",
       "      <td>821</td>\n",
       "      <td>821</td>\n",
       "    </tr>\n",
       "    <tr>\n",
       "      <th>27578</th>\n",
       "      <td>7</td>\n",
       "      <td>7</td>\n",
       "      <td>7</td>\n",
       "      <td>7284</td>\n",
       "      <td>-1</td>\n",
       "      <td>7</td>\n",
       "      <td>7284</td>\n",
       "      <td>7284</td>\n",
       "      <td>7284</td>\n",
       "      <td>7284</td>\n",
       "      <td>7284</td>\n",
       "    </tr>\n",
       "    <tr>\n",
       "      <th>...</th>\n",
       "      <td>...</td>\n",
       "      <td>...</td>\n",
       "      <td>...</td>\n",
       "      <td>...</td>\n",
       "      <td>...</td>\n",
       "      <td>...</td>\n",
       "      <td>...</td>\n",
       "      <td>...</td>\n",
       "      <td>...</td>\n",
       "      <td>...</td>\n",
       "      <td>...</td>\n",
       "    </tr>\n",
       "    <tr>\n",
       "      <th>1983</th>\n",
       "      <td>6</td>\n",
       "      <td>6</td>\n",
       "      <td>6</td>\n",
       "      <td>6523</td>\n",
       "      <td>-1</td>\n",
       "      <td>6</td>\n",
       "      <td>6524</td>\n",
       "      <td>6421</td>\n",
       "      <td>6524</td>\n",
       "      <td>6524</td>\n",
       "      <td>6524</td>\n",
       "    </tr>\n",
       "    <tr>\n",
       "      <th>5007</th>\n",
       "      <td>0</td>\n",
       "      <td>0</td>\n",
       "      <td>0</td>\n",
       "      <td>114</td>\n",
       "      <td>-1</td>\n",
       "      <td>0</td>\n",
       "      <td>811</td>\n",
       "      <td>114</td>\n",
       "      <td>114</td>\n",
       "      <td>114</td>\n",
       "      <td>114</td>\n",
       "    </tr>\n",
       "    <tr>\n",
       "      <th>1528</th>\n",
       "      <td>7</td>\n",
       "      <td>7</td>\n",
       "      <td>7</td>\n",
       "      <td>7301</td>\n",
       "      <td>-1</td>\n",
       "      <td>7</td>\n",
       "      <td>7201</td>\n",
       "      <td>7301</td>\n",
       "      <td>7301</td>\n",
       "      <td>7301</td>\n",
       "      <td>7301</td>\n",
       "    </tr>\n",
       "    <tr>\n",
       "      <th>17335</th>\n",
       "      <td>0</td>\n",
       "      <td>0</td>\n",
       "      <td>0</td>\n",
       "      <td>421</td>\n",
       "      <td>-1</td>\n",
       "      <td>0</td>\n",
       "      <td>311</td>\n",
       "      <td>311</td>\n",
       "      <td>212</td>\n",
       "      <td>311</td>\n",
       "      <td>311</td>\n",
       "    </tr>\n",
       "    <tr>\n",
       "      <th>14349</th>\n",
       "      <td>3</td>\n",
       "      <td>3</td>\n",
       "      <td>3</td>\n",
       "      <td>3413</td>\n",
       "      <td>-1</td>\n",
       "      <td>3</td>\n",
       "      <td>3413</td>\n",
       "      <td>3413</td>\n",
       "      <td>3413</td>\n",
       "      <td>3413</td>\n",
       "      <td>3413</td>\n",
       "    </tr>\n",
       "  </tbody>\n",
       "</table>\n",
       "<p>180 rows × 11 columns</p>\n",
       "</div>"
      ],
      "text/plain": [
       "      svm_pred rf_pred knn_pred  code  exact_match p_all  svm_pred_234  \\\n",
       "21471        6       9        6  6733           -1     6          6733   \n",
       "24101        1       1        1  1243           -1     1          1243   \n",
       "2441         0       0        0   122           -1     0            12   \n",
       "21706        0       0        0   423           -1     0           631   \n",
       "27578        7       7        7  7284           -1     7          7284   \n",
       "...        ...     ...      ...   ...          ...   ...           ...   \n",
       "1983         6       6        6  6523           -1     6          6524   \n",
       "5007         0       0        0   114           -1     0           811   \n",
       "1528         7       7        7  7301           -1     7          7201   \n",
       "17335        0       0        0   421           -1     0           311   \n",
       "14349        3       3        3  3413           -1     3          3413   \n",
       "\n",
       "       rf_pred_234  knn_pred_234  p_all_234  Hybrid_pred_exact_match  \n",
       "21471         6421          6733       6733                     6733  \n",
       "24101         1243          1243       1243                     1243  \n",
       "2441           213           601        601                      601  \n",
       "21706          821           821        821                      821  \n",
       "27578         7284          7284       7284                     7284  \n",
       "...            ...           ...        ...                      ...  \n",
       "1983          6421          6524       6524                     6524  \n",
       "5007           114           114        114                      114  \n",
       "1528          7301          7301       7301                     7301  \n",
       "17335          311           212        311                      311  \n",
       "14349         3413          3413       3413                     3413  \n",
       "\n",
       "[180 rows x 11 columns]"
      ]
     },
     "execution_count": 73,
     "metadata": {},
     "output_type": "execute_result"
    }
   ],
   "source": [
    "tfidf_test_df.drop(columns =['vectors'])"
   ]
  },
  {
   "cell_type": "code",
   "execution_count": null,
   "metadata": {},
   "outputs": [],
   "source": []
  }
 ],
 "metadata": {
  "kernelspec": {
   "display_name": "Python 3",
   "language": "python",
   "name": "python3"
  },
  "language_info": {
   "codemirror_mode": {
    "name": "ipython",
    "version": 3
   },
   "file_extension": ".py",
   "mimetype": "text/x-python",
   "name": "python",
   "nbconvert_exporter": "python",
   "pygments_lexer": "ipython3",
   "version": "3.7.9"
  }
 },
 "nbformat": 4,
 "nbformat_minor": 4
}
