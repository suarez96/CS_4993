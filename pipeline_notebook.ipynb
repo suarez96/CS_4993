{
 "cells": [
  {
   "cell_type": "code",
   "execution_count": 1,
   "metadata": {},
   "outputs": [
    {
     "name": "stderr",
     "output_type": "stream",
     "text": [
      "[nltk_data] Downloading package punkt to\n",
      "[nltk_data]     C:\\Users\\Gradlab\\AppData\\Roaming\\nltk_data...\n",
      "[nltk_data]   Package punkt is already up-to-date!\n"
     ]
    }
   ],
   "source": [
    "import pickle\n",
    "import pandas as pd\n",
    "from scripts.Embedder import Embedder, tfidfEmbedder\n",
    "from scripts.OccupationPreprocessor import OccupationPreprocessor\n",
    "import numpy as np"
   ]
  },
  {
   "cell_type": "code",
   "execution_count": 2,
   "metadata": {},
   "outputs": [],
   "source": [
    "with open('first_dig_tfidf_clfs.pkl', 'rb') as f:\n",
    "    clf1 = pickle.load(f)\n",
    "    \n",
    "with open('second_third_fourth_dig_tfidf_clfs.pkl', 'rb') as f2:\n",
    "    clf2 = pickle.load(f2)"
   ]
  },
  {
   "cell_type": "code",
   "execution_count": 3,
   "metadata": {},
   "outputs": [],
   "source": [
    "TEST_FILE = 3"
   ]
  },
  {
   "cell_type": "code",
   "execution_count": 4,
   "metadata": {},
   "outputs": [],
   "source": [
    "if TEST_FILE == 0:\n",
    "    tfidf_test_set = OccupationPreprocessor.prepare_df(\n",
    "        './Data/ATP_gold_standard.xlsx',\n",
    "        input_column='CURRENT_JOB_TITLE',\n",
    "        code_column='NOC code by PATH',\n",
    "        n_digits=4\n",
    "    )\n",
    "    \n",
    "    NOCv5 = OccupationPreprocessor.prepare_df(\n",
    "        './Data/ATP_gold_standard.xlsx',\n",
    "        input_column='NOC code by PATH',\n",
    "        code_column='V5_NOC',\n",
    "        n_digits=4\n",
    "    )\n",
    "    \n",
    "    NOCv6 = OccupationPreprocessor.prepare_df(\n",
    "        './Data/ATP_gold_standard.xlsx',\n",
    "        input_column='NOC code by PATH',\n",
    "        code_column='V6_NOC',\n",
    "        n_digits=4\n",
    "    )\n",
    "    \n",
    "elif TEST_FILE == 1:\n",
    "    tfidf_test_set = pd.DataFrame(\n",
    "        pd.read_csv('./Data/tfidf_test_set.csv')\n",
    "    )\n",
    "    \n",
    "# A-B test set with train data\n",
    "elif TEST_FILE == 2:\n",
    "    tfidf_test_set = pd.DataFrame(\n",
    "        pd.read_csv('overlap_test_set_v4_acanoc_with_train_data.csv')\n",
    "    )\n",
    "    \n",
    "# A-B test set no train data\n",
    "elif TEST_FILE == 3:\n",
    "    tfidf_test_set = pd.DataFrame(\n",
    "        pd.read_csv('overlap_test_set_v4_acanoc_no_train_data.csv')\n",
    "    )\n",
    "    \n",
    "tfidf_train_set = pd.DataFrame(\n",
    "    pd.read_csv('./Data/tfidf_train_set.csv')\n",
    ")"
   ]
  },
  {
   "cell_type": "code",
   "execution_count": 5,
   "metadata": {},
   "outputs": [
    {
     "name": "stdout",
     "output_type": "stream",
     "text": [
      "Model loaded from ./vectorizer.joblib\n"
     ]
    }
   ],
   "source": [
    "embedder = tfidfEmbedder()"
   ]
  },
  {
   "cell_type": "code",
   "execution_count": 6,
   "metadata": {},
   "outputs": [],
   "source": [
    "sample_size = 500 if TEST_FILE == 0 else 500\n",
    "sample_pipeline_df = tfidf_test_set.sample(sample_size, random_state=123)#.drop_duplicates()"
   ]
  },
  {
   "cell_type": "markdown",
   "metadata": {},
   "source": [
    "### Metrics for alternative classifiers"
   ]
  },
  {
   "cell_type": "code",
   "execution_count": 7,
   "metadata": {},
   "outputs": [
    {
     "name": "stdout",
     "output_type": "stream",
     "text": [
      "Accuracy to Beat: 0.414\n"
     ]
    }
   ],
   "source": [
    "from sklearn.metrics import accuracy_score, f1_score\n",
    "def clean_noc_double_codes(row, column):\n",
    "    if ',' in row[column]:\n",
    "        row[column] = str(row[column].strip('\\'').split(',')[1])\n",
    "    return row\n",
    "\n",
    "if TEST_FILE == 0:\n",
    "    NOCv5 = NOCv5.apply(clean_noc_double_codes, axis =1 , args = ('input',))\n",
    "    NOCv6 = NOCv6.apply(clean_noc_double_codes, axis =1 , args = ('input',))\n",
    "    print('NOCv5 Ensemble metrics total. Accuracy:{}, f1:{}\\n'.format(\n",
    "        accuracy_score(NOCv5['input'].astype(int), NOCv5['code'].astype(int)), \n",
    "        f1_score(NOCv5['input'].astype(int), NOCv5['code'].astype(int), average = 'macro')\n",
    "    ))\n",
    "    print('NOCv6 Ensemble metrics total. Accuracy:{}, f1:{}\\n'.format(\n",
    "        accuracy_score(NOCv6['input'].astype(int), NOCv6['code'].astype(int)), \n",
    "        f1_score(NOCv6['input'].astype(int), NOCv6['code'].astype(int), average = 'macro')\n",
    "    ))\n",
    "elif TEST_FILE == 2 or TEST_FILE == 3:\n",
    "    print(\n",
    "        \"Accuracy to Beat:\",\n",
    "        accuracy_score(\n",
    "            sample_pipeline_df['code'], \n",
    "            sample_pipeline_df['v4_pred']\n",
    "        )\n",
    "    )"
   ]
  },
  {
   "cell_type": "markdown",
   "metadata": {},
   "source": [
    "### Check exact matches"
   ]
  },
  {
   "cell_type": "code",
   "execution_count": 8,
   "metadata": {},
   "outputs": [],
   "source": [
    "tfidf_test_vectors = embedder.embed(sample_pipeline_df['input'])"
   ]
  },
  {
   "cell_type": "code",
   "execution_count": 9,
   "metadata": {},
   "outputs": [],
   "source": [
    "tfidf_test_df = pd.DataFrame({\n",
    "    'svm_pred':clf1['SVM'].predict(tfidf_test_vectors),\n",
    "    'rf_pred':clf1['RF'].predict(tfidf_test_vectors),\n",
    "    'knn_pred':clf1['KNN'].predict(tfidf_test_vectors),\n",
    "    'code':sample_pipeline_df['code'].astype(str)\n",
    "})"
   ]
  },
  {
   "cell_type": "code",
   "execution_count": 10,
   "metadata": {},
   "outputs": [],
   "source": [
    "tfidf_test_df['exact_match'] = sample_pipeline_df['input'].apply(embedder.check_exact_match, args=(embedder.train_database,))"
   ]
  },
  {
   "cell_type": "code",
   "execution_count": 11,
   "metadata": {},
   "outputs": [],
   "source": [
    "tfidf_test_df['p_all'] = tfidf_test_df.apply(tfidfEmbedder.ensemble_predict, axis = 1, args = (\n",
    "    ['rf_pred','svm_pred','knn_pred'], 'svm_pred',\n",
    "))"
   ]
  },
  {
   "cell_type": "code",
   "execution_count": 12,
   "metadata": {},
   "outputs": [],
   "source": [
    "tfidf_test_df['vectors'] = tfidf_test_vectors.toarray().tolist()"
   ]
  },
  {
   "cell_type": "code",
   "execution_count": 13,
   "metadata": {},
   "outputs": [],
   "source": [
    "# put in pipeline.py\n",
    "def pipeline(row):\n",
    "    np_array = np.array(row['vectors']).reshape(1, -1)\n",
    "    p_1 = row['p_all']\n",
    "    row['svm_pred_234'] = clf2[p_1]['SVM'].predict(np_array)[0]\n",
    "    row['rf_pred_234'] = clf2[p_1]['RF'].predict(np_array)[0]\n",
    "    row['knn_pred_234'] = clf2[p_1]['KNN'].predict(np_array)[0]\n",
    "    return row"
   ]
  },
  {
   "cell_type": "code",
   "execution_count": 14,
   "metadata": {},
   "outputs": [
    {
     "name": "stdout",
     "output_type": "stream",
     "text": [
      "time to predict on 500 samples: 117.09 seconds (0.234 s/sample)\n"
     ]
    }
   ],
   "source": [
    "import time\n",
    "start_time = time.time()\n",
    "tfidf_test_df = tfidf_test_df.apply(pipeline, axis = 1)\n",
    "elapsed = time.time()-start_time\n",
    "print('time to predict on {0} samples: {1:.2f} seconds ({2:.3f} s/sample)'.format(sample_pipeline_df.shape[0],\n",
    "                                                         elapsed, \n",
    "                                                        elapsed/sample_pipeline_df.shape[0])\n",
    "     )"
   ]
  },
  {
   "cell_type": "code",
   "execution_count": 15,
   "metadata": {},
   "outputs": [],
   "source": [
    "tfidf_test_df['p_all_234'] = tfidf_test_df.apply(tfidfEmbedder.ensemble_predict, axis = 1, args = (\n",
    "    ['svm_pred_234','rf_pred_234','knn_pred_234'], 'knn_pred_234',\n",
    "))"
   ]
  },
  {
   "cell_type": "markdown",
   "metadata": {},
   "source": [
    "### performance w/o exact match"
   ]
  },
  {
   "cell_type": "code",
   "execution_count": 16,
   "metadata": {},
   "outputs": [
    {
     "name": "stdout",
     "output_type": "stream",
     "text": [
      "KNN acc:0.412, f1-macro:0.28981338064635614\n",
      "SVM acc:0.452, f1-macro:0.3476788298262049\n",
      "RF acc:0.426, f1-macro:0.32403924624020314\n",
      "Ensemble metrics total. Accuracy:0.454, f1:0.3399103944323261\n",
      "\n"
     ]
    }
   ],
   "source": [
    "from sklearn.metrics import accuracy_score, f1_score\n",
    "\n",
    "for classifier in ['knn','svm', 'rf']:\n",
    "    print('{} acc:{}, f1-macro:{}'.format(classifier.upper(), \n",
    "                                    accuracy_score(\n",
    "                                        tfidf_test_df['{}_pred_234'.format(classifier)].astype(int), \n",
    "                                        tfidf_test_df['code'].astype(int)\n",
    "                                    ),\n",
    "                                    f1_score(\n",
    "                                        tfidf_test_df['{}_pred_234'.format(classifier)].astype(int),\n",
    "                                        tfidf_test_df['code'].astype(int), average = 'macro')\n",
    "                                   )\n",
    "     )\n",
    "print('Ensemble metrics total. Accuracy:{}, f1:{}\\n'.format(\n",
    "    accuracy_score(tfidf_test_df['p_all_234'].astype(int), tfidf_test_df['code'].astype(int)), \n",
    "    f1_score(tfidf_test_df['p_all_234'].astype(int), tfidf_test_df['code'].astype(int), average = 'macro')\n",
    "))"
   ]
  },
  {
   "cell_type": "markdown",
   "metadata": {},
   "source": [
    "### With exact match added"
   ]
  },
  {
   "cell_type": "code",
   "execution_count": 17,
   "metadata": {},
   "outputs": [
    {
     "name": "stdout",
     "output_type": "stream",
     "text": [
      "Ensemble metrics after checking for exact match total. Accuracy:0.456, f1:0.3402470407543739\n",
      "\n"
     ]
    }
   ],
   "source": [
    "tfidf_test_df['Hybrid_pred_exact_match'] = tfidf_test_df.apply(\n",
    "    lambda row : row['p_all_234'] if row['exact_match'] == -1 else row['exact_match'], axis = 1\n",
    ")\n",
    "print('Ensemble metrics after checking for exact match total. Accuracy:{}, f1:{}\\n'.format(\n",
    "    accuracy_score(tfidf_test_df['Hybrid_pred_exact_match'].astype(int), tfidf_test_df['code'].astype(int)), \n",
    "    f1_score(tfidf_test_df['Hybrid_pred_exact_match'].astype(int), tfidf_test_df['code'].astype(int), average = 'macro')\n",
    "))"
   ]
  },
  {
   "cell_type": "code",
   "execution_count": 18,
   "metadata": {},
   "outputs": [
    {
     "data": {
      "text/html": [
       "<div>\n",
       "<style scoped>\n",
       "    .dataframe tbody tr th:only-of-type {\n",
       "        vertical-align: middle;\n",
       "    }\n",
       "\n",
       "    .dataframe tbody tr th {\n",
       "        vertical-align: top;\n",
       "    }\n",
       "\n",
       "    .dataframe thead th {\n",
       "        text-align: right;\n",
       "    }\n",
       "</style>\n",
       "<table border=\"1\" class=\"dataframe\">\n",
       "  <thead>\n",
       "    <tr style=\"text-align: right;\">\n",
       "      <th></th>\n",
       "      <th>svm_pred</th>\n",
       "      <th>rf_pred</th>\n",
       "      <th>knn_pred</th>\n",
       "      <th>code</th>\n",
       "      <th>exact_match</th>\n",
       "      <th>p_all</th>\n",
       "      <th>svm_pred_234</th>\n",
       "      <th>rf_pred_234</th>\n",
       "      <th>knn_pred_234</th>\n",
       "      <th>p_all_234</th>\n",
       "      <th>Hybrid_pred_exact_match</th>\n",
       "    </tr>\n",
       "  </thead>\n",
       "  <tbody>\n",
       "    <tr>\n",
       "      <th>8060</th>\n",
       "      <td>2</td>\n",
       "      <td>2</td>\n",
       "      <td>7</td>\n",
       "      <td>7384</td>\n",
       "      <td>-1</td>\n",
       "      <td>2</td>\n",
       "      <td>2242</td>\n",
       "      <td>2242</td>\n",
       "      <td>2242</td>\n",
       "      <td>2242</td>\n",
       "      <td>2242</td>\n",
       "    </tr>\n",
       "    <tr>\n",
       "      <th>661</th>\n",
       "      <td>0</td>\n",
       "      <td>0</td>\n",
       "      <td>0</td>\n",
       "      <td>822</td>\n",
       "      <td>-1</td>\n",
       "      <td>0</td>\n",
       "      <td>632</td>\n",
       "      <td>632</td>\n",
       "      <td>822</td>\n",
       "      <td>632</td>\n",
       "      <td>632</td>\n",
       "    </tr>\n",
       "    <tr>\n",
       "      <th>4593</th>\n",
       "      <td>8</td>\n",
       "      <td>9</td>\n",
       "      <td>8</td>\n",
       "      <td>8252</td>\n",
       "      <td>-1</td>\n",
       "      <td>8</td>\n",
       "      <td>8252</td>\n",
       "      <td>8252</td>\n",
       "      <td>8252</td>\n",
       "      <td>8252</td>\n",
       "      <td>8252</td>\n",
       "    </tr>\n",
       "    <tr>\n",
       "      <th>2932</th>\n",
       "      <td>4</td>\n",
       "      <td>4</td>\n",
       "      <td>4</td>\n",
       "      <td>4156</td>\n",
       "      <td>-1</td>\n",
       "      <td>4</td>\n",
       "      <td>4156</td>\n",
       "      <td>4163</td>\n",
       "      <td>4156</td>\n",
       "      <td>4156</td>\n",
       "      <td>4156</td>\n",
       "    </tr>\n",
       "    <tr>\n",
       "      <th>2019</th>\n",
       "      <td>2</td>\n",
       "      <td>2</td>\n",
       "      <td>0</td>\n",
       "      <td>2282</td>\n",
       "      <td>-1</td>\n",
       "      <td>2</td>\n",
       "      <td>2282</td>\n",
       "      <td>2282</td>\n",
       "      <td>2282</td>\n",
       "      <td>2282</td>\n",
       "      <td>2282</td>\n",
       "    </tr>\n",
       "    <tr>\n",
       "      <th>...</th>\n",
       "      <td>...</td>\n",
       "      <td>...</td>\n",
       "      <td>...</td>\n",
       "      <td>...</td>\n",
       "      <td>...</td>\n",
       "      <td>...</td>\n",
       "      <td>...</td>\n",
       "      <td>...</td>\n",
       "      <td>...</td>\n",
       "      <td>...</td>\n",
       "      <td>...</td>\n",
       "    </tr>\n",
       "    <tr>\n",
       "      <th>9872</th>\n",
       "      <td>4</td>\n",
       "      <td>1</td>\n",
       "      <td>0</td>\n",
       "      <td>1121</td>\n",
       "      <td>-1</td>\n",
       "      <td>4</td>\n",
       "      <td>4166</td>\n",
       "      <td>4161</td>\n",
       "      <td>4031</td>\n",
       "      <td>4031</td>\n",
       "      <td>4031</td>\n",
       "    </tr>\n",
       "    <tr>\n",
       "      <th>3160</th>\n",
       "      <td>4</td>\n",
       "      <td>4</td>\n",
       "      <td>4</td>\n",
       "      <td>4311</td>\n",
       "      <td>-1</td>\n",
       "      <td>4</td>\n",
       "      <td>4311</td>\n",
       "      <td>4311</td>\n",
       "      <td>4311</td>\n",
       "      <td>4311</td>\n",
       "      <td>4311</td>\n",
       "    </tr>\n",
       "    <tr>\n",
       "      <th>4860</th>\n",
       "      <td>1</td>\n",
       "      <td>1</td>\n",
       "      <td>1</td>\n",
       "      <td>1222</td>\n",
       "      <td>-1</td>\n",
       "      <td>1</td>\n",
       "      <td>1241</td>\n",
       "      <td>1222</td>\n",
       "      <td>1242</td>\n",
       "      <td>1242</td>\n",
       "      <td>1242</td>\n",
       "    </tr>\n",
       "    <tr>\n",
       "      <th>3697</th>\n",
       "      <td>5</td>\n",
       "      <td>9</td>\n",
       "      <td>6</td>\n",
       "      <td>6331</td>\n",
       "      <td>-1</td>\n",
       "      <td>5</td>\n",
       "      <td>5232</td>\n",
       "      <td>5244</td>\n",
       "      <td>5121</td>\n",
       "      <td>5121</td>\n",
       "      <td>5121</td>\n",
       "    </tr>\n",
       "    <tr>\n",
       "      <th>8152</th>\n",
       "      <td>4</td>\n",
       "      <td>4</td>\n",
       "      <td>1</td>\n",
       "      <td>4012</td>\n",
       "      <td>-1</td>\n",
       "      <td>4</td>\n",
       "      <td>4012</td>\n",
       "      <td>4413</td>\n",
       "      <td>4012</td>\n",
       "      <td>4012</td>\n",
       "      <td>4012</td>\n",
       "    </tr>\n",
       "  </tbody>\n",
       "</table>\n",
       "<p>500 rows × 11 columns</p>\n",
       "</div>"
      ],
      "text/plain": [
       "     svm_pred rf_pred knn_pred  code  exact_match p_all  svm_pred_234  \\\n",
       "8060        2       2        7  7384           -1     2          2242   \n",
       "661         0       0        0   822           -1     0           632   \n",
       "4593        8       9        8  8252           -1     8          8252   \n",
       "2932        4       4        4  4156           -1     4          4156   \n",
       "2019        2       2        0  2282           -1     2          2282   \n",
       "...       ...     ...      ...   ...          ...   ...           ...   \n",
       "9872        4       1        0  1121           -1     4          4166   \n",
       "3160        4       4        4  4311           -1     4          4311   \n",
       "4860        1       1        1  1222           -1     1          1241   \n",
       "3697        5       9        6  6331           -1     5          5232   \n",
       "8152        4       4        1  4012           -1     4          4012   \n",
       "\n",
       "      rf_pred_234  knn_pred_234  p_all_234  Hybrid_pred_exact_match  \n",
       "8060         2242          2242       2242                     2242  \n",
       "661           632           822        632                      632  \n",
       "4593         8252          8252       8252                     8252  \n",
       "2932         4163          4156       4156                     4156  \n",
       "2019         2282          2282       2282                     2282  \n",
       "...           ...           ...        ...                      ...  \n",
       "9872         4161          4031       4031                     4031  \n",
       "3160         4311          4311       4311                     4311  \n",
       "4860         1222          1242       1242                     1242  \n",
       "3697         5244          5121       5121                     5121  \n",
       "8152         4413          4012       4012                     4012  \n",
       "\n",
       "[500 rows x 11 columns]"
      ]
     },
     "execution_count": 18,
     "metadata": {},
     "output_type": "execute_result"
    }
   ],
   "source": [
    "tfidf_test_df.drop(columns =['vectors'])"
   ]
  },
  {
   "cell_type": "code",
   "execution_count": null,
   "metadata": {},
   "outputs": [],
   "source": []
  }
 ],
 "metadata": {
  "kernelspec": {
   "display_name": "Python 3",
   "language": "python",
   "name": "python3"
  },
  "language_info": {
   "codemirror_mode": {
    "name": "ipython",
    "version": 3
   },
   "file_extension": ".py",
   "mimetype": "text/x-python",
   "name": "python",
   "nbconvert_exporter": "python",
   "pygments_lexer": "ipython3",
   "version": "3.7.9"
  }
 },
 "nbformat": 4,
 "nbformat_minor": 4
}
