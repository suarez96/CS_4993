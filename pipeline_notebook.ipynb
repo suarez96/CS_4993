{
 "cells": [
  {
   "cell_type": "code",
   "execution_count": 1,
   "metadata": {},
   "outputs": [
    {
     "name": "stderr",
     "output_type": "stream",
     "text": [
      "[nltk_data] Downloading package punkt to\n",
      "[nltk_data]     C:\\Users\\Gradlab\\AppData\\Roaming\\nltk_data...\n",
      "[nltk_data]   Package punkt is already up-to-date!\n"
     ]
    }
   ],
   "source": [
    "import pickle\n",
    "import pandas as pd\n",
    "from scripts.Embedder import Embedder\n",
    "import numpy as np"
   ]
  },
  {
   "cell_type": "code",
   "execution_count": 2,
   "metadata": {},
   "outputs": [],
   "source": [
    "with open('first_dig_tfidf_clfs.pkl', 'rb') as f:\n",
    "    clf1 = pickle.load(f)\n",
    "    \n",
    "with open('second_third_fourth_dig_tfidf_clfs.pkl', 'rb') as f2:\n",
    "    clf2 = pickle.load(f2)"
   ]
  },
  {
   "cell_type": "code",
   "execution_count": 3,
   "metadata": {},
   "outputs": [],
   "source": [
    "tfidf_test_set = pd.DataFrame(\n",
    "    pd.read_csv('./Data/tfidf_test_set.csv')\n",
    ")\n",
    "tfidf_train_set = pd.DataFrame(\n",
    "    pd.read_csv('./Data/tfidf_train_set.csv')\n",
    ")"
   ]
  },
  {
   "cell_type": "code",
   "execution_count": 4,
   "metadata": {},
   "outputs": [
    {
     "name": "stdout",
     "output_type": "stream",
     "text": [
      "Defaulted doc2vec param: dm=1\n"
     ]
    }
   ],
   "source": [
    "TRIAL_NAME = 'trial_11'\n",
    "\n",
    "doc2vec_params = dict(\n",
    "epochs = 6144, # training cycles\n",
    "vec_size = 64, # specific to doc2vec, size of the output vector\n",
    "alpha = 0.001, # learning rate\n",
    "window = 3,\n",
    "min_count = 2,\n",
    "min_alpha = 0.00025\n",
    ")\n",
    "\n",
    "embedder = Embedder(\n",
    "    d2v_trial_name=TRIAL_NAME,\n",
    "    d2v_params=doc2vec_params,\n",
    "    train_data = tfidf_train_set,\n",
    "    corpus_column = 'input',\n",
    "    infer_params = {\n",
    "        'steps':2048,\n",
    "        'alpha':0.03\n",
    "    }\n",
    ")"
   ]
  },
  {
   "cell_type": "code",
   "execution_count": 5,
   "metadata": {},
   "outputs": [
    {
     "name": "stdout",
     "output_type": "stream",
     "text": [
      "TF-IDF training vector shape (37745, 2633)\n"
     ]
    },
    {
     "data": {
      "text/plain": [
       "<37745x2633 sparse matrix of type '<class 'numpy.float64'>'\n",
       "\twith 108442 stored elements in Compressed Sparse Row format>"
      ]
     },
     "execution_count": 5,
     "metadata": {},
     "output_type": "execute_result"
    }
   ],
   "source": [
    "embedder.train_tfidf()"
   ]
  },
  {
   "cell_type": "code",
   "execution_count": 6,
   "metadata": {},
   "outputs": [],
   "source": [
    "tfidf_test_vectors = Embedder.get_tfidf_embeddings(embedder, tfidf_test_set['input'])"
   ]
  },
  {
   "cell_type": "code",
   "execution_count": 7,
   "metadata": {},
   "outputs": [],
   "source": [
    "from sklearn.metrics import accuracy_score, f1_score\n",
    "tfidf_test_df = pd.DataFrame({\n",
    "    'svm_pred':clf1['SVM'].predict(tfidf_test_vectors),\n",
    "    'rf_pred':clf1['RF'].predict(tfidf_test_vectors),\n",
    "    'knn_pred':clf1['KNN'].predict(tfidf_test_vectors),\n",
    "    'code':tfidf_test_set['code'].astype(str)\n",
    "})"
   ]
  },
  {
   "cell_type": "code",
   "execution_count": 8,
   "metadata": {},
   "outputs": [],
   "source": [
    "tfidf_test_df['code']=tfidf_test_set['code'].astype(str)"
   ]
  },
  {
   "cell_type": "code",
   "execution_count": 9,
   "metadata": {},
   "outputs": [],
   "source": [
    "from collections import Counter\n",
    "def ensemble_predict(row, predictor_cols, default_predictor):\n",
    "\n",
    "    # find majority vote for all methods, :-1 drops ground truth column\n",
    "    votes = Counter(row[predictor_cols]).most_common(1)\n",
    "    \n",
    "    # take svm as tie-breaker because CURRENTLY most accurate\n",
    "    winning_class, highest_num_votes = votes[0]\n",
    "    return row[default_predictor] if highest_num_votes < 2 else winning_class"
   ]
  },
  {
   "cell_type": "code",
   "execution_count": 10,
   "metadata": {},
   "outputs": [
    {
     "data": {
      "text/html": [
       "<div>\n",
       "<style scoped>\n",
       "    .dataframe tbody tr th:only-of-type {\n",
       "        vertical-align: middle;\n",
       "    }\n",
       "\n",
       "    .dataframe tbody tr th {\n",
       "        vertical-align: top;\n",
       "    }\n",
       "\n",
       "    .dataframe thead th {\n",
       "        text-align: right;\n",
       "    }\n",
       "</style>\n",
       "<table border=\"1\" class=\"dataframe\">\n",
       "  <thead>\n",
       "    <tr style=\"text-align: right;\">\n",
       "      <th></th>\n",
       "      <th>svm_pred</th>\n",
       "      <th>rf_pred</th>\n",
       "      <th>knn_pred</th>\n",
       "      <th>code</th>\n",
       "    </tr>\n",
       "  </thead>\n",
       "  <tbody>\n",
       "    <tr>\n",
       "      <th>0</th>\n",
       "      <td>1</td>\n",
       "      <td>1</td>\n",
       "      <td>1</td>\n",
       "      <td>1221</td>\n",
       "    </tr>\n",
       "    <tr>\n",
       "      <th>1</th>\n",
       "      <td>0</td>\n",
       "      <td>0</td>\n",
       "      <td>1</td>\n",
       "      <td>423</td>\n",
       "    </tr>\n",
       "    <tr>\n",
       "      <th>2</th>\n",
       "      <td>2</td>\n",
       "      <td>9</td>\n",
       "      <td>7</td>\n",
       "      <td>7291</td>\n",
       "    </tr>\n",
       "    <tr>\n",
       "      <th>3</th>\n",
       "      <td>0</td>\n",
       "      <td>0</td>\n",
       "      <td>0</td>\n",
       "      <td>821</td>\n",
       "    </tr>\n",
       "    <tr>\n",
       "      <th>4</th>\n",
       "      <td>4</td>\n",
       "      <td>4</td>\n",
       "      <td>4</td>\n",
       "      <td>4032</td>\n",
       "    </tr>\n",
       "    <tr>\n",
       "      <th>5</th>\n",
       "      <td>4</td>\n",
       "      <td>4</td>\n",
       "      <td>4</td>\n",
       "      <td>4166</td>\n",
       "    </tr>\n",
       "    <tr>\n",
       "      <th>6</th>\n",
       "      <td>6</td>\n",
       "      <td>9</td>\n",
       "      <td>6</td>\n",
       "      <td>8222</td>\n",
       "    </tr>\n",
       "    <tr>\n",
       "      <th>7</th>\n",
       "      <td>3</td>\n",
       "      <td>0</td>\n",
       "      <td>3</td>\n",
       "      <td>311</td>\n",
       "    </tr>\n",
       "    <tr>\n",
       "      <th>8</th>\n",
       "      <td>7</td>\n",
       "      <td>9</td>\n",
       "      <td>7</td>\n",
       "      <td>1522</td>\n",
       "    </tr>\n",
       "    <tr>\n",
       "      <th>9</th>\n",
       "      <td>4</td>\n",
       "      <td>9</td>\n",
       "      <td>1</td>\n",
       "      <td>412</td>\n",
       "    </tr>\n",
       "  </tbody>\n",
       "</table>\n",
       "</div>"
      ],
      "text/plain": [
       "  svm_pred rf_pred knn_pred  code\n",
       "0        1       1        1  1221\n",
       "1        0       0        1   423\n",
       "2        2       9        7  7291\n",
       "3        0       0        0   821\n",
       "4        4       4        4  4032\n",
       "5        4       4        4  4166\n",
       "6        6       9        6  8222\n",
       "7        3       0        3   311\n",
       "8        7       9        7  1522\n",
       "9        4       9        1   412"
      ]
     },
     "execution_count": 10,
     "metadata": {},
     "output_type": "execute_result"
    }
   ],
   "source": [
    "tfidf_test_df.head(10)"
   ]
  },
  {
   "cell_type": "code",
   "execution_count": 11,
   "metadata": {},
   "outputs": [],
   "source": [
    "tfidf_test_df['p_all'] = tfidf_test_df.apply(ensemble_predict, axis = 1, args = (\n",
    "    ['rf_pred','svm_pred','knn_pred'], 'svm_pred',\n",
    "))"
   ]
  },
  {
   "cell_type": "code",
   "execution_count": 12,
   "metadata": {},
   "outputs": [],
   "source": [
    "tfidf_test_df['vectors'] = tfidf_test_vectors.toarray().tolist()"
   ]
  },
  {
   "cell_type": "code",
   "execution_count": 13,
   "metadata": {},
   "outputs": [],
   "source": [
    "def pipeline(row):\n",
    "    np_array = np.array(row['vectors']).reshape(1, -1)\n",
    "    p_1 = row['p_all']\n",
    "    row['svm_pred_234'] = clf2[p_1]['SVM'].predict(np_array)[0]\n",
    "    row['rf_pred_234'] = clf2[p_1]['RF'].predict(np_array)[0]\n",
    "    row['knn_pred_234'] = clf2[p_1]['KNN'].predict(np_array)[0]\n",
    "    return row"
   ]
  },
  {
   "cell_type": "code",
   "execution_count": 14,
   "metadata": {},
   "outputs": [],
   "source": [
    "import time\n",
    "sample_size = 100\n",
    "sample_pipeline_df = tfidf_test_df.sample(sample_size)"
   ]
  },
  {
   "cell_type": "code",
   "execution_count": 15,
   "metadata": {},
   "outputs": [
    {
     "name": "stdout",
     "output_type": "stream",
     "text": [
      "time to predict on 100 samples: 23.84 seconds\n"
     ]
    }
   ],
   "source": [
    "start_time = time.time()\n",
    "sample_pipeline_df = sample_pipeline_df.apply(pipeline, axis = 1)\n",
    "print('time to predict on {} samples: {} seconds'.format(sample_size, np.round(time.time()-start_time, 2)))"
   ]
  },
  {
   "cell_type": "code",
   "execution_count": 16,
   "metadata": {},
   "outputs": [],
   "source": [
    "sample_pipeline_df['p_all_234'] = sample_pipeline_df.apply(ensemble_predict, axis = 1, args = (\n",
    "    ['svm_pred_234','rf_pred_234','knn_pred_234'], 'knn_pred_234',\n",
    "))"
   ]
  },
  {
   "cell_type": "code",
   "execution_count": 17,
   "metadata": {},
   "outputs": [
    {
     "name": "stdout",
     "output_type": "stream",
     "text": [
      "KNN acc:0.7, f1-macro:0.49197012138188606\n",
      "SVM acc:0.71, f1-macro:0.5090859332238642\n",
      "RF acc:0.7, f1-macro:0.49948979591836734\n",
      "Ensemble metrics total. Accuracy:0.71, f1:0.5038095238095237\n",
      "\n"
     ]
    }
   ],
   "source": [
    "from sklearn.metrics import accuracy_score, f1_score\n",
    "\n",
    "for classifier in ['knn','svm', 'rf']:\n",
    "    print('{} acc:{}, f1-macro:{}'.format(classifier.upper(), \n",
    "                                    accuracy_score(\n",
    "                                        sample_pipeline_df['{}_pred_234'.format(classifier)].astype(int), \n",
    "                                        sample_pipeline_df['code'].astype(int)\n",
    "                                    ),\n",
    "                                    f1_score(\n",
    "                                        sample_pipeline_df['{}_pred_234'.format(classifier)].astype(int),\n",
    "                                        sample_pipeline_df['code'].astype(int), average = 'macro')\n",
    "                                   )\n",
    "     )\n",
    "print('Ensemble metrics total. Accuracy:{}, f1:{}\\n'.format(\n",
    "    accuracy_score(sample_pipeline_df['p_all_234'].astype(int), sample_pipeline_df['code'].astype(int)), \n",
    "    f1_score(sample_pipeline_df['p_all_234'].astype(int), sample_pipeline_df['code'].astype(int), average = 'macro')\n",
    "))"
   ]
  },
  {
   "cell_type": "code",
   "execution_count": 18,
   "metadata": {},
   "outputs": [
    {
     "data": {
      "text/html": [
       "<div>\n",
       "<style scoped>\n",
       "    .dataframe tbody tr th:only-of-type {\n",
       "        vertical-align: middle;\n",
       "    }\n",
       "\n",
       "    .dataframe tbody tr th {\n",
       "        vertical-align: top;\n",
       "    }\n",
       "\n",
       "    .dataframe thead th {\n",
       "        text-align: right;\n",
       "    }\n",
       "</style>\n",
       "<table border=\"1\" class=\"dataframe\">\n",
       "  <thead>\n",
       "    <tr style=\"text-align: right;\">\n",
       "      <th></th>\n",
       "      <th>svm_pred</th>\n",
       "      <th>rf_pred</th>\n",
       "      <th>knn_pred</th>\n",
       "      <th>code</th>\n",
       "      <th>p_all</th>\n",
       "      <th>vectors</th>\n",
       "      <th>svm_pred_234</th>\n",
       "      <th>rf_pred_234</th>\n",
       "      <th>knn_pred_234</th>\n",
       "      <th>p_all_234</th>\n",
       "    </tr>\n",
       "  </thead>\n",
       "  <tbody>\n",
       "    <tr>\n",
       "      <th>30255</th>\n",
       "      <td>1</td>\n",
       "      <td>1</td>\n",
       "      <td>1</td>\n",
       "      <td>1241</td>\n",
       "      <td>1</td>\n",
       "      <td>[0.0, 0.0, 0.0, 0.0, 0.0, 0.0, 0.0, 0.0, 0.0, ...</td>\n",
       "      <td>1241</td>\n",
       "      <td>1241</td>\n",
       "      <td>1241</td>\n",
       "      <td>1241</td>\n",
       "    </tr>\n",
       "    <tr>\n",
       "      <th>7388</th>\n",
       "      <td>6</td>\n",
       "      <td>6</td>\n",
       "      <td>6</td>\n",
       "      <td>6421</td>\n",
       "      <td>6</td>\n",
       "      <td>[0.0, 0.0, 0.0, 0.0, 0.0, 0.0, 0.0, 0.0, 0.0, ...</td>\n",
       "      <td>6421</td>\n",
       "      <td>6421</td>\n",
       "      <td>6421</td>\n",
       "      <td>6421</td>\n",
       "    </tr>\n",
       "    <tr>\n",
       "      <th>27190</th>\n",
       "      <td>1</td>\n",
       "      <td>1</td>\n",
       "      <td>1</td>\n",
       "      <td>1241</td>\n",
       "      <td>1</td>\n",
       "      <td>[0.0, 0.0, 0.0, 0.0, 0.0, 0.0, 0.0, 0.0, 0.0, ...</td>\n",
       "      <td>1241</td>\n",
       "      <td>1241</td>\n",
       "      <td>1241</td>\n",
       "      <td>1241</td>\n",
       "    </tr>\n",
       "    <tr>\n",
       "      <th>15277</th>\n",
       "      <td>1</td>\n",
       "      <td>1</td>\n",
       "      <td>1</td>\n",
       "      <td>1221</td>\n",
       "      <td>1</td>\n",
       "      <td>[0.0, 0.0, 0.0, 0.0, 0.0, 0.0, 0.0, 0.0, 0.0, ...</td>\n",
       "      <td>1221</td>\n",
       "      <td>1221</td>\n",
       "      <td>1221</td>\n",
       "      <td>1221</td>\n",
       "    </tr>\n",
       "    <tr>\n",
       "      <th>19434</th>\n",
       "      <td>0</td>\n",
       "      <td>0</td>\n",
       "      <td>0</td>\n",
       "      <td>13</td>\n",
       "      <td>0</td>\n",
       "      <td>[0.0, 0.0, 0.0, 0.0, 0.0, 0.0, 0.0, 0.0, 0.0, ...</td>\n",
       "      <td>13</td>\n",
       "      <td>13</td>\n",
       "      <td>13</td>\n",
       "      <td>13</td>\n",
       "    </tr>\n",
       "    <tr>\n",
       "      <th>...</th>\n",
       "      <td>...</td>\n",
       "      <td>...</td>\n",
       "      <td>...</td>\n",
       "      <td>...</td>\n",
       "      <td>...</td>\n",
       "      <td>...</td>\n",
       "      <td>...</td>\n",
       "      <td>...</td>\n",
       "      <td>...</td>\n",
       "      <td>...</td>\n",
       "    </tr>\n",
       "    <tr>\n",
       "      <th>15438</th>\n",
       "      <td>1</td>\n",
       "      <td>0</td>\n",
       "      <td>1</td>\n",
       "      <td>1314</td>\n",
       "      <td>1</td>\n",
       "      <td>[0.0, 0.0, 0.0, 0.0, 0.0, 0.0, 0.0, 0.0, 0.0, ...</td>\n",
       "      <td>1314</td>\n",
       "      <td>1314</td>\n",
       "      <td>1314</td>\n",
       "      <td>1314</td>\n",
       "    </tr>\n",
       "    <tr>\n",
       "      <th>9866</th>\n",
       "      <td>1</td>\n",
       "      <td>1</td>\n",
       "      <td>1</td>\n",
       "      <td>1411</td>\n",
       "      <td>1</td>\n",
       "      <td>[0.0, 0.0, 0.0, 0.0, 0.0, 0.0, 0.0, 0.0, 0.0, ...</td>\n",
       "      <td>1411</td>\n",
       "      <td>1411</td>\n",
       "      <td>1411</td>\n",
       "      <td>1411</td>\n",
       "    </tr>\n",
       "    <tr>\n",
       "      <th>25160</th>\n",
       "      <td>1</td>\n",
       "      <td>9</td>\n",
       "      <td>0</td>\n",
       "      <td>711</td>\n",
       "      <td>1</td>\n",
       "      <td>[0.0, 0.0, 0.0, 0.0, 0.0, 0.0, 0.0, 0.0, 0.0, ...</td>\n",
       "      <td>1211</td>\n",
       "      <td>1211</td>\n",
       "      <td>1111</td>\n",
       "      <td>1211</td>\n",
       "    </tr>\n",
       "    <tr>\n",
       "      <th>10841</th>\n",
       "      <td>4</td>\n",
       "      <td>4</td>\n",
       "      <td>4</td>\n",
       "      <td>4413</td>\n",
       "      <td>4</td>\n",
       "      <td>[0.0, 0.0, 0.0, 0.0, 0.0, 0.0, 0.0, 0.0, 0.0, ...</td>\n",
       "      <td>4413</td>\n",
       "      <td>4413</td>\n",
       "      <td>4413</td>\n",
       "      <td>4413</td>\n",
       "    </tr>\n",
       "    <tr>\n",
       "      <th>21764</th>\n",
       "      <td>3</td>\n",
       "      <td>9</td>\n",
       "      <td>3</td>\n",
       "      <td>3414</td>\n",
       "      <td>3</td>\n",
       "      <td>[0.0, 0.0, 0.0, 0.0, 0.0, 0.0, 0.0, 0.0, 0.0, ...</td>\n",
       "      <td>3414</td>\n",
       "      <td>3414</td>\n",
       "      <td>3414</td>\n",
       "      <td>3414</td>\n",
       "    </tr>\n",
       "  </tbody>\n",
       "</table>\n",
       "<p>100 rows × 10 columns</p>\n",
       "</div>"
      ],
      "text/plain": [
       "      svm_pred rf_pred knn_pred  code p_all  \\\n",
       "30255        1       1        1  1241     1   \n",
       "7388         6       6        6  6421     6   \n",
       "27190        1       1        1  1241     1   \n",
       "15277        1       1        1  1221     1   \n",
       "19434        0       0        0    13     0   \n",
       "...        ...     ...      ...   ...   ...   \n",
       "15438        1       0        1  1314     1   \n",
       "9866         1       1        1  1411     1   \n",
       "25160        1       9        0   711     1   \n",
       "10841        4       4        4  4413     4   \n",
       "21764        3       9        3  3414     3   \n",
       "\n",
       "                                                 vectors  svm_pred_234  \\\n",
       "30255  [0.0, 0.0, 0.0, 0.0, 0.0, 0.0, 0.0, 0.0, 0.0, ...          1241   \n",
       "7388   [0.0, 0.0, 0.0, 0.0, 0.0, 0.0, 0.0, 0.0, 0.0, ...          6421   \n",
       "27190  [0.0, 0.0, 0.0, 0.0, 0.0, 0.0, 0.0, 0.0, 0.0, ...          1241   \n",
       "15277  [0.0, 0.0, 0.0, 0.0, 0.0, 0.0, 0.0, 0.0, 0.0, ...          1221   \n",
       "19434  [0.0, 0.0, 0.0, 0.0, 0.0, 0.0, 0.0, 0.0, 0.0, ...            13   \n",
       "...                                                  ...           ...   \n",
       "15438  [0.0, 0.0, 0.0, 0.0, 0.0, 0.0, 0.0, 0.0, 0.0, ...          1314   \n",
       "9866   [0.0, 0.0, 0.0, 0.0, 0.0, 0.0, 0.0, 0.0, 0.0, ...          1411   \n",
       "25160  [0.0, 0.0, 0.0, 0.0, 0.0, 0.0, 0.0, 0.0, 0.0, ...          1211   \n",
       "10841  [0.0, 0.0, 0.0, 0.0, 0.0, 0.0, 0.0, 0.0, 0.0, ...          4413   \n",
       "21764  [0.0, 0.0, 0.0, 0.0, 0.0, 0.0, 0.0, 0.0, 0.0, ...          3414   \n",
       "\n",
       "       rf_pred_234  knn_pred_234  p_all_234  \n",
       "30255         1241          1241       1241  \n",
       "7388          6421          6421       6421  \n",
       "27190         1241          1241       1241  \n",
       "15277         1221          1221       1221  \n",
       "19434           13            13         13  \n",
       "...            ...           ...        ...  \n",
       "15438         1314          1314       1314  \n",
       "9866          1411          1411       1411  \n",
       "25160         1211          1111       1211  \n",
       "10841         4413          4413       4413  \n",
       "21764         3414          3414       3414  \n",
       "\n",
       "[100 rows x 10 columns]"
      ]
     },
     "execution_count": 18,
     "metadata": {},
     "output_type": "execute_result"
    }
   ],
   "source": [
    "sample_pipeline_df"
   ]
  },
  {
   "cell_type": "code",
   "execution_count": null,
   "metadata": {},
   "outputs": [],
   "source": []
  }
 ],
 "metadata": {
  "kernelspec": {
   "display_name": "Python 3",
   "language": "python",
   "name": "python3"
  },
  "language_info": {
   "codemirror_mode": {
    "name": "ipython",
    "version": 3
   },
   "file_extension": ".py",
   "mimetype": "text/x-python",
   "name": "python",
   "nbconvert_exporter": "python",
   "pygments_lexer": "ipython3",
   "version": "3.7.9"
  }
 },
 "nbformat": 4,
 "nbformat_minor": 4
}
