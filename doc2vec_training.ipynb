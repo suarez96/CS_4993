{
 "cells": [
  {
   "cell_type": "markdown",
   "metadata": {},
   "source": [
    "# Imports"
   ]
  },
  {
   "cell_type": "code",
   "execution_count": 1,
   "metadata": {},
   "outputs": [
    {
     "name": "stderr",
     "output_type": "stream",
     "text": [
      "[nltk_data] Downloading package punkt to\n",
      "[nltk_data]     C:\\Users\\augus\\AppData\\Roaming\\nltk_data...\n",
      "[nltk_data]   Package punkt is already up-to-date!\n"
     ]
    }
   ],
   "source": [
    "import pandas as pd\n",
    "import seaborn as sns\n",
    "import plotly.graph_objects as go\n",
    "import plotly.express as px\n",
    "import numpy as np\n",
    "import matplotlib.pyplot as plt\n",
    "import os\n",
    "\n",
    "from scripts.TextPreprocessor import TextPreprocessor\n",
    "from scripts.OccupationPreprocessor import OccupationPreprocessor\n",
    "from scripts.TrainEngine import TrainEngine\n",
    "from scripts.Embedder import Embedder"
   ]
  },
  {
   "cell_type": "code",
   "execution_count": 2,
   "metadata": {},
   "outputs": [],
   "source": [
    "# if NOT working in colab\n",
    "data_dir = './data'\n",
    "\n",
    "# if working in colab\n",
    "# data_dir = './'"
   ]
  },
  {
   "cell_type": "markdown",
   "metadata": {},
   "source": [
    "## Load all NOC webpage data into separate dataframes"
   ]
  },
  {
   "cell_type": "code",
   "execution_count": 3,
   "metadata": {},
   "outputs": [],
   "source": [
    "df_skill_type = pd.read_csv(os.path.join(data_dir, 'NOC_skilltype.csv'))\n",
    "df_major_group = pd.read_csv(os.path.join(data_dir, './NOC_majorgroup.csv'))\n",
    "df_minor_group = pd.read_csv(os.path.join(data_dir, './NOC_minorgroup.csv'))\n",
    "df = pd.read_csv(os.path.join(data_dir, './noc_data_get_byws_dealing_slash.csv'))"
   ]
  },
  {
   "cell_type": "code",
   "execution_count": 4,
   "metadata": {},
   "outputs": [],
   "source": [
    "# pad missing digits from noc codes\n",
    "df['Noc_code'] = df['Noc_code'].apply(lambda x: '{0:0>4}'.format(x))"
   ]
  },
  {
   "cell_type": "code",
   "execution_count": 5,
   "metadata": {},
   "outputs": [
    {
     "data": {
      "text/plain": [
       "Index(['Noc_code', 'job_title', 'group_title', 'lead_statement', 'main_duties',\n",
       "       'Emp_req', 'Exclusion'],\n",
       "      dtype='object')"
      ]
     },
     "execution_count": 5,
     "metadata": {},
     "output_type": "execute_result"
    }
   ],
   "source": [
    "df.columns"
   ]
  },
  {
   "cell_type": "code",
   "execution_count": 6,
   "metadata": {
    "scrolled": true
   },
   "outputs": [
    {
     "name": "stdout",
     "output_type": "stream",
     "text": [
      "OT (occupational therapist)\n",
      " occupational therapist (OT)\n",
      "ATC (air traffic controller)\n",
      " air traffic controller (ATC)\n",
      " flight service specialist (FSS)\n",
      " corporate notary (Quebec)\n",
      " notary (Quebec)\n",
      "LCV (long combination vehicle) driver\n",
      " coal hauler (except underground mining)\n",
      " long combination vehicle (LCV) driver\n",
      " heating, ventilation and air conditioning (HVAC) engineer\n",
      " microelectromechanical systems (MEMS) research engineer\n",
      " metal fabricator (fitter)\n",
      " chief executive officer (CEO)-health, education, social and community services and membership organizations\n",
      " chief financial officer (CFO)-health, education, social and community services and membership organizations\n",
      " educational institution chief financial officer (CFO)\n",
      " non-governmental organization (NGO) executive director\n",
      " young men's christian association (YMCA) executive director\n",
      " chief executive officer (CEO)-trade, broadcasting and other services\n",
      " chief financial officer (CFO)-trade, broadcasting and other services\n",
      " deputy chief executive officer (CEO)-trade, broadcasting and other services\n",
      " professional sports club chief financial officer (CFO)\n",
      " travel agency chief executive officer (CEO)\n",
      " residential (low rise) sheet metal installer\n",
      "GST (goods and services tax) manager\n",
      " goods and services tax (GST) manager\n",
      " environmental advisor (except engineer)\n",
      " environmental consultant (except engineer)\n",
      " human factors specialist (except engineer)\n",
      "C Ped (certified pedorthist)\n",
      " CO (certified orthotist)\n",
      " CPO (certified prosthetist and orthotist)\n",
      " R.T.O. (registered orthotic technician)\n",
      " R.T.P. (registered prosthetic technician)\n",
      " R.T.P.O. (registered prosthetic and orthotic technician)\n",
      " certified orthotist (CO)\n",
      " certified pedorthist (C Ped)\n",
      " certified prosthetist-orthotist (CPO)\n",
      " registered orthotic technician (R.T.O.)\n",
      " registered prosthetic and orthotic technician (R.T.P.O.)\n",
      " registered prosthetic technician (R.T.P.)\n",
      "CDT (certified dental technician)\n",
      " RDT (registered dental technician)\n",
      " RDT (registered dental technologist)\n",
      " farmer (except nursery and fish farm)\n",
      " gas bar attendant (except self-service)\n",
      " gas station attendant (except self-serve)\n",
      " hoist operator (except underground mining)\n",
      " rigger (except shipbuilding and aircraft assembly)\n",
      "CCP (certified clinical perfusionist)\n",
      " RRT (registered respiratory therapist)\n",
      " certified clinical perfusionist (CCP)\n",
      " registered respiratory therapist (RRT)\n",
      "ASL (American Sign Language) interpreter\n",
      " American Sign Language (ASL) interpreter\n",
      " C. Int. (certified interpreter)\n",
      " C. Term. (certified terminologist)\n",
      " LSQ (Quebec Sign Language) interpreter\n",
      " Quebec Sign Language (LSQ) interpreter\n",
      " certified interpreter (C.Int.)\n",
      " certified terminologist (C.Term.)\n",
      " certified translator (C.Tr.)\n",
      "OD (doctor of optometry)\n",
      " doctor of optometry (OD)\n",
      "baggage agent (except airline)\n",
      " baggage clerk (except airline)\n",
      " bookings clerk (except airline)\n",
      " check-in agent (except airline)\n",
      " counter clerk (except airline)\n",
      " counter sales agent (except airline)\n",
      " counter service agent (except airline)\n",
      " customer sales and service agent (except airline)\n",
      " freight agent (except airline)\n",
      " luggage checker (except airline)\n",
      " passenger agent (except airline)\n",
      " reservations agent (except airline)\n",
      " reservations clerk (except airline)\n",
      " ticket agent (except airline)\n",
      " ticket and customer service clerk (except airline)\n",
      " ticket and information clerk (except airline)\n",
      " ticket clerk (except airline)\n",
      " transportation agent (except airline)\n",
      " door attendant (except hotel)\n",
      " doorman/woman (except hotel)\n",
      "  doorman (except hotel)\n",
      " doorwoman (except hotel)\n",
      " doorman (except hotel)\n",
      " doorwoman (except hotel)\n",
      "COD (cash on delivery) clerk\n",
      " cash on delivery (COD) clerk\n",
      " environmental service worker (ESW)-hospital\n",
      " lodging-establishment cleaner (except private households)\n",
      " heating, ventilation and air conditioning (HVAC) mechanic\n",
      " refrigeration and air conditioning mechanic (non-construction)\n",
      "DJ (deejay)-turntablist\n",
      " VJ (veejay)-video performance artist\n",
      " deejay (DJ)-turntablist\n",
      " veejay (VJ)-video performance artist\n",
      "CEO (chief executive officer)-manufacturing company\n",
      " CFO (chief financial officer)-urban transit system\n",
      " chief executive officer (CEO)-goods production, utilities, transportation and construction\n",
      " chief executive officer (CEO)-manufacturing company\n",
      " chief financial officer (CFO)-goods production, utilities, transportation and construction\n",
      " chief financial officer (CFO)-urban transit system\n",
      "HACCP (hazard analysis critical control point) co-ordinator-food processing\n",
      " hazard analysis critical control point (HACCP) co-ordinator\n",
      " contractor-roofer (except metal roofs)\n",
      " roofer-contractor (except metal roofs)\n",
      " roofers (except sheet metal roofs) foreman/woman\n",
      " roofing contractor (except sheet metal roofs)\n",
      " roofers (except sheet metal roofs) foreman\n",
      " roofers (except sheet metal roofs) forewoman\n",
      " roofers (except sheet metal roofs) foreman\n",
      " roofers (except sheet metal roofs) forewoman\n",
      " psychology assistant (except university)\n",
      " social survey researcher (except statistician)\n",
      " ophthalmic technician (except retail)\n",
      " physical therapist assistant (PTA)\n",
      " physiotherapist assistant (PTA)\n",
      "GP (general practitioner)\n",
      " MD (doctor of medicine)\n",
      " MOH (medical officer of health)\n",
      " doctor of medicine (MD)\n",
      " general practitioner (GP)\n",
      " medical officer of health (MOH)\n",
      "psychology research assistant (except university)\n",
      " research assistant (except post-secondary)\n",
      " research assistant-generalist (except university)\n",
      " social research assistant (except university)\n",
      " social science research assistant (except university)\n",
      " technical research assistant (except post-secondary)\n",
      " specifications writer (except construction)\n",
      "EFP (electronic field production) camera operator\n",
      " ENG (electronic news gathering) camera operator\n",
      " electronic field production (EFP) camera operator\n",
      " electronic news gathering (ENG) camera operator\n",
      "MCR (master control room) equipment operator\n",
      " MCR (master control room) technician-broadcasting\n",
      " master control room (MCR) equipment operator-broadcasting\n",
      " master control room (MCR) technician-broadcasting\n",
      " irrigation technician (except agriculture)\n",
      " occupational health and safety consultant (OHS)\n",
      " leisure vehicle technician (except recreational vehicles)\n",
      "CNC (computer numerically controlled) brake press operator\n",
      " CNC (computer numerically controlled) brake press set-up operator\n",
      " conveyor belt operator (except underground mines)\n",
      " conveyor operator-material handling (except underground mines)\n",
      " conveyor tender-material handling (except underground mines)\n",
      " express service handler (except air transport)\n",
      " freight handler (except air transport)\n",
      " freight loader (except air transport)\n",
      " freight unloader (except air transport)\n",
      " piler (except processing)\n",
      " tow motor driver (except air transport)\n",
      "CMHC (Canada Mortgage and Housing Corporation) inspector\n",
      " Canada Mortgage and Housing Corporation (CMHC) inspector\n",
      " lather (interior systems mechanic)\n",
      " alternating current (AC) and direct current (DC) armature winder\n",
      " alternating current (AC) and direct current (DC) motors fitter-assembler\n",
      " alternating current (AC) and direct current (DC) motors inspector\n",
      " industrial brake and alternating current (AC) motor assembler\n",
      "PC (personal computer) support analyst\n",
      "EDP (electronic data-processing) unit-supervisor\n",
      " electronic data-processing (EDP) unit-supervisor\n",
      " elevator mechanic (non-construction)\n",
      " escalator mechanic (non construction)\n",
      " child-care worker (except day care)\n",
      " exceptional-child-care worker (except day care)\n",
      " GIS (geographic information system) forester\n",
      " RPF (registered professional forester)\n",
      " registered professional forester (RPF)\n",
      " electrical mechanic (except avionics)\n",
      "CTC (centralized traffic control) operator-railway traffic\n",
      " centralized traffic control (CTC) operator-railway traffic\n",
      " career counsellor (except education)\n",
      " sprinkler system installer (non-construction)\n",
      " steamfitter/pipefitter (non-construction)\n",
      " steamfitter (non-construction)\n",
      " pipefitter (non-construction)\n",
      " steamfitter (non-construction)\n",
      " pipefitter (non-construction)\n",
      "(EMCA) emergency medical care attendant\n",
      " emergency medical care attendant (EMCA)\n",
      " nursing assistant (non-registered)\n",
      "CTMP (chemi-thermomechanical pulp) machine assistant operator\n",
      " CTMP (chemi-thermomechanical pulp) operator\n",
      " chemi-thermomechanical pulp (CTMP) machine assistant operator\n",
      " chemi-thermomechanical pulp (CTMP) operator\n",
      " marine engineer officer-cadet (except armed forces)\n",
      " automotive parts sales representative-wholesale (non-technical)\n",
      " commercial and industrial equipment and supplies sales representative-wholesale (non-technical)\n",
      " lighting fixture sales representative-wholesale (non-technical)\n",
      " manufacturer's agent-wholesale (non-technical)\n",
      " manufacturer's representative-wholesale (non-technical)\n",
      " motor vehicle and equipment sales representative-wholesale (non-technical)\n",
      " office equipment sales representative-wholesale (non-technical)\n",
      " sales agent-wholesale (non-technical)\n",
      " sales co-ordinator-wholesale (non-technical)\n",
      " sales consultant-wholesale (non-technical)\n",
      " sales executive-wholesale (non-technical)\n",
      " sales representative-wholesale (non-technical)\n",
      " salesperson-wholesale (non-technical)\n",
      " telephone equipment sales representative-wholesale (non-technical)\n",
      " truck and trailer sales representative-wholesale (non-technical)\n",
      "ITH (in-the-hole) driller\n",
      " LHD (load-haul-dump) operator-underground mining\n",
      " load-haul-dump (LHD) operator-underground mining\n",
      "OHP (occupational health physician)\n",
      " occupational health physician (OHP)\n",
      "CNA (certified nursing assistant)\n",
      " L.P.N. (licensed practical nurse)\n",
      " R.N.A. (registered nursing assistant)\n",
      " R.P.N. (registered practical nurse)\n",
      " certified nursing assistant (CNA)\n",
      " licensed practical nurse (L.P.N.)\n",
      " nursing assistant (registered-QuÃ©bec)\n",
      " registered nursing assistant (R.N.A.)\n",
      " registered practical nurse (R.P.N.)\n",
      "DTP (desktop publishing) operator\n",
      " DTP (desktop publishing) specialist\n",
      " desktop publishing (DTP) operator\n",
      " desktop publishing (DTP) specialist\n",
      " art instructor (except primary, secondary, post-secondary education)\n",
      " art teacher (except primary, secondary and post-secondary education)\n",
      " sculpture teacher (except primary, secondary, post-secondary education)\n",
      " sculpturing teacher (except primary, secondary, post-secondary education)\n",
      " visual arts teacher (except primary, secondary, post-secondary education)\n",
      " motormen/women and dinkeymen/women foreman/woman (except rail transport)\n",
      " motormen/women and dinkeymen/women foreman (except rail transport)\n",
      " motormen/women and dinkeymen/women forewoman (except rail transport)\n",
      " motormen and dinkeymen foreman/woman (except rail transport)\n",
      " motorwomen and dinkeywomen foreman/woman (except rail transport)\n",
      " motormen/women and dinkeymen/women foreman (except rail transport)\n",
      " motormen/women and dinkeymen/women forewoman (except rail transport)\n",
      " motormen and dinkeymen foreman/woman (except rail transport)\n",
      " motorwomen and dinkeywomen foreman/woman (except rail transport)\n",
      " motormen and dinkeymen foreman (except rail transport)\n",
      " motorwomen and dinkeywomen foreman (except rail transport)\n",
      " motormen and dinkeymen forewoman (except rail transport)\n",
      " motorwomen and dinkeywomen forewoman (except rail transport)\n",
      " motormen and dinkeymen foreman (except rail transport)\n",
      " motormen and dinkeymen forewoman (except rail transport)\n",
      " motorwomen and dinkeywomen foreman (except rail transport)\n",
      " motorwomen and dinkeywomen forewoman (except rail transport)\n",
      "YMCA (Young Men's Christian Association) general director\n",
      " YMCA (Young Men's Christian Association) general secretary\n",
      " YMCA (Young Men's Christian Association) programs director\n",
      " chief electromyography (EMG) technologist\n",
      " electrocardiographic (ECG) technician\n",
      " electrocardiographic (ECG) technologist\n",
      " electroencephalograph (EEG) chief technologist\n",
      " electroencephalograph (EEG) technician\n",
      " electroencephalograph (EEG) technologist\n",
      " electromyography (EMG) chief technologist\n",
      " electromyography (EMG) technician\n",
      " electromyography (EMG) technologist\n",
      " electroneurodiagnostic (END) technologist\n",
      " electroneurophysiology (ENP) technologist\n",
      " evoked potential (EP) technologist\n",
      " early childhood educator (E.C.E.)\n",
      " aircraft maintenance engineer (AME) (except avionics)\n",
      " apprentice aircraft maintenance engineer (AME)\n",
      " mechanical systems aircraft maintenance engineer (AME)\n",
      " rotorcraft aircraft maintenance engineer (AME)\n",
      " structures aircraft maintenance engineer (AME)\n",
      "CAT (certified athletic therapist)\n",
      " DTR (registered dance therapist)\n",
      " art therapy teacher (except education)\n",
      " certified athletic therapist (CAT)\n",
      " registered dance therapist (DTR)\n",
      " remedial gymnastics teacher (except education)\n",
      "CSD (customer service director)-water transportation\n",
      " customer service director (CSD)-water transportation\n",
      " nuclear magnetic resonance (NMR) spectroscopist\n",
      "TIG (tungsten inert gas) welder\n",
      " metal inert gas (MIG) welder\n",
      " tungsten inert gas (TIG) welder\n",
      "QA (quality assurance) engineer\n",
      " computer integrated manufacturing (CIM) engineer\n",
      " quality assurance (QA) engineer\n",
      "CEO (chief executive officer)-telephone company\n",
      " chief executive officer (CEO)-financial, communications and other business services\n",
      " chief executive officer (CEO)-telephone company\n",
      " chief financial officer (CFO)-advertising agency\n",
      " chief financial officer (CFO)-financial, communications and other business services\n",
      "EDP (electronic data-processing) equipment operator\n",
      " electronic data-processing (EDP) equipment operator\n",
      " forced air furnace installer (except gas)\n",
      " furnace installer and repairer (except gas)\n",
      " furnace maintenance mechanic (except gas)\n",
      " furnace mechanic (except gas)\n",
      " furnace repairer (except gas)\n",
      " furnace repairman/woman (except gas)\n",
      "  furnace repairman (except gas)\n",
      " furnace repairwoman (except gas)\n",
      " furnace repairman (except gas)\n",
      " furnace repairwoman (except gas)\n",
      "RCMP (Royal Canadian Mounted Police) commissioner\n",
      " Royal Canadian Mounted Police (RCMP) commissioner\n",
      "ATM (automatic teller machine) guard\n",
      " automatic teller machine (ATM) guard\n",
      " bodyguard (except police)\n",
      " security consultant (except computer systems)\n",
      " security specialist (except computer systems)\n",
      " biochemistry technician (except medical)\n",
      " biochemistry technologist (except medical)\n",
      " nuclear magnetic resonance (NMR) chemical technician\n",
      "DJ (disc jockey)-broadcast\n",
      " MC (master of ceremonies)\n",
      " VJ (video jockey)-television broadcast\n",
      " master of ceremonies (MC)\n",
      " public address (P.A.) system announcer\n",
      " video jockey (VJ)-television broadcast\n",
      "able seaman/woman (except armed forces)\n",
      " ordinary seaman/woman (except armed forces)\n",
      " able seaman (except armed forces)\n",
      "able seawoman (except armed forces)\n",
      " ordinary seaman (except armed forces)\n",
      " ordinary seawoman (except armed forces)\n",
      "able seaman (except armed forces)\n",
      "able seawoman (except armed forces)\n",
      " ordinary seaman (except armed forces)\n",
      " ordinary seawoman (except armed forces)\n",
      "PBX (private branch exchange) and PABX (private automatic branch exchange) inspector-telecommunications\n",
      " PBX (private branch exchange) and PABX (private automatic branch exchange) installer-telecommunications\n",
      " PBX (private branch exchange) and PABX (private automatic branch exchange) installer and repairer-telecommunications\n",
      " PBX (private branch exchange) and PABX (private automatic branch exchange) repairer-telecommunications\n",
      " PBX (private branch exchange) inspector-telecommunications\n",
      " PBX (private branch exchange) repairer-telecommunications\n",
      " TTY (teletypewriter) installer\n",
      " TTY (teletypewriter) installer-telecommunications\n",
      " TTY (teletypewriter) repairer\n",
      " private branch exchange (PBX) and private automatic branch exchange (PABX) inspector-telecommunications\n",
      " private branch exchange (PBX) and private automatic branch exchange (PABX) installer-telecommunications\n",
      " private branch exchange (PBX) and private automatic branch exchange (PABX) installer and repairer-telecommunications\n",
      " private branch exchange (PBX) and private automatic branch exchange (PABX) repairer-telecommunications\n",
      " private branch exchange (PBX) inspector-telecommunications\n",
      " private branch exchange (PBX) installer\n",
      " private branch exchange (PBX) installer-telecommunications\n",
      " private branch exchange (PBX) repairer-telecommunications\n",
      " teletypewriter (TTY) installer\n",
      " teletypewriter (TTY) installer-telecommunications\n",
      " teletypewriter (TTY) repairer\n",
      " printed circuit board (PCB) assembler\n",
      " printed circuit board (PCB) assembly inspector\n",
      " printed circuit board (PCB) assembly machine operator\n",
      " printed circuit board (PCB) assembly machine operator-electronic equipment manufacturing\n",
      " printed circuit board (PCB) etcher\n",
      " printed circuit board (PCB) fabrication inspector\n",
      " printed circuit board (PCB) fabrication machine operator\n",
      " printed circuit board (PCB) in-circuit machine -and repairing-machine operator\n",
      " printed circuit board (PCB) in-circuit test machine and repair operator\n",
      " printed circuit board (PCB) inspector\n",
      " printed circuit board (PCB) inspector and tester-electronic equipment manufacturing\n",
      "EMT (emergency medical technician)\n",
      " EMT-P (emergency medical technologist-paramedic)\n",
      " emergency medical attendant (EMA)\n",
      " emergency medical technician (EMT)\n",
      " emergency medical technician-paramedic/advanced care paramedic (EMT-P/ACP)\n",
      " emergency medical technician-primary care paramedic (EMT-PCP)\n",
      " emergency medical technologist-paramedic (EMT-P)\n",
      " medical assistant (paramedic)\n",
      "  emergency medical technician-paramedic (emt-p/acp)\n",
      " emergency medical advanced care paramedic (emt-p/acp)\n",
      " emergency medical technician-paramedic (emt-p/acp)\n",
      " emergency medical advanced care paramedic (emt-p/acp)\n",
      " maintenance technician-non-destructive testing (NDT)\n",
      " non-destructive testing maintenance (NDT) technician\n",
      " heating, ventilation and air conditioning (HVAC) systems specialist\n",
      " heating, ventilation and air conditioning (HVAC) technologist\n",
      "AV (audiovisual) assistant\n",
      " audiovisual (AV) assistant-motion pictures and broadcasting\n",
      " family therapist (FT)\n",
      " marriage and family therapist (MFT)\n",
      " marriage therapist (MT)\n",
      "NC (numerical control) riveting machine operator-metal products manufacturing\n",
      " NC (numerically controlled) riveting machine operator-metal products manufacturing\n",
      "AV (audiovisual) technician\n",
      " ENG (electronic news gathering) editor\n",
      " VTR (videotape recording) editor\n",
      " VTR (videotape recording) operator\n",
      " audiovisual (AV) technician\n",
      " electronic news gathering (ENG) editor\n",
      " public address (P.A.) operator\n",
      " public address (P.A.) system operator\n",
      " sound engineer (except professional engineers)\n",
      " videotape recording (VTR) editor\n",
      " videotape recording (VTR) operator\n",
      "D.P.M. (doctor of podiatric medicine)\n",
      " ND (naturopathic doctor)\n",
      " doctor of podiatric medicine (D.P.M.)\n",
      " naturopathic doctor (ND)\n",
      " epidemiologist (except physician and veterinarian)\n",
      " mining shovel operator (except underground)\n",
      " geographic information systems (GIS) technician\n",
      " geographic information systems (GIS) technologist\n",
      " geomatics technician-geographical information systems (GIS)\n",
      " land information system (LIS) technician\n",
      " land information system (LIS) technologist\n",
      " remote sensing (RS) application specialist\n",
      " remote sensing (RS) technician\n",
      " remote sensing (RS) technologist\n",
      " Premier's Office officer (provincial government)\n",
      " Prime Minister's Office officer (federal government)\n",
      " RGD (registered graphic designer)\n",
      " registered graphic designer (RGD)\n",
      " electronic business (e-business) software developer\n",
      " electronic commerce (e-commerce) software developer\n",
      " electronic data processing (EDP) applications programmer\n",
      " graphical user interface (GUI) designer\n",
      " graphical user interface (GUI) developer\n",
      " personal computer (PC) application developer\n",
      " communication officer (except emergency services)\n",
      " LAN (local area network) administrator\n",
      " LAN (local area network) manager\n",
      " LAN (local area network) operator\n",
      " LAN (local area network) technician\n",
      " WAN (wide area network) administrator\n",
      " WAN (wide area network) technician\n",
      " Wide area network (WAN) administrator\n",
      " local area network (LAN) administrator\n",
      " local area network (LAN) manager\n",
      " local area network (LAN) operator\n",
      " local area network (LAN) technician\n",
      " wide area network (WAN) technician\n",
      "LRT (light rail transit) operators supervisor\n",
      " light rail transit (LRT) operators foreman/woman\n",
      " light rail transit (LRT) operators supervisor\n",
      " light rail transit (lrt) operators foreman\n",
      " light rail transit (lrt) operators forewoman\n",
      " light rail transit (lrt) operators foreman\n",
      " light rail transit (lrt) operators forewoman\n",
      "P.Ag. (professional agrologist)\n",
      " professional agrologist (P.Ag.)\n",
      "(RAHT) registered animal health technologist\n",
      " registered animal health technologist (RAHT)\n",
      " registered veterinary technician (RVT)\n",
      "application specific integrated circuit (ASIC) design engineer\n",
      " computer engineer (except software)\n",
      " infrastructure architect-information technology (IT)\n",
      " lens manufacturing (non-prescription) supervisor\n",
      " front desk clerk (except hotel)\n",
      " reception desk clerk (except hotel)\n",
      "CATV (community antenna television) installation technician-telecommunications\n",
      " CATV (community antenna television) maintenance technician\n",
      " CATV (community antenna television) service installation technician-telecommunications\n",
      " CATV (community antenna television) technician-cable television\n",
      " CATV (community antenna television) technician-telecommunications\n",
      " DBS (direct broadcast satellite) technician-cable television\n",
      " TVRO (television receive only) technician\n",
      " apprentice CATV (community antenna television) technician\n",
      " apprentice community antenna television (CATV) technician\n",
      " community antenna television (CATV) installation technician-telecommunications\n",
      " community antenna television (CATV) maintenance technician\n",
      " community antenna television (CATV) service installation technician-telecommunications\n",
      " community antenna television (CATV) technician-cable television\n",
      " community antenna television (CATV) technician-telecommunications\n",
      " direct broadcast satellite (DBS) technician-cable television\n",
      " television receive only (TVRO) technician\n",
      " remote operated vehicle (ROV) operator\n",
      " rope access technician (RAT)\n",
      " engravers foreman/woman (except photoengravers)-printing\n",
      " engraving foreman/woman (except photoengraving)-printing\n",
      " engravers foreman (except photoengravers)-printing\n",
      " engravers forewoman (except photoengravers)-printing\n",
      " engraving foreman (except photoengraving)-printing\n",
      " engraving forewoman (except photoengraving)-printing\n",
      " engravers foreman (except photoengravers)-printing\n",
      " engravers forewoman (except photoengravers)-printing\n",
      " engraving foreman (except photoengraving)-printing\n",
      " engraving forewoman (except photoengraving)-printing\n",
      " CNC (computer numerical control) lathe operator-metal machining\n",
      " CNC (computer numerical control) machining tool operator\n",
      " CNC (computer numerical control) profile mill operator\n",
      " CNC (computer numerically controlled) machine set-up operator-metal machining\n",
      " CNC (computer numerically controlled) machining centre operator\n",
      " EDM (electrical discharge machine) operator\n",
      " EDM (electrical discharge machine) set-up operator\n",
      " EDM (electrical discharge machine) tender\n",
      " NC (numerical control) drilling machine operator-metal machining\n",
      " NC (numerically controlled) machine operator-metal machining\n",
      " NC (numerically controlled) machine tool operator\n",
      " NC (numerically controlled) machine tool set-up operator\n",
      " NC (numerically controlled) machining tool operator\n",
      " NC (numerically controlled) tracer operator-metal machining\n",
      " NC/CNC (numerical control/computer numerical control) machining tool operator\n",
      " computer numerically controlled (CNC) machine set-up operator-metal machining\n",
      " computer numerically controlled (CNC) machining centre operator\n",
      " electrical discharge machine (EDM) operator\n",
      " electrical discharge machine (EDM) tender\n",
      " numerical control (NC) machining tool operator\n",
      " numerically controlled (NC) machine operator-metal machining\n",
      " numerically controlled (NC) machine tool set-up operator\n",
      "  nc (numerical control/computer numerical control) machining tool operator\n",
      " cnc (numerical control/computer numerical control) machining tool operator\n",
      " nc (numerical control/computer numerical control) machining tool operator\n",
      " cnc (numerical control/computer numerical control) machining tool operator\n",
      " Member of Legislative Assembly (MLA)\n",
      " Member of Parliament (MP)\n",
      " Member of the House of Assembly (MHA)\n",
      " Member of the National Assembly (MNA)\n",
      " Member of the Provincial Parliament (MPP)\n",
      "NC (numerically controlled) machinist\n",
      " computer numerical control (CNC) machinist\n",
      " aircraft maintenance engineer (AME)-avionics\n",
      "EDP (electronic data-processing) hardware and services sales representative\n",
      " electronic data-processing (EDP) hardware and services sales representative\n",
      " blaster (except underground mining)\n",
      " artificial intelligence (AI) designer\n",
      "GST (goods and services tax) collection officer\n",
      " border services officer (BSO)\n",
      " citizen services officer (CSO)-government services\n",
      " goods and services tax (GST) collection officer\n",
      "Chinese medicine doctor (CMD)\n",
      " audiovisual (AV) producer\n",
      "MT (massage therapist)\n",
      " RMT (registered massage therapist)\n",
      " massage therapist (MT)\n",
      " registered massage therapist (RMT)\n",
      " electronic data processing (EDP) auditor\n",
      " enterprise architect-information technology (IT)\n",
      " informatics quality assurance (QA) analyst\n",
      " information systems quality assurance (QA) analyst\n",
      " information technology (IT) analyst\n",
      " information technology (IT) business analyst\n",
      " information technology (IT) consultant\n",
      " information technology (IT) consulting account manager\n",
      " management information systems (MIS) analyst\n",
      " management information systems (MIS) consultant\n",
      " software quality assurance (QA) analyst\n",
      " software quality assurance (QA) auditor\n",
      " solutions architect-information technology (IT)\n",
      " systems quality assurance (QA) analyst\n",
      " laster-footwear manufacturing (except rubber)\n",
      " optical glass etcher (non-prescription)\n",
      " slide fastener machine tender (except plastic products)\n",
      " zipper machine tender (except plastic products)\n",
      "DC (doctor of chiropractic)\n",
      " doctor of chiropractic (DC)\n",
      " e-business (electronic business) Web site developer\n",
      " e-commerce (electronic commerce) Web site developer\n",
      "ICU (intensive care unit) nurse\n",
      " OR (operating room) nurse\n",
      " RN (registered nurse)\n",
      " RPN (registered psychiatric nurse)\n",
      " VON (Victorian Order of Nurses) nurse\n",
      " Victorian Order of Nurses (VON) nurse\n",
      " intensive care unit (ICU) nurse\n",
      " operating room (OR) nurse\n",
      " registered nurse (R.N.)\n",
      " registered psychiatric nurse (R.P.N.)\n",
      " database administrator (DBA)\n",
      " electronic data processing (EDP) analyst\n",
      " electronic data processing (EDP) specialist\n",
      " electronic data processing (EDP) systems analyst\n",
      "ATM (automatic teller machine) clerk\n",
      " automatic teller machine (ATM) clerk\n",
      " CEGEP (general and vocational college) teacher\n",
      " ESL (English as a second language) teacher-college level\n",
      " English as a second language teacher (ESL)-college level\n",
      " English as a second language teacher (except elementary, high school or university)\n",
      " French as a second language teacher (except elementary, high school or university)\n",
      " computer-assisted drafting (CAD) instructor\n",
      " nursing educator (except college)\n",
      "CAD (computer-assisted drafting)\n",
      " CAD (computer-assisted drafting) draftsperson-printed circuit boards\n",
      " computer-aided design (CAD) specialist-drafting\n",
      " computer-aided design (CAD) technologist\n",
      " computer-aided drafting (CAD) technician\n",
      " computer-assisted drafting (CAD) technician\n",
      " electronic data processing (EDP) manager\n",
      " help desk manager-information technology (IT)\n",
      " information technology (IT) development manager\n",
      " information technology (IT) implementation manager\n",
      " information technology (IT) integration manager\n",
      " management information system (MIS) manager\n",
      " e-commerce (electronic commerce) sales manager\n",
      " sales director (except retail and wholesale)\n",
      " sales district manager (except insurance and real estate)\n",
      " sales manager (except retail and wholesale)\n",
      "RDMS (registered diagnostic medical sonographer)\n",
      " registered diagnostic medical sonographer (RDMS)\n",
      " maintenance and repair plumber (non-construction)\n",
      " animal care worker (except farm)\n",
      " animal groomer (except horses)\n",
      " animal trainer (except horses or marine mammals)\n",
      " caterpillar servicer (except mechanic)\n",
      " electric golf cart servicer (except mechanic)\n",
      " electric truck servicer (except mechanic)\n",
      " non-governmental organization (NGO) manager\n",
      " collection agent (except taxation)\n",
      " collection officer (except taxation)\n",
      " e-business (electronic business) manager\n",
      " e-commerce (electronic commerce) manager\n",
      " electronic business (e-business) manager\n",
      " electronic commerce (e-commerce) manager\n",
      " microbiology technician (except medical)\n",
      " microbiology technologist (except medical)\n",
      "IC (integrated circuit) fabrication supervisor-electronic equipment manufacturing\n",
      " PCB (printed circuit board) fabrication foreman/woman-electronic equipment manufacturing\n",
      " PCB (printed circuit board) fabrication supervisor-electronic equipment manufacturing\n",
      " integrated circuit (IC) fabrication supervisor-electronic equipment manufacturing\n",
      " printed circuit board (PCB) fabrication foreman/woman-electronic equipment manufacturing\n",
      " printed circuit board (PCB) fabrication supervisor-electronic equipment manufacturing\n",
      "  pcb (printed circuit board) fabrication foreman-electronic equipment manufacturing\n",
      " pcb (printed circuit board) fabrication forewoman-electronic equipment manufacturing\n",
      " printed circuit board (pcb) fabrication foreman-electronic equipment manufacturing\n",
      " printed circuit board (pcb) fabrication forewoman-electronic equipment manufacturing\n",
      " pcb (printed circuit board) fabrication foreman-electronic equipment manufacturing\n",
      " pcb (printed circuit board) fabrication forewoman-electronic equipment manufacturing\n",
      " printed circuit board (pcb) fabrication foreman-electronic equipment manufacturing\n",
      " printed circuit board (pcb) fabrication forewoman-electronic equipment manufacturing\n",
      " arts and crafts teacher (except education)\n",
      " ceramics teacher (except education)\n",
      " craft instructor (except education)\n",
      " weaving instructor (except education)\n",
      "AME (aircraft maintenance engineer) chief\n",
      " aircraft maintenance engineer (AME) chief\n",
      " aircraft maintenance engineers (AME) supervisor\n",
      " chief AME (aircraft maintenance engineer)\n",
      " chief aircraft maintenance engineer (AME)\n",
      " heating, ventilating and air conditioning (HVAC) mechanics foreman/woman\n",
      " heating, ventilating and air conditioning (hvac) mechanics foreman\n",
      " heating, ventilating and air conditioning (hvac) mechanics forewoman\n",
      " heating, ventilating and air conditioning (hvac) mechanics foreman\n",
      " heating, ventilating and air conditioning (hvac) mechanics forewoman\n",
      " ophthalmic goods antireflection (AR) coating technician\n",
      "RM (registered midwife)\n",
      " registered midwife (RM)\n",
      " registered nurse-extended class (RN-EC)\n",
      "P.Dt. (professional dietitian)\n",
      " RD (registered dietitian)\n",
      " RDN (registered dietitian-nutritionist)\n",
      " professional dietitian (P.Dt.)\n",
      " registered dietitian (RD)\n",
      " registered dietitian-nutritionist (RDN)\n",
      " notary public (British Columbia)\n",
      " notary public (outside Quebec)\n",
      " wood sawing foreman/woman (except sawmill)\n",
      " wood sawing foreman (except sawmill)\n",
      " wood sawing forewoman (except sawmill)\n",
      " wood sawing foreman (except sawmill)\n",
      " wood sawing forewoman (except sawmill)\n",
      " engine accessories assembly foreman/woman (except aircraft)\n",
      " engine assembly foreman/woman (except aircraft)\n",
      " engine assembly supervisor (except aircraft)\n",
      " engine guard assembly foreman/woman (except aircraft)\n",
      " engine rebuilding shop foreman/woman (except aircraft)\n",
      " engine testing foreman/woman (except aircraft)\n",
      " paint department foreman/woman-transport equipment manufacturing (except motor vehicles)\n",
      " engine accessories assembly foreman (except aircraft)\n",
      " engine accessories assembly forewoman (except aircraft)\n",
      " engine assembly foreman (except aircraft)\n",
      " engine assembly forewoman (except aircraft)\n",
      " engine guard assembly foreman (except aircraft)\n",
      " engine guard assembly forewoman (except aircraft)\n",
      " engine rebuilding shop foreman (except aircraft)\n",
      " engine rebuilding shop forewoman (except aircraft)\n",
      " engine testing foreman (except aircraft)\n",
      " engine testing forewoman (except aircraft)\n",
      " paint department foreman-transport equipment manufacturing (except motor vehicles)\n",
      " paint department forewoman-transport equipment manufacturing (except motor vehicles)\n",
      " engine accessories assembly foreman (except aircraft)\n",
      " engine accessories assembly forewoman (except aircraft)\n",
      " engine assembly foreman (except aircraft)\n",
      " engine assembly forewoman (except aircraft)\n",
      " engine guard assembly foreman (except aircraft)\n",
      " engine guard assembly forewoman (except aircraft)\n",
      " engine rebuilding shop foreman (except aircraft)\n",
      " engine rebuilding shop forewoman (except aircraft)\n",
      " engine testing foreman (except aircraft)\n",
      " engine testing forewoman (except aircraft)\n",
      " paint department foreman-transport equipment manufacturing (except motor vehicles)\n",
      " paint department forewoman-transport equipment manufacturing (except motor vehicles)\n",
      " ESL (English as a second language) high school teacher\n",
      " English as a second language (ESL) high school teacher\n",
      "CSIS (Canadian Security Intelligence Service) investigator\n",
      " Canadian Security Intelligence Service (CSIS) investigator\n",
      " RCMP (Royal Canadian Mounted Police) officer\n",
      " Royal Canadian Mounted Police (RCMP) officer\n",
      " audiovisual (AV) equipment installer and repairer\n",
      " audiovisual (AV) equipment repair supervisor\n",
      " automatic teller machine (ATM) servicer\n",
      " public address (P.A.) system installer and repairer\n",
      "3D CNC (computer numerical control) programmer\n",
      " CNC (computer numerical control) programmer\n",
      " CNC (computer numerically controlled) technologist\n",
      " CNC/CMM (computer numerically controlled coordinate measuring machine) programmer\n",
      " NC (numerical control) programmer\n",
      " computer numerical control (CNC) Mastercam programmer\n",
      " computer numerically controlled coordinate measuring machine (CNC/CMM) programmer\n",
      " computer-assisted design/computer-assisted manufacturing (CAD/CAM) programmer\n",
      " numerically controlled machine tool programmer (except operators)\n",
      " programmer, computer-aided design/computer-aided manufacturing, numerical control (CAD/CAM NC)\n",
      " quality control technician (except chemical)\n",
      " quality control technologist (except chemical)\n",
      " cnc (computer numerically controlled coordinate measuring machine) programmer\n",
      " cmm (computer numerically controlled coordinate measuring machine) programmer\n",
      " computer numerically controlled coordinate measuring machine (cnc) programmer\n",
      " computer numerically controlled coordinate measuring machine (cmm) programmer\n",
      " computer-assisted design/computer-assisted manufacturing (cad) programmer\n",
      " computer-assisted design/computer-assisted manufacturing (cam) programmer\n",
      " programmer, computer-aided design/computer-aided manufacturing, numerical control (cad nc)\n",
      " programmer, computer-aided design/computer-aided manufacturing, numerical control (cam nc)\n",
      " cnc (computer numerically controlled coordinate measuring machine) programmer\n",
      " cmm (computer numerically controlled coordinate measuring machine) programmer\n",
      " computer numerically controlled coordinate measuring machine (cnc) programmer\n",
      " computer numerically controlled coordinate measuring machine (cmm) programmer\n",
      " computer-assisted design/computer-assisted manufacturing (cad) programmer\n",
      " computer-assisted design/computer-assisted manufacturing (cam) programmer\n",
      " computer-assisted design (cad/cam) programmer\n",
      " computer-assisted manufacturing (cad/cam) programmer\n",
      " programmer, computer-aided design/computer-aided manufacturing, numerical control (cad nc)\n",
      " programmer, computer-aided design/computer-aided manufacturing, numerical control (cam nc)\n",
      " programmer, computer-aided design, numerical control (cad/cam nc)\n",
      " programmer, computer-aided manufacturing, numerical control (cad/cam nc)\n",
      " computer-assisted design (cad) programmer\n",
      " computer-assisted manufacturing (cad) programmer\n",
      " computer-assisted design (cam) programmer\n",
      " computer-assisted manufacturing (cam) programmer\n",
      " programmer, computer-aided design, numerical control (cad nc)\n",
      " programmer, computer-aided manufacturing, numerical control (cad nc)\n",
      " programmer, computer-aided design, numerical control (cam nc)\n",
      " programmer, computer-aided manufacturing, numerical control (cam nc)\n",
      "SUV (sport utility vehicle) assembler\n",
      " sport utility vehicle (SUV) assembler\n",
      " executive secretary (except legal and medical)\n",
      " secretary (except legal and medical)\n",
      "CRA (Canadian residential appraiser)\n",
      " Canadian residential appraiser (CRA)\n",
      " appraiser (except customs)\n",
      " assessor (except tax)\n",
      " chartered business valuator (CBV)\n",
      "CA (chartered accountant) student\n",
      " auditor-CA (chartered accountant)\n",
      " auditor-chartered accountant (CA)\n",
      " certified general accountant (CGA)\n",
      " certified management accountant (CMA)\n",
      " chartered accountant (CA)\n",
      " chartered accountant (CA) student\n",
      " chartered professional accountant, certified general accountant (CPA, CGA)\n",
      " chartered professional accountant, certified management accountant (CPA, CMA)\n",
      " chartered professional accountant, chartered accountant (CPA, CA)\n",
      "CNC (computer numerically controlled) band saw operator\n",
      " CNC (computer numerically controlled) woodworking machine tool operator\n",
      " computer numerically controlled (CNC) band saw operator\n",
      "RTNM (registered technologist in nuclear medicine)\n",
      " RTR (registered technologist in radiography)\n",
      " RTT (radiation therapy technologist)\n",
      " X-ray (radiology) technician\n",
      " magnetic resonance imaging (MRI) technologist\n",
      " nuclear magnetic resonance imaging (NMRI) technologist\n",
      " positron-emission tomography (PET) technologist\n",
      " radiation therapy technologist (RTT)\n",
      " registered technologist in nuclear medicine (RTNM)\n",
      " registered technologist in radiography (RTR)\n"
     ]
    },
    {
     "data": {
      "text/plain": [
       "486    None\n",
       "177    None\n",
       "38     None\n",
       "156    None\n",
       "337    None\n",
       "       ... \n",
       "390    None\n",
       "68     None\n",
       "248    None\n",
       "117    None\n",
       "207    None\n",
       "Name: job_title, Length: 500, dtype: object"
      ]
     },
     "execution_count": 6,
     "metadata": {},
     "output_type": "execute_result"
    }
   ],
   "source": [
    "def find_character(string, char):\n",
    "\n",
    "    occurrences = 0\n",
    "    for occupation in string.split(';'):\n",
    "        if char in occupation:\n",
    "            print(occupation)\n",
    "            occurrences += 1\n",
    "\n",
    "    if char in TextPreprocessor.char_occurences:\n",
    "        TextPreprocessor.char_occurences[char] += occurrences\n",
    "    else:\n",
    "        TextPreprocessor.char_occurences[char] = occurrences\n",
    "\n",
    "df.sample(500)['job_title'].apply(find_character, args=('(',))"
   ]
  },
  {
   "cell_type": "markdown",
   "metadata": {},
   "source": [
    "# Unpack all sample job titles in original df"
   ]
  },
  {
   "cell_type": "code",
   "execution_count": 7,
   "metadata": {},
   "outputs": [],
   "source": [
    "# Do once, if 'noc_code' column already dropped, except to skip action\n",
    "try:\n",
    "    df = df.apply(OccupationPreprocessor.extract_job_samples, axis = 1)\n",
    "except KeyError:\n",
    "    pass"
   ]
  },
  {
   "cell_type": "markdown",
   "metadata": {},
   "source": [
    "# Do same with descriptions"
   ]
  },
  {
   "cell_type": "code",
   "execution_count": 8,
   "metadata": {},
   "outputs": [],
   "source": [
    "df = df.apply(OccupationPreprocessor.unpack_descriptions, axis = 1)"
   ]
  },
  {
   "cell_type": "markdown",
   "metadata": {},
   "source": [
    "# Make training dataframe"
   ]
  },
  {
   "cell_type": "code",
   "execution_count": 9,
   "metadata": {},
   "outputs": [],
   "source": [
    "train_df = pd.DataFrame(dict(OccupationPreprocessor.all_job_samples).items(), columns=['input', 'code'])"
   ]
  },
  {
   "cell_type": "markdown",
   "metadata": {
    "id": "czAUrH4jBD0p"
   },
   "source": [
    "# Load ATP data for some train noise "
   ]
  },
  {
   "cell_type": "code",
   "execution_count": 10,
   "metadata": {},
   "outputs": [],
   "source": [
    "# Load ATP data\n",
    "ATP_data = pd.DataFrame(pd.read_excel('./Data/V5_Run Input(1).xlsx'))\n",
    "\n",
    "# Clean codes: many show up as ''0011 or '0011\n",
    "ATP_data['code'] = ATP_data['NOC code '].apply(\n",
    "    lambda x: int(x.strip('\\''))\n",
    ").apply(OccupationPreprocessor.first_n_digits, args=(4,))\n",
    "\n",
    "ATP_data.drop(columns = ['NOC code '], inplace = True)\n",
    "\n",
    "ATP_data['input'] = ATP_data['Current Job Title']\n",
    "ATP_data.drop(columns = ['Current Job Title'], inplace = True)"
   ]
  },
  {
   "cell_type": "markdown",
   "metadata": {},
   "source": [
    "# Shuffle ATP and split into train-val sections "
   ]
  },
  {
   "cell_type": "code",
   "execution_count": 11,
   "metadata": {},
   "outputs": [],
   "source": [
    "shuffled_ATP_df = ATP_data.sample(frac=1, random_state=42)\n",
    "\n",
    "# Sample size of ATP used for training \n",
    "ATP_train_size = 8000\n",
    "\n",
    "# Split  dataset \n",
    "ATP_data_train_df = shuffled_ATP_df[:ATP_train_size]\n",
    "test_df = shuffled_ATP_df[ATP_train_size:]"
   ]
  },
  {
   "cell_type": "markdown",
   "metadata": {},
   "source": [
    "# Combine both train sets"
   ]
  },
  {
   "cell_type": "code",
   "execution_count": 12,
   "metadata": {},
   "outputs": [],
   "source": [
    "train_df = train_df[['input', 'code']]\n",
    "ATP_data_train_df = ATP_data_train_df[['input', 'code']]\n",
    "test_df = test_df[['input', 'code']]\n",
    "\n",
    "train_df = train_df.append(ATP_data_train_df)"
   ]
  },
  {
   "cell_type": "markdown",
   "metadata": {},
   "source": [
    "# Preprocess the entire train and test input"
   ]
  },
  {
   "cell_type": "code",
   "execution_count": 13,
   "metadata": {},
   "outputs": [],
   "source": [
    "# tfidf_train_df = train_df.copy()\n",
    "# tfidf_test_df = test_df.copy()\n",
    "# doc2vec_train_df = train_df.copy()\n",
    "# doc2vec_test_df = test_df.copy()"
   ]
  },
  {
   "cell_type": "markdown",
   "metadata": {},
   "source": [
    "### Train"
   ]
  },
  {
   "cell_type": "code",
   "execution_count": 23,
   "metadata": {},
   "outputs": [],
   "source": [
    "text_preprocessor = TextPreprocessor(strip_abbrev=True)\n",
    "train_df['input'] = train_df['input'].apply(TextPreprocessor.preprocess_text)"
   ]
  },
  {
   "cell_type": "code",
   "execution_count": 24,
   "metadata": {},
   "outputs": [
    {
     "name": "stdout",
     "output_type": "stream",
     "text": [
      "Train samples before dropping duplicates 37745\n",
      "Train samples after dropping duplicates 33432\n"
     ]
    }
   ],
   "source": [
    "print(\"Train samples before dropping duplicates\", len(train_df))\n",
    "train_df = train_df.drop_duplicates()\n",
    "print(\"Train samples after dropping duplicates\", len(train_df))"
   ]
  },
  {
   "cell_type": "markdown",
   "metadata": {},
   "source": [
    "### Test"
   ]
  },
  {
   "cell_type": "code",
   "execution_count": 25,
   "metadata": {},
   "outputs": [],
   "source": [
    "test_df['input'] = test_df['input'].apply(TextPreprocessor.preprocess_text)"
   ]
  },
  {
   "cell_type": "code",
   "execution_count": 26,
   "metadata": {},
   "outputs": [
    {
     "name": "stdout",
     "output_type": "stream",
     "text": [
      "Test samples before dropping duplicates 32024\n",
      "Test samples after dropping duplicates 14327\n"
     ]
    }
   ],
   "source": [
    "print(\"Test samples before dropping duplicates\", len(test_df))\n",
    "test_df = test_df.drop_duplicates()\n",
    "print(\"Test samples after dropping duplicates\", len(test_df))"
   ]
  },
  {
   "cell_type": "code",
   "execution_count": 27,
   "metadata": {},
   "outputs": [],
   "source": [
    "# tfidf_train_df.to_csv('./data/tfidf_train_df.csv', index=False)\n",
    "# tfidf_test_df.to_csv('./data/tfidf_test_df.csv', index=False)\n",
    "# doc2vec_train_df.to_csv('./data/doc2vec_train_df.csv', index=False)\n",
    "# doc2vec_test_df.to_csv('./data/doc2vec_test_df.csv', index=False)"
   ]
  },
  {
   "cell_type": "markdown",
   "metadata": {},
   "source": [
    "# Grab sample to see if preprocessing worked"
   ]
  },
  {
   "cell_type": "code",
   "execution_count": null,
   "metadata": {},
   "outputs": [],
   "source": [
    "def check(string):\n",
    "    try:\n",
    "        assert '.' not in string \\\n",
    "            and ',' not in string \\\n",
    "                and ')' not in string \\\n",
    "                    and '(' not in string \\\n",
    "                        and '-' not in string \\\n",
    "                            and ';' not in string \\\n",
    "                                and '/' not in string \\\n",
    "                                    and '\\'' not in string\n",
    "    except AssertionError:\n",
    "        print(string)"
   ]
  },
  {
   "cell_type": "code",
   "execution_count": null,
   "metadata": {},
   "outputs": [],
   "source": [
    "train_df['input'].apply(check)\n",
    "display(train_df.sample(20))"
   ]
  },
  {
   "cell_type": "markdown",
   "metadata": {},
   "source": [
    "## Start Doc2vec code"
   ]
  },
  {
   "cell_type": "code",
   "execution_count": null,
   "metadata": {
    "scrolled": true
   },
   "outputs": [],
   "source": [
    "TRIAL_NAME = 'trial_11'\n",
    "\n",
    "doc2vec_params = dict(\n",
    "epochs = 6144, # training cycles\n",
    "vec_size = 64, # specific to doc2vec, size of the output vector\n",
    "alpha = 0.001, # learning rate\n",
    "window = 3,\n",
    "min_count = 2,\n",
    "min_alpha = 0.00025\n",
    ")\n",
    "\n",
    "embedder = Embedder(\n",
    "    d2v_trial_name=TRIAL_NAME,\n",
    "    d2v_params=doc2vec_params,\n",
    "    train_data = train_df,\n",
    "    corpus_column = 'input',\n",
    "    infer_params = {\n",
    "        'steps':2048,\n",
    "        'alpha':0.03\n",
    "    }\n",
    ")"
   ]
  },
  {
   "cell_type": "code",
   "execution_count": null,
   "metadata": {},
   "outputs": [],
   "source": [
    "embedder.train_doc2vec()"
   ]
  },
  {
   "cell_type": "code",
   "execution_count": null,
   "metadata": {},
   "outputs": [],
   "source": [
    "embedder.load_doc2vec_model()"
   ]
  },
  {
   "cell_type": "code",
   "execution_count": null,
   "metadata": {},
   "outputs": [],
   "source": [
    "TextPreprocessor.abbreviations_map"
   ]
  },
  {
   "cell_type": "code",
   "execution_count": null,
   "metadata": {
    "scrolled": false
   },
   "outputs": [],
   "source": [
    "test_occupations = ['doctor', 'athlete', 'member of parliament',\n",
    "                    'teacher', 'researcher', 'registered nurse', \n",
    "                    'CUSTOMER SERVICE', 'MANAGER OF CLEANING BUSINESS',\n",
    "                   'CAREGIVER', 'Farm Boss']\n",
    "\n",
    "for occ in test_occupations: \n",
    "    occ = TextPreprocessor.preprocess_text(occ)\n",
    "    print(embedder.infer_and_vote(occ, verbose=True))\n",
    "    "
   ]
  },
  {
   "cell_type": "markdown",
   "metadata": {},
   "source": [
    "# vectorize train data"
   ]
  },
  {
   "cell_type": "code",
   "execution_count": null,
   "metadata": {
    "colab": {
     "base_uri": "https://localhost:8080/",
     "height": 36
    },
    "executionInfo": {
     "elapsed": 131364,
     "status": "ok",
     "timestamp": 1602282557549,
     "user": {
      "displayName": "Augusto Suarez",
      "photoUrl": "https://lh3.googleusercontent.com/a-/AOh14Gh-L8Zz0VgrA4IkXJW-J6TWQaOde13RXj7wSR0P=s64",
      "userId": "05858047290514616239"
     },
     "user_tz": 180
    },
    "id": "K-aKuFF9BD0q",
    "outputId": "bb6f7b18-78e8-4be0-a74c-cfdc64c6e227"
   },
   "outputs": [],
   "source": [
    "embedder.train_tfidf()"
   ]
  },
  {
   "cell_type": "markdown",
   "metadata": {},
   "source": [
    "# Apply embeddings to training data"
   ]
  },
  {
   "cell_type": "code",
   "execution_count": null,
   "metadata": {},
   "outputs": [],
   "source": [
    "assert 'input' in embedder.train_df.columns and 'code' in embedder.train_df.columns, \"Make sure train dataframe has 'input' column and 'code' column\"\n",
    "train_d2v_embeddings = train_df['input'].apply(\n",
    "    Embedder.get_doc2vec_embeddings, args=(embedder,)\n",
    ")"
   ]
  },
  {
   "cell_type": "markdown",
   "metadata": {},
   "source": [
    "## Embed X_train"
   ]
  },
  {
   "cell_type": "code",
   "execution_count": 21,
   "metadata": {},
   "outputs": [
    {
     "data": {
      "text/plain": [
       "196"
      ]
     },
     "execution_count": 21,
     "metadata": {},
     "output_type": "execute_result"
    }
   ],
   "source": [
    "len(doc2vec_train_df[doc2vec_train_df.code == 3012])"
   ]
  },
  {
   "cell_type": "code",
   "execution_count": null,
   "metadata": {},
   "outputs": [],
   "source": [
    "TARGET_CODE_LENGTH = 4"
   ]
  },
  {
   "cell_type": "code",
   "execution_count": null,
   "metadata": {},
   "outputs": [],
   "source": [
    "# d2v_train_vectors = Embedder.vectorize_embeddings(train_d2v_embeddings)\n",
    "tfidf_train_vectors = Embedder.get_tfidf_embeddings(embedder, train_df['input'])\n",
    "\n",
    "# assert d2v_train_vectors.shape[0] == tfidf_train_vectors.shape[0]"
   ]
  },
  {
   "cell_type": "markdown",
   "metadata": {},
   "source": [
    "## Get first n digits of y_train"
   ]
  },
  {
   "cell_type": "code",
   "execution_count": null,
   "metadata": {},
   "outputs": [],
   "source": [
    "X_train = tfidf_train_vectors # d2v_train_vectors\n",
    "y_train = np.array(train_df['code'].apply(\n",
    "    OccupationPreprocessor.first_n_digits, args=(TARGET_CODE_LENGTH,))\n",
    ")"
   ]
  },
  {
   "cell_type": "markdown",
   "metadata": {},
   "source": [
    "## Embed X_test"
   ]
  },
  {
   "cell_type": "code",
   "execution_count": null,
   "metadata": {},
   "outputs": [],
   "source": [
    "# test_d2v_embeddings = test_df['input'].apply(\n",
    "#     Embedder.get_doc2vec_embeddings, args=(embedder,)\n",
    "# )\n",
    "# d2v_test_vectors = Embedder.vectorize_embeddings(test_d2v_embeddings)\n",
    "tfidf_test_vectors = Embedder.get_tfidf_embeddings(embedder, test_df['input'])\n",
    "\n",
    "# assert d2v_test_vectors.shape[0] == tfidf_test_vectors.shape[0]"
   ]
  },
  {
   "cell_type": "markdown",
   "metadata": {},
   "source": [
    "## Get first n digits of y_test"
   ]
  },
  {
   "cell_type": "code",
   "execution_count": null,
   "metadata": {},
   "outputs": [],
   "source": [
    "X_test = tfidf_test_vectors # d2v_test_vectors\n",
    "y_test = np.array(test_df['code'].apply(\n",
    "    OccupationPreprocessor.first_n_digits, args=(TARGET_CODE_LENGTH,))\n",
    ")"
   ]
  },
  {
   "cell_type": "markdown",
   "metadata": {},
   "source": [
    "# Build preliminary classifiers"
   ]
  },
  {
   "cell_type": "code",
   "execution_count": null,
   "metadata": {},
   "outputs": [],
   "source": [
    "from sklearn.svm import SVC\n",
    "from sklearn.neighbors import KNeighborsClassifier\n",
    "from sklearn.ensemble import RandomForestClassifier\n",
    "from sklearn.model_selection import train_test_split\n",
    "from sklearn.linear_model import LogisticRegression"
   ]
  },
  {
   "cell_type": "code",
   "execution_count": null,
   "metadata": {},
   "outputs": [],
   "source": [
    "import time"
   ]
  },
  {
   "cell_type": "markdown",
   "metadata": {},
   "source": [
    "# Train TFIDF"
   ]
  },
  {
   "cell_type": "code",
   "execution_count": null,
   "metadata": {
    "scrolled": true
   },
   "outputs": [],
   "source": [
    "SVM = SVC(class_weight='balanced', kernel='linear')\n",
    "\n",
    "start = time.time()\n",
    "SVM.fit(X_train, y_train)\n",
    "print('SVM training duration: {} seconds'.format(time.time()-start))"
   ]
  },
  {
   "cell_type": "code",
   "execution_count": null,
   "metadata": {},
   "outputs": [],
   "source": [
    "RF = RandomForestClassifier(n_estimators=64, max_depth=128, n_jobs=-1, warm_start=True)\n",
    "\n",
    "start = time.time()\n",
    "RF.fit(X_train, y_train)\n",
    "print('RF training duration: {} seconds'.format(time.time()-start))"
   ]
  },
  {
   "cell_type": "code",
   "execution_count": null,
   "metadata": {},
   "outputs": [],
   "source": [
    "KNN = KNeighborsClassifier(n_neighbors = 1, n_jobs=-1)\n",
    "\n",
    "start = time.time()\n",
    "KNN.fit(X_train, y_train)\n",
    "print('KNN training duration: {} seconds'.format(time.time()-start))"
   ]
  },
  {
   "cell_type": "code",
   "execution_count": null,
   "metadata": {},
   "outputs": [],
   "source": [
    "LR = LogisticRegression(n_jobs=-1)\n",
    "\n",
    "start = time.time()\n",
    "LR.fit(X_train, y_train)\n",
    "print('LR training duration: {} seconds'.format(time.time()-start))"
   ]
  },
  {
   "cell_type": "markdown",
   "metadata": {
    "id": "S_cw66gEMiQU"
   },
   "source": [
    "# Predict TFIDF"
   ]
  },
  {
   "cell_type": "code",
   "execution_count": null,
   "metadata": {
    "id": "YWmPefoPEO_c"
   },
   "outputs": [],
   "source": [
    "start = time.time()\n",
    "svm_pred = SVM.predict(X_test)\n",
    "print('SVM prediction duration on {} samples: {} seconds'.format(X_test.shape[0], time.time()-start))"
   ]
  },
  {
   "cell_type": "code",
   "execution_count": null,
   "metadata": {
    "id": "ggSfm8uHERlp"
   },
   "outputs": [],
   "source": [
    "start = time.time()\n",
    "rf_pred = RF.predict(X_test)\n",
    "print('RF prediction duration on {} samples: {} seconds'.format(X_test.shape[0], time.time()-start))"
   ]
  },
  {
   "cell_type": "code",
   "execution_count": null,
   "metadata": {
    "id": "JLvftUL7BD1c"
   },
   "outputs": [],
   "source": [
    "start = time.time()\n",
    "knn_pred = KNN.predict(X_test)\n",
    "print('KNN prediction duration on {} samples: {} seconds'.format(X_test.shape[0], time.time()-start))"
   ]
  },
  {
   "cell_type": "code",
   "execution_count": null,
   "metadata": {},
   "outputs": [],
   "source": [
    "start = time.time()\n",
    "lr_pred = LR.predict(X_test)\n",
    "print('LR prediction duration on {} samples: {} seconds'.format(X_test.shape[0], time.time()-start))"
   ]
  },
  {
   "cell_type": "markdown",
   "metadata": {
    "id": "EKhah7vkBD1h"
   },
   "source": [
    "# Get Metrics"
   ]
  },
  {
   "cell_type": "code",
   "execution_count": null,
   "metadata": {
    "id": "hvm3AYkfBD1i",
    "scrolled": false
   },
   "outputs": [],
   "source": [
    "from sklearn.metrics import accuracy_score, f1_score\n",
    "tfidf_test_df = pd.DataFrame({\n",
    "    'svm_pred':svm_pred,\n",
    "#     'rf_pred':rf_pred,\n",
    "    'knn_pred':knn_pred,\n",
    "    'lr_pred':lr_pred,\n",
    "    'code':y_test\n",
    "})\n",
    "\n",
    "from sklearn.metrics import accuracy_score, f1_score\n",
    "\n",
    "for classifier in ['knn', 'svm', 'lr']:\n",
    "    print('{} acc:{}, f1-macro:{}'.format(classifier.upper(), \n",
    "                                    accuracy_score(\n",
    "                                        tfidf_test_df['{}_pred'.format(classifier)], \n",
    "                                        y_test\n",
    "                                    ),\n",
    "                                    f1_score(\n",
    "                                        tfidf_test_df['{}_pred'.format(classifier)],\n",
    "                                        y_test, average = 'macro')\n",
    "                                   )\n",
    "     )\n",
    "    \n",
    "# KNN acc:0.476, f1-macro:0.3900045178082561\n",
    "# SVM acc:0.5, f1-macro:0.4011703553848126\n",
    "# RF acc:0.42, f1-macro:0.3912001209939354"
   ]
  },
  {
   "cell_type": "markdown",
   "metadata": {},
   "source": [
    "### Get this inside the embedder class"
   ]
  },
  {
   "cell_type": "code",
   "execution_count": null,
   "metadata": {
    "id": "1cWEUSmGBD1m"
   },
   "outputs": [],
   "source": [
    "from collections import Counter\n",
    "def ensemble_predict(row, predictor_cols, default_predictor):\n",
    "\n",
    "    # find majority vote for all methods, :-1 drops ground truth column\n",
    "    votes = Counter(row[predictor_cols]).most_common(1)\n",
    "    \n",
    "    # take svm as tie-breaker because CURRENTLY most accurate\n",
    "    winning_class, highest_num_votes = votes[0]\n",
    "    return winning_class\n"
   ]
  },
  {
   "cell_type": "markdown",
   "metadata": {},
   "source": [
    "# Ensemble Predict TFIDF"
   ]
  },
  {
   "cell_type": "code",
   "execution_count": null,
   "metadata": {
    "id": "OvvRbrgABD1q"
   },
   "outputs": [],
   "source": [
    "tfidf_test_df['p_all'] = tfidf_test_df.apply(ensemble_predict, axis = 1, args = (\n",
    "    ['svm_pred','knn_pred', 'lr_pred'], 'svm_pred',\n",
    "))"
   ]
  },
  {
   "cell_type": "code",
   "execution_count": null,
   "metadata": {},
   "outputs": [],
   "source": [
    "import pickle\n",
    "with open('TFIDF_SVM_KNN_LR.pkl', 'wb') as f:\n",
    "    pickle.dump({\n",
    "        'SVM':SVM,\n",
    "        'KNN':KNN,\n",
    "        'LR':LR\n",
    "#         'RF':RF\n",
    "    }, f)"
   ]
  },
  {
   "cell_type": "code",
   "execution_count": null,
   "metadata": {},
   "outputs": [],
   "source": [
    "print('Ensemble acc:{}, f1:{}'.format(accuracy_score(tfidf_test_df['p_all'], y_test), \n",
    "                                      f1_score(tfidf_test_df['p_all'], y_test, average = 'macro')))\n",
    "display(tfidf_test_df.iloc[:20][['p_all','code']])"
   ]
  },
  {
   "cell_type": "markdown",
   "metadata": {},
   "source": [
    "# TODO: Adjust doc2vec testing to work with new code. Also get ensemble vote working for tfidf predictor\n",
    "# Is preprocessing hurting the TFIDF?"
   ]
  },
  {
   "cell_type": "code",
   "execution_count": null,
   "metadata": {},
   "outputs": [],
   "source": [
    "doc2vec_test_df = test_df.sample(5000, random_state=42)"
   ]
  },
  {
   "cell_type": "markdown",
   "metadata": {},
   "source": [
    "# Quick exact match test"
   ]
  },
  {
   "cell_type": "code",
   "execution_count": null,
   "metadata": {},
   "outputs": [],
   "source": [
    "def check_exact_match(row):\n",
    "    exact_matches = train_df.loc[train_df['input'] == str(row)]\n",
    "    code = exact_matches['code'].values[0] if len(exact_matches) == 1 else -1\n",
    "    return code"
   ]
  },
  {
   "cell_type": "code",
   "execution_count": null,
   "metadata": {},
   "outputs": [],
   "source": [
    "doc2vec_test_df['exact_match'] = doc2vec_test_df['input'].apply(check_exact_match)\n",
    "doc2vec_test_df['exact_matches_TP'] = doc2vec_test_df.apply(lambda row: row['exact_match'] == row['code'], axis=1)"
   ]
  },
  {
   "cell_type": "code",
   "execution_count": null,
   "metadata": {},
   "outputs": [],
   "source": [
    "doc2vec_test_df['exact_matches_TP'].value_counts()"
   ]
  },
  {
   "cell_type": "markdown",
   "metadata": {},
   "source": [
    "# Trial for tuning infer params"
   ]
  },
  {
   "cell_type": "code",
   "execution_count": null,
   "metadata": {},
   "outputs": [],
   "source": [
    "doc2vec_test_df['vote1'], doc2vec_test_df['vote2'], doc2vec_test_df['vote3'] = None, None, None\n",
    "votes = []\n",
    "for row in doc2vec_test_df.itertuples():\n",
    "    if row.exact_match == -1:\n",
    "        votes.append(embedder.infer_and_vote(row.input, verbose=False))\n",
    "    else:\n",
    "        votes.append(pd.Series([-1, -1, -1]))\n",
    "        \n",
    "doc2vec_test_df[['vote1', 'vote2', 'vote3']] = votes\n",
    "TPs = doc2vec_test_df.apply(lambda row: int(row['code']) in [row['vote1'], row['vote2'], row['vote3'], row['exact_match']], axis = 1)"
   ]
  },
  {
   "cell_type": "code",
   "execution_count": null,
   "metadata": {
    "scrolled": true
   },
   "outputs": [],
   "source": [
    "pd.DataFrame(TPs.value_counts())"
   ]
  },
  {
   "cell_type": "code",
   "execution_count": null,
   "metadata": {},
   "outputs": [],
   "source": [
    "3077/5000"
   ]
  },
  {
   "cell_type": "code",
   "execution_count": null,
   "metadata": {},
   "outputs": [],
   "source": [
    "test_d2v_embeddings = doc2vec_test_df['input'].apply(get_doc2vec_embeddings, args=(embedder,))\n",
    "doc2vec_test_df['doc2vec_embeddings'] = test_d2v_embeddings"
   ]
  },
  {
   "cell_type": "code",
   "execution_count": null,
   "metadata": {
    "scrolled": true
   },
   "outputs": [],
   "source": [
    "vectorized_embeddings = vectorize_embeddings(test_d2v_embeddings)"
   ]
  },
  {
   "cell_type": "code",
   "execution_count": null,
   "metadata": {},
   "outputs": [],
   "source": [
    "tfidf_test_df['rf_pred'] = RF.predict(vectorized_embeddings)"
   ]
  },
  {
   "cell_type": "code",
   "execution_count": null,
   "metadata": {},
   "outputs": [],
   "source": [
    "tfidf_test_df['knn_pred'] = KNN.predict(vectorized_embeddings)"
   ]
  },
  {
   "cell_type": "code",
   "execution_count": null,
   "metadata": {},
   "outputs": [],
   "source": [
    "tfidf_test_df['svm_pred'] = SVM.predict(vectorized_embeddings)"
   ]
  },
  {
   "cell_type": "code",
   "execution_count": null,
   "metadata": {},
   "outputs": [],
   "source": [
    "tfidf_test_df[['knn_pred', 'svm_pred', 'rf_pred', 'code']]"
   ]
  },
  {
   "cell_type": "code",
   "execution_count": null,
   "metadata": {},
   "outputs": [],
   "source": [
    "from sklearn.metrics import accuracy_score, f1_score\n",
    "\n",
    "for classifier in ['knn','svm', 'rf']:\n",
    "    print('{} acc:{}, f1-macro:{}'.format(classifier.upper(), \n",
    "                                    accuracy_score(\n",
    "                                        doc2vec_test_df['{}_pred'.format(classifier)], \n",
    "                                        doc2vec_test_df['code']\n",
    "                                    ),\n",
    "                                    f1_score(\n",
    "                                        doc2vec_test_df['{}_pred'.format(classifier)],\n",
    "                                        doc2vec_test_df['code'], average = 'macro')\n",
    "                                   )\n",
    "     )"
   ]
  },
  {
   "cell_type": "code",
   "execution_count": null,
   "metadata": {},
   "outputs": [],
   "source": [
    "# svm accuracy still tanks, potentially overfitting. the problem is too many output classes. \n",
    "# to mitigate, build hierarchical model"
   ]
  },
  {
   "cell_type": "code",
   "execution_count": null,
   "metadata": {},
   "outputs": [],
   "source": []
  }
 ],
 "metadata": {
  "kernelspec": {
   "display_name": "Python 3",
   "language": "python",
   "name": "python3"
  },
  "language_info": {
   "codemirror_mode": {
    "name": "ipython",
    "version": 3
   },
   "file_extension": ".py",
   "mimetype": "text/x-python",
   "name": "python",
   "nbconvert_exporter": "python",
   "pygments_lexer": "ipython3",
   "version": "3.7.9"
  }
 },
 "nbformat": 4,
 "nbformat_minor": 4
}
