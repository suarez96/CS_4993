{
 "cells": [
  {
   "cell_type": "code",
   "execution_count": 2,
   "metadata": {},
   "outputs": [],
   "source": [
    "import pandas as pd\n",
    "import seaborn as sns\n",
    "import plotly.graph_objects as go\n",
    "import plotly.express as px\n",
    "import numpy as np\n",
    "import matplotlib.pyplot as plt\n",
    "import os"
   ]
  },
  {
   "cell_type": "code",
   "execution_count": 3,
   "metadata": {},
   "outputs": [
    {
     "data": {
      "text/html": [
       "<div>\n",
       "<style scoped>\n",
       "    .dataframe tbody tr th:only-of-type {\n",
       "        vertical-align: middle;\n",
       "    }\n",
       "\n",
       "    .dataframe tbody tr th {\n",
       "        vertical-align: top;\n",
       "    }\n",
       "\n",
       "    .dataframe thead th {\n",
       "        text-align: right;\n",
       "    }\n",
       "</style>\n",
       "<table border=\"1\" class=\"dataframe\">\n",
       "  <thead>\n",
       "    <tr style=\"text-align: right;\">\n",
       "      <th></th>\n",
       "      <th>Noc_code</th>\n",
       "      <th>job_title</th>\n",
       "      <th>group_title</th>\n",
       "      <th>lead_statement</th>\n",
       "      <th>main_duties</th>\n",
       "      <th>Emp_req</th>\n",
       "      <th>Exclusion</th>\n",
       "    </tr>\n",
       "  </thead>\n",
       "  <tbody>\n",
       "    <tr>\n",
       "      <th>0</th>\n",
       "      <td>11</td>\n",
       "      <td>Aboriginal band chief; Aboriginal band council...</td>\n",
       "      <td>Legislators;</td>\n",
       "      <td>Legislators participate in the activities of a...</td>\n",
       "      <td>Legislators perform some or all of the followi...</td>\n",
       "      <td>Election to a legislative body, or appointment...</td>\n",
       "      <td>Commissioners - government services  (in 0012 ...</td>\n",
       "    </tr>\n",
       "    <tr>\n",
       "      <th>1</th>\n",
       "      <td>12</td>\n",
       "      <td>Clerk of the Privy Council; First Nations band...</td>\n",
       "      <td>Senior government managers and officials;</td>\n",
       "      <td>Senior government managers and officials plan,...</td>\n",
       "      <td>Senior government managers and officials perfo...</td>\n",
       "      <td>A university degree or college diploma is usua...</td>\n",
       "      <td>Legislators (0011);Middle managers in governme...</td>\n",
       "    </tr>\n",
       "    <tr>\n",
       "      <th>2</th>\n",
       "      <td>14</td>\n",
       "      <td>academic association president; academic busin...</td>\n",
       "      <td>Senior managers  health, education, social and...</td>\n",
       "      <td>Senior managers in this unit group plan, organ...</td>\n",
       "      <td>Senior managers in this unit group perform som...</td>\n",
       "      <td>A university degree or college diploma in busi...</td>\n",
       "      <td>Administrators - post-secondary education and ...</td>\n",
       "    </tr>\n",
       "    <tr>\n",
       "      <th>3</th>\n",
       "      <td>15</td>\n",
       "      <td>broadcasting corporation president; casino gen...</td>\n",
       "      <td>Senior managers  trade, broadcasting and other...</td>\n",
       "      <td>Senior managers in this unit group plan, organ...</td>\n",
       "      <td>Senior managers in this unit group perform som...</td>\n",
       "      <td>A university degree or college diploma in busi...</td>\n",
       "      <td>Managers in art, culture, recreation and sport...</td>\n",
       "    </tr>\n",
       "    <tr>\n",
       "      <th>4</th>\n",
       "      <td>16</td>\n",
       "      <td>CEO (chief executive officer)-manufacturing co...</td>\n",
       "      <td>Senior managers  construction, transportation,...</td>\n",
       "      <td>Senior managers in this unit group plan, organ...</td>\n",
       "      <td>Senior managers in this unit group perform som...</td>\n",
       "      <td>A university degree or college diploma in engi...</td>\n",
       "      <td>Managers in construction and facility operatio...</td>\n",
       "    </tr>\n",
       "  </tbody>\n",
       "</table>\n",
       "</div>"
      ],
      "text/plain": [
       "   Noc_code                                          job_title  \\\n",
       "0        11  Aboriginal band chief; Aboriginal band council...   \n",
       "1        12  Clerk of the Privy Council; First Nations band...   \n",
       "2        14  academic association president; academic busin...   \n",
       "3        15  broadcasting corporation president; casino gen...   \n",
       "4        16  CEO (chief executive officer)-manufacturing co...   \n",
       "\n",
       "                                         group_title  \\\n",
       "0                                       Legislators;   \n",
       "1          Senior government managers and officials;   \n",
       "2  Senior managers  health, education, social and...   \n",
       "3  Senior managers  trade, broadcasting and other...   \n",
       "4  Senior managers  construction, transportation,...   \n",
       "\n",
       "                                      lead_statement  \\\n",
       "0  Legislators participate in the activities of a...   \n",
       "1  Senior government managers and officials plan,...   \n",
       "2  Senior managers in this unit group plan, organ...   \n",
       "3  Senior managers in this unit group plan, organ...   \n",
       "4  Senior managers in this unit group plan, organ...   \n",
       "\n",
       "                                         main_duties  \\\n",
       "0  Legislators perform some or all of the followi...   \n",
       "1  Senior government managers and officials perfo...   \n",
       "2  Senior managers in this unit group perform som...   \n",
       "3  Senior managers in this unit group perform som...   \n",
       "4  Senior managers in this unit group perform som...   \n",
       "\n",
       "                                             Emp_req  \\\n",
       "0  Election to a legislative body, or appointment...   \n",
       "1  A university degree or college diploma is usua...   \n",
       "2  A university degree or college diploma in busi...   \n",
       "3  A university degree or college diploma in busi...   \n",
       "4  A university degree or college diploma in engi...   \n",
       "\n",
       "                                           Exclusion  \n",
       "0  Commissioners - government services  (in 0012 ...  \n",
       "1  Legislators (0011);Middle managers in governme...  \n",
       "2  Administrators - post-secondary education and ...  \n",
       "3  Managers in art, culture, recreation and sport...  \n",
       "4  Managers in construction and facility operatio...  "
      ]
     },
     "execution_count": 3,
     "metadata": {},
     "output_type": "execute_result"
    }
   ],
   "source": [
    "# if NOT working in colab\n",
    "data_dir = './data'\n",
    "\n",
    "# if working in colab\n",
    "# data_dir = './'\n",
    "\n",
    "df_skill_type = pd.read_csv(os.path.join(data_dir, 'NOC_skilltype.csv'))\n",
    "df_major_group = pd.read_csv(os.path.join(data_dir, './NOC_majorgroup.csv'))\n",
    "df_minor_group = pd.read_csv(os.path.join(data_dir, './NOC_minorgroup.csv'))\n",
    "df = pd.read_csv(os.path.join(data_dir, './noc_data_get_byws_dealing_slash.csv'))\n",
    "df.head()"
   ]
  },
  {
   "cell_type": "markdown",
   "metadata": {},
   "source": [
    "# Get job titles"
   ]
  },
  {
   "cell_type": "code",
   "execution_count": 4,
   "metadata": {},
   "outputs": [
    {
     "data": {
      "text/plain": [
       "Index(['Noc_code', 'job_title', 'group_title', 'lead_statement', 'main_duties',\n",
       "       'Emp_req', 'Exclusion'],\n",
       "      dtype='object')"
      ]
     },
     "execution_count": 4,
     "metadata": {},
     "output_type": "execute_result"
    }
   ],
   "source": [
    "df.columns"
   ]
  },
  {
   "cell_type": "code",
   "execution_count": 147,
   "metadata": {},
   "outputs": [],
   "source": [
    "def preprocess_text(row, column):\n",
    "    text = row[column]\n",
    "    # remove redundant semi-colons\n",
    "    text = text.strip(';')\n",
    "    # hyphens are semantic noise, remove\n",
    "    text = text.replace('-', ' ')\n",
    "    return text.lower()"
   ]
  },
  {
   "cell_type": "code",
   "execution_count": 150,
   "metadata": {
    "scrolled": true
   },
   "outputs": [],
   "source": [
    "job_samples_df = pd.DataFrame(columns = ['sample_title', 'NOC_code'])\n",
    "group_titles_df = pd.DataFrame(columns = ['sample_title', 'NOC_code'])\n",
    "\n",
    "job_samples = {}\n",
    "group_titles = {}\n",
    "\n",
    "def extract_job_samples_and_group_titles(row):\n",
    "    NOC_code = int(row['Noc_code'])\n",
    "    \n",
    "    # get group titles first\n",
    "    title = row['group_title']\n",
    "    group_titles[title] = NOC_code\n",
    "    \n",
    "    # split jobs contained in row by ';' \n",
    "    # make unique set\n",
    "    # and take nonempty elements \n",
    "    jobs = [\n",
    "        j for j in  row['job_title'].split('; ')\n",
    "        if (j != '' and j != ' ')\n",
    "    ]\n",
    "    \n",
    "    # change entries such as 'chairman/woman' into separate samples, 'chairman', 'chairwoman'\n",
    "    for idx, job in enumerate(jobs):\n",
    "        if 'man/woman' in job:\n",
    "            # change original entry to 'job(man)', then append job(woman) to end of list\n",
    "            jobs[idx] = job.replace('man/woman', 'man')\n",
    "            jobs.append(job.replace('man/woman', 'woman'))\n",
    "    \n",
    "            \n",
    "    # remove duplicate entries\n",
    "    jobs = set(jobs)\n",
    "    \n",
    "    # parse counts of each job\n",
    "    row['n_sample_jobs'] = len(jobs)\n",
    "    \n",
    "    # iterate through job and add to dictionary\n",
    "    for j in jobs:\n",
    "        \n",
    "        if j not in job_samples:\n",
    "            job_samples[j] = NOC_code\n",
    "\n",
    "        # safe check, if job appears more than once, clause will print the both NOC Codes\n",
    "        else:\n",
    "            if job_samples[j] != NOC_code:\n",
    "                print(j, 'repeated', job_samples[j], NOC_code)\n",
    "    \n",
    "    return row\n",
    "   \n",
    "df = df.apply(extract_job_samples_and_group_titles, axis = 1)"
   ]
  },
  {
   "cell_type": "code",
   "execution_count": 151,
   "metadata": {},
   "outputs": [
    {
     "data": {
      "text/html": [
       "<div>\n",
       "<style scoped>\n",
       "    .dataframe tbody tr th:only-of-type {\n",
       "        vertical-align: middle;\n",
       "    }\n",
       "\n",
       "    .dataframe tbody tr th {\n",
       "        vertical-align: top;\n",
       "    }\n",
       "\n",
       "    .dataframe thead th {\n",
       "        text-align: right;\n",
       "    }\n",
       "</style>\n",
       "<table border=\"1\" class=\"dataframe\">\n",
       "  <thead>\n",
       "    <tr style=\"text-align: right;\">\n",
       "      <th></th>\n",
       "      <th>input</th>\n",
       "      <th>code</th>\n",
       "    </tr>\n",
       "  </thead>\n",
       "  <tbody>\n",
       "    <tr>\n",
       "      <th>0</th>\n",
       "      <td>first nations band council member</td>\n",
       "      <td>11</td>\n",
       "    </tr>\n",
       "    <tr>\n",
       "      <th>1</th>\n",
       "      <td>prime minister</td>\n",
       "      <td>11</td>\n",
       "    </tr>\n",
       "    <tr>\n",
       "      <th>2</th>\n",
       "      <td>member of the provincial parliament (mpp)</td>\n",
       "      <td>11</td>\n",
       "    </tr>\n",
       "    <tr>\n",
       "      <th>3</th>\n",
       "      <td>senator</td>\n",
       "      <td>11</td>\n",
       "    </tr>\n",
       "    <tr>\n",
       "      <th>4</th>\n",
       "      <td>metropolitan council chair</td>\n",
       "      <td>11</td>\n",
       "    </tr>\n",
       "  </tbody>\n",
       "</table>\n",
       "</div>"
      ],
      "text/plain": [
       "                                       input  code\n",
       "0          first nations band council member    11\n",
       "1                             prime minister    11\n",
       "2  member of the provincial parliament (mpp)    11\n",
       "3                                    senator    11\n",
       "4                 metropolitan council chair    11"
      ]
     },
     "execution_count": 151,
     "metadata": {},
     "output_type": "execute_result"
    }
   ],
   "source": [
    "job_samples_df = pd.DataFrame(job_samples.items(), columns = ['input', 'code'])\n",
    "job_samples_df['input'] = job_samples_df.apply(preprocess_text, axis = 1, args = ('input',))\n",
    "job_samples_df.head(5)"
   ]
  },
  {
   "cell_type": "code",
   "execution_count": 152,
   "metadata": {},
   "outputs": [
    {
     "data": {
      "text/html": [
       "<div>\n",
       "<style scoped>\n",
       "    .dataframe tbody tr th:only-of-type {\n",
       "        vertical-align: middle;\n",
       "    }\n",
       "\n",
       "    .dataframe tbody tr th {\n",
       "        vertical-align: top;\n",
       "    }\n",
       "\n",
       "    .dataframe thead th {\n",
       "        text-align: right;\n",
       "    }\n",
       "</style>\n",
       "<table border=\"1\" class=\"dataframe\">\n",
       "  <thead>\n",
       "    <tr style=\"text-align: right;\">\n",
       "      <th></th>\n",
       "      <th>input</th>\n",
       "      <th>code</th>\n",
       "    </tr>\n",
       "  </thead>\n",
       "  <tbody>\n",
       "    <tr>\n",
       "      <th>0</th>\n",
       "      <td>legislators</td>\n",
       "      <td>11</td>\n",
       "    </tr>\n",
       "    <tr>\n",
       "      <th>1</th>\n",
       "      <td>senior government managers and officials</td>\n",
       "      <td>12</td>\n",
       "    </tr>\n",
       "    <tr>\n",
       "      <th>2</th>\n",
       "      <td>senior managers  health, education, social and...</td>\n",
       "      <td>14</td>\n",
       "    </tr>\n",
       "    <tr>\n",
       "      <th>3</th>\n",
       "      <td>senior managers  trade, broadcasting and other...</td>\n",
       "      <td>15</td>\n",
       "    </tr>\n",
       "    <tr>\n",
       "      <th>4</th>\n",
       "      <td>senior managers  construction, transportation,...</td>\n",
       "      <td>16</td>\n",
       "    </tr>\n",
       "  </tbody>\n",
       "</table>\n",
       "</div>"
      ],
      "text/plain": [
       "                                               input  code\n",
       "0                                        legislators    11\n",
       "1           senior government managers and officials    12\n",
       "2  senior managers  health, education, social and...    14\n",
       "3  senior managers  trade, broadcasting and other...    15\n",
       "4  senior managers  construction, transportation,...    16"
      ]
     },
     "execution_count": 152,
     "metadata": {},
     "output_type": "execute_result"
    }
   ],
   "source": [
    "group_titles_df = pd.DataFrame(group_titles.items(), columns = ['input', 'code'])\n",
    "group_titles_df['input'] = group_titles_df.apply(preprocess_text, axis = 1, args = ('input',))\n",
    "group_titles_df.head(5)"
   ]
  },
  {
   "cell_type": "markdown",
   "metadata": {},
   "source": [
    "# We left off here --> Gather contexts and base occupation"
   ]
  },
  {
   "cell_type": "code",
   "execution_count": 153,
   "metadata": {},
   "outputs": [],
   "source": [
    "# train on ifidf to find keywords and base occupations. split each data point into 2 parts"
   ]
  },
  {
   "cell_type": "markdown",
   "metadata": {
    "id": "X0LsAwRkBD0l"
   },
   "source": [
    "## Train test split"
   ]
  },
  {
   "cell_type": "code",
   "execution_count": 154,
   "metadata": {},
   "outputs": [
    {
     "ename": "NameError",
     "evalue": "name 'y4' is not defined",
     "output_type": "error",
     "traceback": [
      "\u001b[1;31m---------------------------------------------------------------------------\u001b[0m",
      "\u001b[1;31mNameError\u001b[0m                                 Traceback (most recent call last)",
      "\u001b[1;32m<ipython-input-154-3d88b0f16948>\u001b[0m in \u001b[0;36m<module>\u001b[1;34m\u001b[0m\n\u001b[0;32m     11\u001b[0m \u001b[1;33m\u001b[0m\u001b[0m\n\u001b[0;32m     12\u001b[0m \u001b[1;31m# select how many digits to train on\u001b[0m\u001b[1;33m\u001b[0m\u001b[1;33m\u001b[0m\u001b[1;33m\u001b[0m\u001b[0m\n\u001b[1;32m---> 13\u001b[1;33m \u001b[0my\u001b[0m \u001b[1;33m=\u001b[0m \u001b[0my4\u001b[0m\u001b[1;33m\u001b[0m\u001b[1;33m\u001b[0m\u001b[0m\n\u001b[0m\u001b[0;32m     14\u001b[0m \u001b[1;33m\u001b[0m\u001b[0m\n\u001b[0;32m     15\u001b[0m X_train, X_test, y_train, y_test = train_test_split(\n",
      "\u001b[1;31mNameError\u001b[0m: name 'y4' is not defined"
     ]
    }
   ],
   "source": [
    "from sklearn.feature_extraction.text import TfidfVectorizer\n",
    "from sklearn.model_selection import train_test_split\n",
    " \n",
    "X = train_df['input']\n",
    "\n",
    "# from EDA NOC, not implemented here yet\n",
    "# y1 = train_df.apply(first_n_digits, axis = 1, args = (1,)).astype('int')\n",
    "# y2 = train_df.apply(first_n_digits, axis = 1, args = (2,)).astype('int')\n",
    "# y3 = train_df.apply(first_n_digits, axis = 1, args = (3,)).astype('int')\n",
    "# y4 = train_df.apply(first_n_digits, axis = 1, args = (4,)).astype('int')\n",
    "\n",
    "# select how many digits to train on\n",
    "y = y4\n",
    "\n",
    "X_train, X_test, y_train, y_test = train_test_split(\n",
    "    X, y, test_size=0.15, random_state=1\n",
    ")\n",
    "corpus = list(X_train)## Train test split"
   ]
  },
  {
   "cell_type": "markdown",
   "metadata": {
    "id": "czAUrH4jBD0p"
   },
   "source": [
    "# Transform corpus into vectors"
   ]
  },
  {
   "cell_type": "code",
   "execution_count": 522,
   "metadata": {
    "colab": {
     "base_uri": "https://localhost:8080/",
     "height": 36
    },
    "executionInfo": {
     "elapsed": 131364,
     "status": "ok",
     "timestamp": 1602282557549,
     "user": {
      "displayName": "Augusto Suarez",
      "photoUrl": "https://lh3.googleusercontent.com/a-/AOh14Gh-L8Zz0VgrA4IkXJW-J6TWQaOde13RXj7wSR0P=s64",
      "userId": "05858047290514616239"
     },
     "user_tz": 180
    },
    "id": "K-aKuFF9BD0q",
    "outputId": "bb6f7b18-78e8-4be0-a74c-cfdc64c6e227"
   },
   "outputs": [
    {
     "data": {
      "text/plain": [
       "['vectorizer.joblib']"
      ]
     },
     "execution_count": 522,
     "metadata": {},
     "output_type": "execute_result"
    }
   ],
   "source": [
    "# for effient load an dstore of objects w/ large numpy arrays internally\n",
    "from joblib import dump, load\n",
    "\n",
    "# Remove highly uncommon word (freq < 5) from corpus to reduce dimensionality\n",
    "vectorizer = TfidfVectorizer(min_df=5, \n",
    "                             stop_words=\"english\",\n",
    "                            lowercase=True)\n",
    "vectorized_X_train = vectorizer.fit_transform(corpus)\n",
    "vectorized_X_train.shape\n",
    "\n",
    "dump(vectorizer, 'vectorizer.joblib') "
   ]
  },
  {
   "cell_type": "markdown",
   "metadata": {
    "id": "nce5IPNjBD1X"
   },
   "source": [
    "# Transform test data"
   ]
  },
  {
   "cell_type": "code",
   "execution_count": 533,
   "metadata": {
    "colab": {
     "base_uri": "https://localhost:8080/",
     "height": 36
    },
    "executionInfo": {
     "elapsed": 352692,
     "status": "ok",
     "timestamp": 1602282779031,
     "user": {
      "displayName": "Augusto Suarez",
      "photoUrl": "https://lh3.googleusercontent.com/a-/AOh14Gh-L8Zz0VgrA4IkXJW-J6TWQaOde13RXj7wSR0P=s64",
      "userId": "05858047290514616239"
     },
     "user_tz": 180
    },
    "id": "W2AMZNwwBD1X",
    "outputId": "b24697f8-119d-4087-9912-fb8bd1443117",
    "scrolled": true
   },
   "outputs": [
    {
     "name": "stdout",
     "output_type": "stream",
     "text": [
      "(5464, 3430)\n"
     ]
    }
   ],
   "source": [
    "# Transform new data using existing TFIDF model\n",
    "\n",
    "if vectorizer is None:\n",
    "    vectorizer = load('vectorizer.joblib')\n",
    "\n",
    "vectorized_X_test = vectorizer.transform(X_test)\n",
    "print(vectorized_X_test.shape)"
   ]
  },
  {
   "cell_type": "code",
   "execution_count": 172,
   "metadata": {},
   "outputs": [],
   "source": [
    "class LRScheduler:\n",
    "    \"\"\"\n",
    "    class in charge of updating the learning rate as training progresses\n",
    "    \"\"\"\n",
    "    def __init__(self,\n",
    "                 epochs,\n",
    "                 num_milestones,\n",
    "                 initial_alpha=0.01,\n",
    "                 min_alpha = 1e-6,\n",
    "                 gamma=1,\n",
    "                 cosine_oscillations=2,\n",
    "                 cosine_scaling_factor=5e-6):\n",
    "        cosine_oscillations = cosine_oscillations\n",
    "        cosine_scaling_factor = cosine_scaling_factor\n",
    "        \n",
    "        # factor by which we multiply LR at each milestone\n",
    "        self.gamma = gamma\n",
    "        self.milestones = np.arange(epochs/num_milestones + 1, epochs, epochs/num_milestones).astype(int)\n",
    "        \n",
    "        self.min_alpha = min_alpha\n",
    "        self.alpha = initial_alpha\n",
    "        \n",
    "        # changes to apply to learning rate\n",
    "        self.LR_schedule = np.cos(np.linspace(0, 2*np.pi*cosine_oscillations, epochs)) * cosine_scaling_factor\n",
    "\n",
    "    def update(self, idx):\n",
    "        \"\"\"\n",
    "        Check if learning rate is valid (positive, and > min_alpha), then update according to self.LR_schedule\n",
    "        \"\"\"\n",
    "        shift = self.LR_schedule[idx]\n",
    "        \n",
    "        # milestone?\n",
    "        if idx in self.milestones:\n",
    "            print(idx)\n",
    "            scaled_alpha = self.alpha*self.gamma\n",
    "            # validity check\n",
    "        # validity check    self.alpha = scaled_alpha if self.scaled_alpha > self.min_alpha else self.min_alpha\n",
    "        \n",
    "        self.alpha = self.alpha + shift if self.alpha + shift > self.min_alpha else self.min_alpha \n",
    "        assert self.alpha > 0 and self.alpha > self.min_alpha, \"Alpha invalid: {}\".format(self.alpha)\n",
    "        return self.alpha"
   ]
  },
  {
   "cell_type": "code",
   "execution_count": 173,
   "metadata": {},
   "outputs": [],
   "source": [
    "from matplotlib import pyplot as plt\n",
    "from tqdm import tqdm"
   ]
  },
  {
   "cell_type": "code",
   "execution_count": 175,
   "metadata": {},
   "outputs": [
    {
     "name": "stderr",
     "output_type": "stream",
     "text": [
      "\n",
      "100%|██████████| 4096/4096 [00:00<00:00, 164127.38it/s]"
     ]
    },
    {
     "name": "stdout",
     "output_type": "stream",
     "text": [
      "0.3\n",
      "1025\n",
      "2049\n",
      "3073\n"
     ]
    },
    {
     "name": "stderr",
     "output_type": "stream",
     "text": [
      "\n"
     ]
    }
   ],
   "source": [
    "scheduler = LRScheduler(cosine_oscillations = 10,\n",
    "                        epochs = 4096,\n",
    "                        gamma = 0.3,\n",
    "                        num_milestones = 4,\n",
    "                        initial_alpha = 0.01,\n",
    "                        min_alpha = 0.00025)\n",
    "\n",
    "\n",
    "\n",
    "alpha_plot = [alpha]\n",
    "print(scheduler.gamma)\n",
    "for idx, shift in enumerate(tqdm(LR_schedule)):\n",
    "    scheduler.update(idx)\n",
    "    \n",
    "    alpha_plot.append(scheduler.alpha)\n",
    "    "
   ]
  },
  {
   "cell_type": "code",
   "execution_count": 176,
   "metadata": {},
   "outputs": [
    {
     "data": {
      "text/plain": [
       "[<matplotlib.lines.Line2D at 0x219910e3608>]"
      ]
     },
     "execution_count": 176,
     "metadata": {},
     "output_type": "execute_result"
    },
    {
     "data": {
      "image/png": "[encoded data removed]",
      "text/plain": [
       "<Figure size 432x288 with 1 Axes>"
      ]
     },
     "metadata": {
      "needs_background": "light"
     },
     "output_type": "display_data"
    }
   ],
   "source": [
    "plt.plot(alpha_plot)"
   ]
  },
  {
   "cell_type": "code",
   "execution_count": null,
   "metadata": {},
   "outputs": [],
   "source": []
  }
 ],
 "metadata": {
  "kernelspec": {
   "display_name": "Python 3",
   "language": "python",
   "name": "python3"
  },
  "language_info": {
   "codemirror_mode": {
    "name": "ipython",
    "version": 3
   },
   "file_extension": ".py",
   "mimetype": "text/x-python",
   "name": "python",
   "nbconvert_exporter": "python",
   "pygments_lexer": "ipython3",
   "version": "3.7.9"
  }
 },
 "nbformat": 4,
 "nbformat_minor": 2
}
