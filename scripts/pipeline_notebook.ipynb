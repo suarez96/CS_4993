{
 "cells": [
  {
   "cell_type": "code",
   "execution_count": 1,
   "metadata": {},
   "outputs": [
    {
     "name": "stderr",
     "output_type": "stream",
     "text": [
      "[nltk_data] Downloading package punkt to\n",
      "[nltk_data]     C:\\Users\\Gradlab\\AppData\\Roaming\\nltk_data...\n",
      "[nltk_data]   Package punkt is already up-to-date!\n"
     ]
    }
   ],
   "source": [
    "import pickle\n",
    "import pandas as pd\n",
    "from Embedder import Embedder, tfidfEmbedder\n",
    "from OccupationPreprocessor import OccupationPreprocessor\n",
    "import numpy as np"
   ]
  },
  {
   "cell_type": "code",
   "execution_count": 2,
   "metadata": {},
   "outputs": [],
   "source": [
    "with open('../first_dig_tfidf_clfs.pkl', 'rb') as f:\n",
    "    clf1 = pickle.load(f)\n",
    "    \n",
    "with open('../second_third_fourth_dig_tfidf_clfs.pkl', 'rb') as f2:\n",
    "    clf2 = pickle.load(f2)"
   ]
  },
  {
   "cell_type": "code",
   "execution_count": 4,
   "metadata": {},
   "outputs": [],
   "source": [
    "TEST_FILE = 3"
   ]
  },
  {
   "cell_type": "code",
   "execution_count": 5,
   "metadata": {},
   "outputs": [],
   "source": [
    "if TEST_FILE == 0:\n",
    "    tfidf_test_set = OccupationPreprocessor.prepare_df(\n",
    "        '../Data/ATP_gold_standard.xlsx',\n",
    "        input_column='CURRENT_JOB_TITLE',\n",
    "        code_column='NOC code by PATH',\n",
    "        n_digits=4\n",
    "    )\n",
    "    \n",
    "    NOCv5 = OccupationPreprocessor.prepare_df(\n",
    "        '../Data/ATP_gold_standard.xlsx',\n",
    "        input_column='NOC code by PATH',\n",
    "        code_column='V5_NOC',\n",
    "        n_digits=4\n",
    "    )\n",
    "    \n",
    "    NOCv6 = OccupationPreprocessor.prepare_df(\n",
    "        '../Data/ATP_gold_standard.xlsx',\n",
    "        input_column='NOC code by PATH',\n",
    "        code_column='V6_NOC',\n",
    "        n_digits=4\n",
    "    )\n",
    "    \n",
    "elif TEST_FILE == 1:\n",
    "    tfidf_test_set = pd.DataFrame(\n",
    "        pd.read_csv('../Data/tfidf_test_set.csv')\n",
    "    )\n",
    "    \n",
    "# A-B test set with train data\n",
    "elif TEST_FILE == 2:\n",
    "    tfidf_test_set = pd.DataFrame(\n",
    "        pd.read_csv('../Data/overlap_test_set_v4_acanoc_with_train_data.csv')\n",
    "    )\n",
    "    \n",
    "# A-B test set no train data\n",
    "elif TEST_FILE == 3:\n",
    "    tfidf_test_set = pd.DataFrame(\n",
    "        pd.read_csv('../Data/overlap_test_set_v4_acanoc_no_train_data.csv')\n",
    "    )\n",
    "    \n",
    "tfidf_train_set = pd.DataFrame(\n",
    "    pd.read_csv('../Data/tfidf_train_set.csv')\n",
    ")"
   ]
  },
  {
   "cell_type": "code",
   "execution_count": 6,
   "metadata": {},
   "outputs": [
    {
     "name": "stdout",
     "output_type": "stream",
     "text": [
      "Model loaded from ../vectorizer.joblib\n"
     ]
    }
   ],
   "source": [
    "embedder = tfidfEmbedder()"
   ]
  },
  {
   "cell_type": "code",
   "execution_count": 7,
   "metadata": {},
   "outputs": [],
   "source": [
    "sample_size = 500 if TEST_FILE == 0 else 100\n",
    "sample_pipeline_df = tfidf_test_set.sample(sample_size)#, random_state=123)#.drop_duplicates()"
   ]
  },
  {
   "cell_type": "markdown",
   "metadata": {},
   "source": [
    "### Metrics for alternative classifiers"
   ]
  },
  {
   "cell_type": "code",
   "execution_count": 12,
   "metadata": {},
   "outputs": [
    {
     "name": "stdout",
     "output_type": "stream",
     "text": [
      "Accuracy to Beat: 0.39082209656372335 f1: 0.3582511168039559\n"
     ]
    }
   ],
   "source": [
    "from sklearn.metrics import accuracy_score, f1_score\n",
    "def clean_noc_double_codes(row, column):\n",
    "    if ',' in row[column]:\n",
    "        row[column] = str(row[column].strip('\\'').split(',')[1])\n",
    "    return row\n",
    "\n",
    "if TEST_FILE == 0:\n",
    "    NOCv5 = NOCv5.apply(clean_noc_double_codes, axis =1 , args = ('input',))\n",
    "    NOCv6 = NOCv6.apply(clean_noc_double_codes, axis =1 , args = ('input',))\n",
    "    print('NOCv5 Ensemble metrics total. Accuracy:{}, f1:{}\\n'.format(\n",
    "        accuracy_score(NOCv5['input'].astype(int), NOCv5['code'].astype(int)), \n",
    "        f1_score(NOCv5['input'].astype(int), NOCv5['code'].astype(int), average = 'macro')\n",
    "    ))\n",
    "    print('NOCv6 Ensemble metrics total. Accuracy:{}, f1:{}\\n'.format(\n",
    "        accuracy_score(NOCv6['input'].astype(int), NOCv6['code'].astype(int)), \n",
    "        f1_score(NOCv6['input'].astype(int), NOCv6['code'].astype(int), average = 'macro')\n",
    "    ))\n",
    "elif TEST_FILE == 2 or TEST_FILE == 3:\n",
    "    print(\n",
    "        \"Accuracy to Beat:\",\n",
    "        accuracy_score(\n",
    "            sample_pipeline_df['code'], \n",
    "            sample_pipeline_df['v4_pred']\n",
    "        ),\n",
    "        \"f1:\", f1_score(\n",
    "            sample_pipeline_df['code'], \n",
    "            sample_pipeline_df['v4_pred'],\n",
    "            average='macro'\n",
    "        )\n",
    "    )"
   ]
  },
  {
   "cell_type": "markdown",
   "metadata": {},
   "source": [
    "### Check exact matches"
   ]
  },
  {
   "cell_type": "code",
   "execution_count": 13,
   "metadata": {},
   "outputs": [],
   "source": [
    "tfidf_test_vectors = embedder.embed(sample_pipeline_df['input'])"
   ]
  },
  {
   "cell_type": "code",
   "execution_count": 14,
   "metadata": {},
   "outputs": [],
   "source": [
    "tfidf_test_df = pd.DataFrame({\n",
    "    'svm_pred':clf1['SVM'].predict(tfidf_test_vectors),\n",
    "    'rf_pred':clf1['RF'].predict(tfidf_test_vectors),\n",
    "    'knn_pred':clf1['KNN'].predict(tfidf_test_vectors),\n",
    "    'code':sample_pipeline_df['code'].astype(str)\n",
    "})"
   ]
  },
  {
   "cell_type": "code",
   "execution_count": 15,
   "metadata": {},
   "outputs": [],
   "source": [
    "tfidf_test_df['exact_match'] = sample_pipeline_df['input'].apply(embedder.check_exact_match, args=(embedder.train_database,))"
   ]
  },
  {
   "cell_type": "code",
   "execution_count": 16,
   "metadata": {},
   "outputs": [],
   "source": [
    "tfidf_test_df['p_all'] = tfidf_test_df.apply(tfidfEmbedder.ensemble_predict, axis = 1, args = (\n",
    "    ['rf_pred','svm_pred','knn_pred'], 'svm_pred',\n",
    "))"
   ]
  },
  {
   "cell_type": "code",
   "execution_count": 17,
   "metadata": {},
   "outputs": [],
   "source": [
    "tfidf_test_df['vectors'] = tfidf_test_vectors.toarray().tolist()"
   ]
  },
  {
   "cell_type": "code",
   "execution_count": 18,
   "metadata": {},
   "outputs": [],
   "source": [
    "# put in pipeline.py\n",
    "def pipeline(row):\n",
    "    np_array = np.array(row['vectors']).reshape(1, -1)\n",
    "    p_1 = row['p_all']\n",
    "    row['svm_pred_234'] = clf2[p_1]['SVM'].predict(np_array)[0]\n",
    "    row['rf_pred_234'] = clf2[p_1]['RF'].predict(np_array)[0]\n",
    "    row['knn_pred_234'] = clf2[p_1]['KNN'].predict(np_array)[0]\n",
    "    return row"
   ]
  },
  {
   "cell_type": "code",
   "execution_count": 19,
   "metadata": {},
   "outputs": [
    {
     "name": "stdout",
     "output_type": "stream",
     "text": [
      "time to predict on 13794 samples: 3231.93 seconds (0.234 s/sample)\n"
     ]
    }
   ],
   "source": [
    "import time\n",
    "start_time = time.time()\n",
    "tfidf_test_df = tfidf_test_df.apply(pipeline, axis = 1)\n",
    "elapsed = time.time()-start_time\n",
    "print('time to predict on {0} samples: {1:.2f} seconds ({2:.3f} s/sample)'.format(sample_pipeline_df.shape[0],\n",
    "                                                         elapsed, \n",
    "                                                        elapsed/sample_pipeline_df.shape[0])\n",
    "     )"
   ]
  },
  {
   "cell_type": "code",
   "execution_count": 20,
   "metadata": {},
   "outputs": [],
   "source": [
    "tfidf_test_df['p_all_234'] = tfidf_test_df.apply(tfidfEmbedder.ensemble_predict, axis = 1, args = (\n",
    "    ['svm_pred_234','rf_pred_234','knn_pred_234'], 'knn_pred_234',\n",
    "))"
   ]
  },
  {
   "cell_type": "markdown",
   "metadata": {},
   "source": [
    "### performance w/o exact match"
   ]
  },
  {
   "cell_type": "code",
   "execution_count": 21,
   "metadata": {},
   "outputs": [
    {
     "name": "stdout",
     "output_type": "stream",
     "text": [
      "KNN acc:0.42105263157894735, f1-macro:0.33485362754957915\n",
      "SVM acc:0.4483833550819197, f1-macro:0.3789583334460654\n",
      "RF acc:0.4391039582427142, f1-macro:0.3671925336906615\n",
      "Ensemble metrics total. Accuracy:0.4572277801942874, f1:0.3765973041680976\n",
      "\n"
     ]
    }
   ],
   "source": [
    "from sklearn.metrics import accuracy_score, f1_score\n",
    "\n",
    "for classifier in ['knn','svm', 'rf']:\n",
    "    print('{} acc:{}, f1-macro:{}'.format(classifier.upper(), \n",
    "                                    accuracy_score(\n",
    "                                        tfidf_test_df['{}_pred_234'.format(classifier)].astype(int), \n",
    "                                        tfidf_test_df['code'].astype(int)\n",
    "                                    ),\n",
    "                                    f1_score(\n",
    "                                        tfidf_test_df['{}_pred_234'.format(classifier)].astype(int),\n",
    "                                        tfidf_test_df['code'].astype(int), average = 'macro')\n",
    "                                   )\n",
    "     )\n",
    "print('Ensemble metrics total. Accuracy:{}, f1:{}\\n'.format(\n",
    "    accuracy_score(tfidf_test_df['p_all_234'].astype(int), tfidf_test_df['code'].astype(int)), \n",
    "    f1_score(tfidf_test_df['p_all_234'].astype(int), tfidf_test_df['code'].astype(int), average = 'macro')\n",
    "))"
   ]
  },
  {
   "cell_type": "markdown",
   "metadata": {},
   "source": [
    "### With exact match added"
   ]
  },
  {
   "cell_type": "code",
   "execution_count": 22,
   "metadata": {},
   "outputs": [
    {
     "name": "stdout",
     "output_type": "stream",
     "text": [
      "Ensemble metrics after checking for exact match total. Accuracy:0.4585326953748006, f1:0.37790825712765774\n",
      "\n"
     ]
    }
   ],
   "source": [
    "tfidf_test_df['Hybrid_pred_exact_match'] = tfidf_test_df.apply(\n",
    "    lambda row : row['p_all_234'] if row['exact_match'] == -1 else row['exact_match'], axis = 1\n",
    ")\n",
    "print('Ensemble metrics after checking for exact match total. Accuracy:{}, f1:{}\\n'.format(\n",
    "    accuracy_score(tfidf_test_df['Hybrid_pred_exact_match'].astype(int), tfidf_test_df['code'].astype(int)), \n",
    "    f1_score(tfidf_test_df['Hybrid_pred_exact_match'].astype(int), tfidf_test_df['code'].astype(int), average = 'macro')\n",
    "))"
   ]
  },
  {
   "cell_type": "code",
   "execution_count": 23,
   "metadata": {},
   "outputs": [
    {
     "data": {
      "text/html": [
       "<div>\n",
       "<style scoped>\n",
       "    .dataframe tbody tr th:only-of-type {\n",
       "        vertical-align: middle;\n",
       "    }\n",
       "\n",
       "    .dataframe tbody tr th {\n",
       "        vertical-align: top;\n",
       "    }\n",
       "\n",
       "    .dataframe thead th {\n",
       "        text-align: right;\n",
       "    }\n",
       "</style>\n",
       "<table border=\"1\" class=\"dataframe\">\n",
       "  <thead>\n",
       "    <tr style=\"text-align: right;\">\n",
       "      <th></th>\n",
       "      <th>svm_pred</th>\n",
       "      <th>rf_pred</th>\n",
       "      <th>knn_pred</th>\n",
       "      <th>code</th>\n",
       "      <th>exact_match</th>\n",
       "      <th>p_all</th>\n",
       "      <th>svm_pred_234</th>\n",
       "      <th>rf_pred_234</th>\n",
       "      <th>knn_pred_234</th>\n",
       "      <th>p_all_234</th>\n",
       "      <th>Hybrid_pred_exact_match</th>\n",
       "    </tr>\n",
       "  </thead>\n",
       "  <tbody>\n",
       "    <tr>\n",
       "      <th>0</th>\n",
       "      <td>0</td>\n",
       "      <td>9</td>\n",
       "      <td>0</td>\n",
       "      <td>11</td>\n",
       "      <td>-1</td>\n",
       "      <td>0</td>\n",
       "      <td>11</td>\n",
       "      <td>11</td>\n",
       "      <td>414</td>\n",
       "      <td>11</td>\n",
       "      <td>11</td>\n",
       "    </tr>\n",
       "    <tr>\n",
       "      <th>1</th>\n",
       "      <td>0</td>\n",
       "      <td>9</td>\n",
       "      <td>0</td>\n",
       "      <td>11</td>\n",
       "      <td>-1</td>\n",
       "      <td>0</td>\n",
       "      <td>11</td>\n",
       "      <td>11</td>\n",
       "      <td>11</td>\n",
       "      <td>11</td>\n",
       "      <td>11</td>\n",
       "    </tr>\n",
       "    <tr>\n",
       "      <th>2</th>\n",
       "      <td>0</td>\n",
       "      <td>9</td>\n",
       "      <td>0</td>\n",
       "      <td>11</td>\n",
       "      <td>-1</td>\n",
       "      <td>0</td>\n",
       "      <td>12</td>\n",
       "      <td>821</td>\n",
       "      <td>432</td>\n",
       "      <td>432</td>\n",
       "      <td>432</td>\n",
       "    </tr>\n",
       "    <tr>\n",
       "      <th>3</th>\n",
       "      <td>0</td>\n",
       "      <td>9</td>\n",
       "      <td>0</td>\n",
       "      <td>11</td>\n",
       "      <td>-1</td>\n",
       "      <td>0</td>\n",
       "      <td>11</td>\n",
       "      <td>11</td>\n",
       "      <td>414</td>\n",
       "      <td>11</td>\n",
       "      <td>11</td>\n",
       "    </tr>\n",
       "    <tr>\n",
       "      <th>4</th>\n",
       "      <td>0</td>\n",
       "      <td>9</td>\n",
       "      <td>0</td>\n",
       "      <td>11</td>\n",
       "      <td>-1</td>\n",
       "      <td>0</td>\n",
       "      <td>11</td>\n",
       "      <td>11</td>\n",
       "      <td>11</td>\n",
       "      <td>11</td>\n",
       "      <td>11</td>\n",
       "    </tr>\n",
       "    <tr>\n",
       "      <th>...</th>\n",
       "      <td>...</td>\n",
       "      <td>...</td>\n",
       "      <td>...</td>\n",
       "      <td>...</td>\n",
       "      <td>...</td>\n",
       "      <td>...</td>\n",
       "      <td>...</td>\n",
       "      <td>...</td>\n",
       "      <td>...</td>\n",
       "      <td>...</td>\n",
       "      <td>...</td>\n",
       "    </tr>\n",
       "    <tr>\n",
       "      <th>13789</th>\n",
       "      <td>3</td>\n",
       "      <td>3</td>\n",
       "      <td>4</td>\n",
       "      <td>3011</td>\n",
       "      <td>-1</td>\n",
       "      <td>3</td>\n",
       "      <td>3011</td>\n",
       "      <td>3011</td>\n",
       "      <td>3011</td>\n",
       "      <td>3011</td>\n",
       "      <td>3011</td>\n",
       "    </tr>\n",
       "    <tr>\n",
       "      <th>13790</th>\n",
       "      <td>5</td>\n",
       "      <td>4</td>\n",
       "      <td>5</td>\n",
       "      <td>4021</td>\n",
       "      <td>-1</td>\n",
       "      <td>5</td>\n",
       "      <td>5254</td>\n",
       "      <td>5254</td>\n",
       "      <td>5241</td>\n",
       "      <td>5254</td>\n",
       "      <td>5254</td>\n",
       "    </tr>\n",
       "    <tr>\n",
       "      <th>13791</th>\n",
       "      <td>0</td>\n",
       "      <td>0</td>\n",
       "      <td>0</td>\n",
       "      <td>811</td>\n",
       "      <td>-1</td>\n",
       "      <td>0</td>\n",
       "      <td>631</td>\n",
       "      <td>621</td>\n",
       "      <td>311</td>\n",
       "      <td>311</td>\n",
       "      <td>311</td>\n",
       "    </tr>\n",
       "    <tr>\n",
       "      <th>13792</th>\n",
       "      <td>6</td>\n",
       "      <td>9</td>\n",
       "      <td>2</td>\n",
       "      <td>4423</td>\n",
       "      <td>-1</td>\n",
       "      <td>6</td>\n",
       "      <td>6541</td>\n",
       "      <td>6541</td>\n",
       "      <td>6541</td>\n",
       "      <td>6541</td>\n",
       "      <td>6541</td>\n",
       "    </tr>\n",
       "    <tr>\n",
       "      <th>13793</th>\n",
       "      <td>9</td>\n",
       "      <td>9</td>\n",
       "      <td>9</td>\n",
       "      <td>9461</td>\n",
       "      <td>-1</td>\n",
       "      <td>9</td>\n",
       "      <td>9232</td>\n",
       "      <td>9241</td>\n",
       "      <td>9241</td>\n",
       "      <td>9241</td>\n",
       "      <td>9241</td>\n",
       "    </tr>\n",
       "  </tbody>\n",
       "</table>\n",
       "<p>13794 rows × 11 columns</p>\n",
       "</div>"
      ],
      "text/plain": [
       "      svm_pred rf_pred knn_pred  code  exact_match p_all  svm_pred_234  \\\n",
       "0            0       9        0    11           -1     0            11   \n",
       "1            0       9        0    11           -1     0            11   \n",
       "2            0       9        0    11           -1     0            12   \n",
       "3            0       9        0    11           -1     0            11   \n",
       "4            0       9        0    11           -1     0            11   \n",
       "...        ...     ...      ...   ...          ...   ...           ...   \n",
       "13789        3       3        4  3011           -1     3          3011   \n",
       "13790        5       4        5  4021           -1     5          5254   \n",
       "13791        0       0        0   811           -1     0           631   \n",
       "13792        6       9        2  4423           -1     6          6541   \n",
       "13793        9       9        9  9461           -1     9          9232   \n",
       "\n",
       "       rf_pred_234  knn_pred_234  p_all_234  Hybrid_pred_exact_match  \n",
       "0               11           414         11                       11  \n",
       "1               11            11         11                       11  \n",
       "2              821           432        432                      432  \n",
       "3               11           414         11                       11  \n",
       "4               11            11         11                       11  \n",
       "...            ...           ...        ...                      ...  \n",
       "13789         3011          3011       3011                     3011  \n",
       "13790         5254          5241       5254                     5254  \n",
       "13791          621           311        311                      311  \n",
       "13792         6541          6541       6541                     6541  \n",
       "13793         9241          9241       9241                     9241  \n",
       "\n",
       "[13794 rows x 11 columns]"
      ]
     },
     "execution_count": 23,
     "metadata": {},
     "output_type": "execute_result"
    }
   ],
   "source": [
    "tfidf_test_df.drop(columns =['vectors'])"
   ]
  },
  {
   "cell_type": "code",
   "execution_count": null,
   "metadata": {},
   "outputs": [],
   "source": []
  }
 ],
 "metadata": {
  "kernelspec": {
   "display_name": "Python 3",
   "language": "python",
   "name": "python3"
  },
  "language_info": {
   "codemirror_mode": {
    "name": "ipython",
    "version": 3
   },
   "file_extension": ".py",
   "mimetype": "text/x-python",
   "name": "python",
   "nbconvert_exporter": "python",
   "pygments_lexer": "ipython3",
   "version": "3.7.9"
  }
 },
 "nbformat": 4,
 "nbformat_minor": 4
}
